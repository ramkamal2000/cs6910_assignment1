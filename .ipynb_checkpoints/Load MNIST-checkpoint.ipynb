{
 "cells": [
  {
   "cell_type": "code",
   "execution_count": null,
   "metadata": {},
   "outputs": [],
   "source": [
    "def load_fashion_mnist(return_images=False):\n",
    "\n",
    "  (x_train, y_train), (x_test, y_test) = mnist.load_data()\n",
    "\n",
    "  train_shuffler = np.random.shuffle(np.arange(50000))\n",
    "  x_train, y_train = x_train[train_shuffler][0], y_train[train_shuffler][0]\n",
    "\n",
    "  test_shuffler = np.random.shuffle(np.arange(10000))\n",
    "  x_test, y_test = x_test[test_shuffler][0], y_test[test_shuffler][0]\n",
    "\n",
    "  x_train = np.array(x_train/255).astype('float32')\n",
    "  x_test = np.array(x_test/255).astype('float32')\n",
    "\n",
    "  x_train, x_val = x_train[:54000], x_train[54000:]\n",
    "  y_train, y_val = y_train[:54000], y_train[54000:]\n",
    "\n",
    "\n",
    "  if (return_images==False):\n",
    "    return {\n",
    "        'train': {\n",
    "            'X': x_train.reshape([54000, 784]),\n",
    "            'Y': y_train.reshape([54000])\n",
    "        },\n",
    "        'val': {\n",
    "            'X': x_val.reshape([6000, 784]),\n",
    "            'Y': y_val.reshape([6000])\n",
    "        },\n",
    "        'test': {\n",
    "            'X': x_test.reshape([10000, 784]),\n",
    "            'Y': y_test.reshape([10000])\n",
    "        }\n",
    "  }\n",
    "\n",
    "  else :\n",
    "    return {\n",
    "      'train': {\n",
    "          \t'X': x_train,\n",
    "          \t'Y': y_train\n",
    "      },\n",
    "      'val': {\n",
    "            'X': x_val,\n",
    "            'Y': y_val\n",
    "      },\n",
    "      'test': {\n",
    "            'X': x_test,\n",
    "            'Y': y_test\n",
    "      }\n",
    "    }\n"
   ]
  }
 ],
 "metadata": {
  "kernelspec": {
   "display_name": "Python 3.7.9 64-bit ('cs6910': conda)",
   "language": "python",
   "name": "python37964bitcs6910conda7b374cf698b043e196958aa84033582a"
  },
  "language_info": {
   "codemirror_mode": {
    "name": "ipython",
    "version": 3
   },
   "file_extension": ".py",
   "mimetype": "text/x-python",
   "name": "python",
   "nbconvert_exporter": "python",
   "pygments_lexer": "ipython3",
   "version": "3.7.9"
  }
 },
 "nbformat": 4,
 "nbformat_minor": 4
}
