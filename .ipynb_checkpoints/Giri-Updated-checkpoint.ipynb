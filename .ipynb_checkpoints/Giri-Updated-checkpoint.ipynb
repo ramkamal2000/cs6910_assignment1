{
 "cells": [
  {
   "cell_type": "code",
   "execution_count": 1,
   "metadata": {
    "id": "y_k91V7UYQl6"
   },
   "outputs": [],
   "source": [
    "import keras\n",
    "import numpy as np\n",
    "from keras.datasets import fashion_mnist\n",
    "from tqdm.auto import tqdm\n",
    "import tensorflow as tf\n",
    "import wandb\n",
    "import pprint"
   ]
  },
  {
   "cell_type": "markdown",
   "metadata": {
    "id": "IjPTg70-YXjM"
   },
   "source": [
    "# Question 1"
   ]
  },
  {
   "cell_type": "code",
   "execution_count": 2,
   "metadata": {
    "id": "ESi2E1-zC6GV"
   },
   "outputs": [],
   "source": [
    "def load_fashion_mnist(return_images=False):\n",
    "\n",
    "  (x_train, y_train), (x_test, y_test) = fashion_mnist.load_data()\n",
    "\n",
    "  train_shuffler = np.random.shuffle(np.arange(50000))\n",
    "  x_train, y_train = x_train[train_shuffler][0], y_train[train_shuffler][0]\n",
    "\n",
    "  test_shuffler = np.random.shuffle(np.arange(10000))\n",
    "  x_test, y_test = x_test[test_shuffler][0], y_test[test_shuffler][0]\n",
    "\n",
    "  x_train = np.array(x_train/255).astype('float32')\n",
    "  x_test = np.array(x_test/255).astype('float32')\n",
    "\n",
    "  x_train, x_val = x_train[:50000], x_train[50000:]\n",
    "  y_train, y_val = y_train[:50000], y_train[50000:]\n",
    "\n",
    "\n",
    "  if (return_images==False):\n",
    "    return {\n",
    "        'train': {\n",
    "            'X': x_train.reshape([50000, 784]),\n",
    "            'Y': y_train.reshape([50000])\n",
    "        },\n",
    "        'val': {\n",
    "            'X': x_val.reshape([10000, 784]),\n",
    "            'Y': y_val.reshape([10000])\n",
    "        },\n",
    "        'test': {\n",
    "            'X': x_test.reshape([10000, 784]),\n",
    "            'Y': y_test.reshape([10000])\n",
    "        }\n",
    "  }\n",
    "\n",
    "  else :\n",
    "    return {\n",
    "      'train': {\n",
    "          \t'X': x_train,\n",
    "          \t'Y': y_train\n",
    "      },\n",
    "      'val': {\n",
    "            'X': x_val,\n",
    "            'Y': y_val\n",
    "      },\n",
    "      'test': {\n",
    "            'X': x_test,\n",
    "            'Y': y_test\n",
    "      }\n",
    "    }\n",
    "\n",
    "\n",
    "data = load_fashion_mnist()"
   ]
  },
  {
   "cell_type": "markdown",
   "metadata": {
    "id": "Yr-EXaU4oiZ_"
   },
   "source": [
    "# Question 2"
   ]
  },
  {
   "cell_type": "code",
   "execution_count": 3,
   "metadata": {
    "id": "23nXB0VBojt0"
   },
   "outputs": [],
   "source": [
    "class neural_network:\n",
    "\n",
    "  # constructor function - initializes weights\n",
    "  def __init__(self, dict_layers, initializer):\n",
    "\n",
    "    self.weights_list = []\n",
    "    self.biases_list = []\n",
    "    self.dict_layers= dict_layers\n",
    "\n",
    "    self.weights_list, self.biases_list = wandb_initializer(dict_layers, self.weights_list, self.biases_list, initializer)\n",
    "\n",
    "  # function to compute forward propogation\n",
    "  def forward_prop(self, W, b, X, Y, activation_func):\n",
    "\n",
    "    A = []\n",
    "    H = []\n",
    "    \n",
    "    H_pre = X\n",
    "    \n",
    "    L = self.dict_layers['num_hidden_layers']\n",
    "\n",
    "    for i in range(L) :\n",
    "      A.append(W[i] @ H_pre + b[i])\n",
    "      H_pre = getattr(activation, activation_func)(A[i])\n",
    "      H.append(H_pre)\n",
    "    \n",
    "    A.append(W[L] @ H_pre + b[L])\n",
    "    \n",
    "    Y_hat = activation.softmax(A[L])\n",
    "    \n",
    "    return {\n",
    "        'A' : A,\n",
    "        'H' : H,\n",
    "        'Y_hat' : Y_hat\n",
    "    }\n",
    "\n",
    "  def self_forward_prop(self, X, Y, activation_func) :\n",
    "\n",
    "    temp = self.forward_prop(self.weights_list,self.biases_list, X, Y, activation_func)\n",
    "    return temp\n",
    "\n",
    "  def back_prop(self, W, b, A, H, Y_hat, X, Y,activation_func):\n",
    "\n",
    "    batch_size = len(Y)\n",
    "    \n",
    "    del_w = []\n",
    "    del_b = []\n",
    "    L = self.dict_layers['num_hidden_layers']\n",
    "    \n",
    "    E = np.zeros(Y_hat.shape)\n",
    "    E[Y,np.arange(batch_size)] = 1\n",
    "    # for j in range(len(Y)):\n",
    "    #     E[int(Y[j])][j] = 1\n",
    "    # what shape do you need y_hat and e to be in? Column or row vector?\n",
    "    grad_A = -(E - Y_hat)\n",
    "    #print('grad_a', grad_a.shape)\n",
    "\n",
    "    for i in range(L,-1,-1) :\n",
    "\n",
    "      temp1 = grad_A.reshape(-1,batch_size)\n",
    "      \n",
    "      if i==0 :\n",
    "        temp2 = X.T\n",
    "      else :\n",
    "        temp2 = H[i-1].reshape((batch_size ,-1))\n",
    "\n",
    "      del_w.append(temp1 @ temp2)\n",
    "      del_b.append(grad_A)\n",
    "\n",
    "      if(i!=0) :\n",
    "        grad_H = W[i].T @ grad_A      \n",
    "        grad_A = grad_H * getattr(activation,activation_func+'_der')(H[i-1])\n",
    "\n",
    "    return {\n",
    "        'dw' : del_w,\n",
    "        'db' : del_b\n",
    "    }\n",
    "\n",
    "  def self_back_prop(self, A, H, Y_hat, X, Y,activation_func) :\n",
    "    temp = self.back_prop(self.weights_list,self.biases_list, A, H, Y_hat, X, Y, activation_func)\n",
    "    return temp\n",
    "\n",
    "  def grad_wandb(self, W, b, X, Y,activation_func):\n",
    "\n",
    "    X = X.T.reshape((784,-1))\n",
    "    \n",
    "    temp = self.forward_prop(W, b, X, Y, activation_func)\n",
    "    temp2 = self.back_prop(W, b, temp['A'], temp['H'], temp['Y_hat'], X, Y, activation_func)\n",
    "\n",
    "    return {\n",
    "        'dw' : temp2['dw'],\n",
    "        'db' : temp2['db']\n",
    "    }\n",
    "\n",
    "  def self_grad_wandb(self, X, Y, activation_func) :\n",
    "    temp = self.grad_wandb(self.weights_list, self.biases_list, X, Y,activation_func)\n",
    "    return temp\n",
    "\n",
    "  def predict(self, X, activation_func):\n",
    "    X = X.T.reshape((784,-1))\n",
    "    temp = self.forward_prop(self.weights_list,self.biases_list, X, 0, activation_func)\n",
    "    return {\n",
    "      'y' : np.argmax(temp['Y_hat'],axis=0),\n",
    "      'y_hat' : temp['Y_hat']\n",
    "    }\n",
    "\n",
    "  def update_vals(self,dw,db) :\n",
    "    L = len(self.weights_list)\n",
    "    for i in range(L) :\n",
    "      # print('dw['+str(L-i-1)+']',dw[L-i-1])\n",
    "      self.weights_list[i] =self.weights_list[i] - dw[L-i-1].reshape(self.weights_list[i].shape)\n",
    "\n",
    "    for i in range(len(self.biases_list)) :\n",
    "      # print('db['+str(L-i-1)+']',db[L-i-1])\n",
    "      self.biases_list[i] =self.biases_list[i] - db[L-i-1].reshape(self.biases_list[i].shape)\n",
    "##################################################################################\n",
    "class activation:\n",
    "  \n",
    "  @staticmethod\n",
    "  def sigmoid(z):\n",
    "    return 1 / (1 + np.exp(-z))\n",
    "  \n",
    "  @staticmethod\n",
    "  def relu(z):\n",
    "    return (z>0) * z\n",
    "\n",
    "  @staticmethod\n",
    "  def tanh(z):\n",
    "    return np.tanh(z)\n",
    "\n",
    "  @staticmethod\n",
    "  def sigmoid_der(z) :\n",
    "    return z * (1-z)\n",
    "  \n",
    "  @staticmethod\n",
    "  def relu_der(z) :\n",
    "    return (z>0)\n",
    "\n",
    "  @staticmethod\n",
    "  def tanh_der(z):\n",
    "    return 1 - z*z\n",
    "\n",
    "  @staticmethod\n",
    "  def softmax(x):\n",
    "    e_x = np.exp(x - np.max(x))\n",
    "    return e_x / np.sum(e_x,axis=0)\n",
    "    #return np.array(tf.nn.softmax(np.array(x)))\n",
    "\n",
    "def set_nn_shape(verbose=True, num_hidden_layers=-1, hidden_layer_size=-1):\n",
    "\n",
    "  input_layer_size = 784\n",
    "  hidden_layer_size = hidden_layer_size\n",
    "  num_hidden_layers = num_hidden_layers\n",
    "  output_layer_size = 10\n",
    "  \n",
    "  # input_layer_size = 3\n",
    "  # hidden_layer_size = hidden_layer_size\n",
    "  # num_hidden_layers = num_hidden_layers\n",
    "  # output_layer_size = 2\n",
    "  if (verbose):\n",
    "    print(\"\\nNumber Of Hidden Layers:\")\n",
    "    num_hidden_layers = int(input())\n",
    "\n",
    "    print(\"\\nSize Of Each Hidden Layer:\")\n",
    "    hidden_layer_size = int(input())\n",
    "\n",
    "    print(f\"\\nThe Neural Network Has {num_hidden_layers+2} Layers In Total!\")\n",
    "  \n",
    "  return {\"input_layer_size\": input_layer_size, \"hidden_layer_size\": hidden_layer_size, \"output_layer_size\": output_layer_size, \"num_hidden_layers\": num_hidden_layers}\n"
   ]
  },
  {
   "cell_type": "code",
   "execution_count": 4,
   "metadata": {
    "id": "JIFMpZQNItG3"
   },
   "outputs": [],
   "source": [
    "def wandb_initializer(nn_shape, weights_list, biases_list, type='random', mu = 0, sigma = 1):\n",
    "  \n",
    "  # random initialization\n",
    "  if (type=='random'):\n",
    "    initializer = tf.keras.initializers.TruncatedNormal(mean=mu, stddev=sigma)\n",
    "  # xavier initialization\n",
    "  elif (type=='xavier'):\n",
    "    initializer = tf.keras.initializers.GlorotNormal()\n",
    "\n",
    "  weights_list.append(initializer(shape=(nn_shape['hidden_layer_size'], nn_shape['input_layer_size'])).numpy())\n",
    "  biases_list.append(initializer(shape=(nn_shape['hidden_layer_size'], 1)).numpy())\n",
    "  for i in range(nn_shape['num_hidden_layers'] - 1):\n",
    "    weights_list.append(initializer(shape=(nn_shape['hidden_layer_size'], nn_shape['hidden_layer_size'])).numpy())\n",
    "    biases_list.append(initializer(shape=(nn_shape['hidden_layer_size'], 1)).numpy())\n",
    "\n",
    "  weights_list.append(initializer(shape=(nn_shape['output_layer_size'], nn_shape['hidden_layer_size'])).numpy())\n",
    "  biases_list.append(initializer(shape=(nn_shape['output_layer_size'], 1)).numpy())\n",
    "\n",
    "  return weights_list, biases_list"
   ]
  },
  {
   "cell_type": "code",
   "execution_count": 21,
   "metadata": {
    "id": "AVpF16BtXqB_"
   },
   "outputs": [],
   "source": [
    "class optimizer:\n",
    "\n",
    "  @staticmethod\n",
    "  def sgd_old(network, data, config):\n",
    "\n",
    "    # num_hidden_layers, hidden_layers_size = config['num_hidden_layers'], config['hidden_layer_size']\n",
    "    num_epochs, batch_size = config['num_epochs'], config['batch_size']\n",
    "    eta, lambda_ = config['lr'], config['weight_decay']\n",
    "    initializer, activation_func = config['weights_initializer'], config['activation']\n",
    " \n",
    "    ### google the getattr function - eg: getattr(activation, 'relu')(junk) is same as activation.relu(junk)\n",
    "    X_train, Y_train = data['train']['X'], data['train']['Y']\n",
    "    # print(num_hidden_layers, hidden_layers_size)\n",
    "\n",
    "    for i in range(num_epochs):\n",
    "      dw = []\n",
    "      db = []\n",
    "      check = 0\n",
    "\n",
    "      for k in tqdm(range(len(X_train))) :\n",
    "        x = X_train[k]\n",
    "        y = Y_train[k]\n",
    "        temp = network.self_grad_wandb(x,y,activation_func)\n",
    "\n",
    "        if check==0 :\n",
    "          dw = temp['dw']\n",
    "          db = temp['db']\n",
    "          check=1\n",
    "\n",
    "        else :\n",
    "          for j in range(len(dw)) :\n",
    "            dw[j] =dw[j] + temp['dw'][j]\n",
    "            db[j] =db[j] + temp['db'][j]\n",
    "\n",
    "        if (k+1)%batch_size == 0 :\n",
    "          for dd in dw :\n",
    "            dd *=eta\n",
    "          for dd in db :\n",
    "            dd *=eta\n",
    "          network.update_vals(dw, db)\n",
    "          check=0\n",
    "\n",
    "  @staticmethod\n",
    "  def sgd(network, data, config):\n",
    "\n",
    "    # num_hidden_layers, hidden_layers_size = config['num_hidden_layers'], config['hidden_layer_size']\n",
    "    num_epochs, batch_size = config['num_epochs'], config['batch_size']\n",
    "    eta, lambda_ = config['lr'], config['weight_decay']\n",
    "    initializer, activation_func = config['weights_initializer'], config['activation']\n",
    " \n",
    "    ### google the getattr function - eg: getattr(activation, 'relu')(junk) is same as activation.relu(junk)\n",
    "    X_train, Y_train = data['train']['X'], data['train']['Y']\n",
    "    # print(num_hidden_layers, hidden_layers_size)\n",
    "\n",
    "    for i in range(num_epochs):\n",
    "      for k in tqdm(range(0, len(X_train), batch_size)) :\n",
    "        \n",
    "        X = X_train[k: k+batch_size]\n",
    "        Y = Y_train[k: k+batch_size]\n",
    "        \n",
    "        temp = network.self_grad_wandb(X, Y, activation_func)\n",
    "        \n",
    "        for j in range(len(temp['db'])) :\n",
    "          temp['db'][j] = np.sum(temp['db'][j],axis=1)\n",
    "          \n",
    "        dw = temp['dw']\n",
    "        db = temp['db']\n",
    "        for dd in dw :\n",
    "          dd*= eta\n",
    "        for dd in db :\n",
    "          dd*=eta\n",
    "\n",
    "        \n",
    "        network.update_vals(dw, db)\n",
    "        \n",
    "        report = run_callback(network, data, config) \n",
    "        '''\n",
    "        wandb.log({\n",
    "            'batch_size': config.batch_size, \n",
    "            'val_loss' : report['loss']['val'], \n",
    "            'train_loss': report['loss']['train'],\n",
    "            'train_acc': report['accuracy']['train'],\n",
    "            'val_acc': report['accuracy']['val']  \n",
    "        }) \n",
    "        '''\n",
    "        \n",
    "\n",
    "\n",
    "  @staticmethod\n",
    "  def momentum(X,Y,max_epochs,eta,gamma,batch_size) :\n",
    "    test = get_nn_shape()\n",
    "    network = neural_network(test,test)\n",
    "    dw = []\n",
    "    db = []\n",
    "    pred1 = []\n",
    "    check = 0\n",
    "    for i in range(max_epochs) :\n",
    "      for k in tqdm(range(len(X))) :\n",
    "        x = X[k]\n",
    "        y = Y[k]\n",
    "        temp = network.self_grad_wandb(x,y)\n",
    "        if check==0 :\n",
    "          dw = temp['dw']\n",
    "          db = temp['db']\n",
    "          for dd in db :\n",
    "            dd*= eta\n",
    "          for dd in dw :\n",
    "            dd*=eta\n",
    "          check = 1\n",
    "        else :\n",
    "          for j in range(len(dw)) :\n",
    "            dw[j] += eta*temp['dw'][j]\n",
    "            db[j] += eta*temp['db'][j]\n",
    "        if (k+1) % batch_size == 0 or k == len(X)-1:\n",
    "          network.update_vals(dw,db)\n",
    "          for dd in db :\n",
    "            dd *=gamma\n",
    "          for dd in dw :\n",
    "            dd*=gamma\n",
    "\n",
    "      pred = 0\n",
    "      for x,y in zip(X,Y) :\n",
    "        pred = pred + (network.predict(x)!=y)\n",
    "\n",
    "      print('error',pred)\n",
    "    \n",
    "    return pred1\n",
    "  \n",
    "  @staticmethod\n",
    "  def NAG(X,Y,max_epochs,eta,gamma,batch_size) :\n",
    "    test = get_nn_shape()\n",
    "    network = neural_network(test,test)\n",
    "    dw = []\n",
    "    db = []\n",
    "    check = 0\n",
    "    for i in range(max_epochs) :\n",
    "      for k in tqdm(range(len(X))) :\n",
    "        x = X[k]\n",
    "        y = Y[k]\n",
    "        temp = network.self_grad_wandb(x,y)\n",
    "        if check==0 :\n",
    "          dw = temp['dw']\n",
    "          db = temp['db']\n",
    "          for dd in db :\n",
    "            dd*= eta\n",
    "          for dd in dw :\n",
    "            dd*=eta\n",
    "          check = 1\n",
    "        else :\n",
    "          for j in range(len(dw)) :\n",
    "            dw[j] += eta*temp['dw'][j]\n",
    "            db[j] += eta*temp['db'][j]\n",
    "\n",
    "        if (k+1) % batch_size == 0 or k == len(X)-1:\n",
    "          network.update_vals(dw,db)\n",
    "          for dd in db :\n",
    "            dd*=gamma\n",
    "          for dd in dw :\n",
    "            dd*=gamma\n",
    "          network.update_vals(dw,db)\n",
    "\n",
    "      pred = 0\n",
    "      for x,y in zip(X,Y) :\n",
    "        pred += (network.predict(x)!=y)\n",
    "\n",
    "      print('error',pred)\n",
    "\n",
    "  @staticmethod\n",
    "  def RMSprop(X,Y,max_epochs,eta,beta,batch_size,epsilon) :\n",
    "    test = get_nn_shape()\n",
    "    network = neural_network(test,test)\n",
    "    v_dw = []\n",
    "    v_db = []\n",
    "    check1 = 0\n",
    "    for i in range(max_epochs) :\n",
    "      dw = []\n",
    "      db = []\n",
    "      check = 0\n",
    "      for k in tqdm(range(len(X))) :\n",
    "        x = X[k]\n",
    "        y = Y[k]\n",
    "        temp = network.self_grad_wandb(x,y)\n",
    "        if check==0 :\n",
    "          dw = temp['dw']\n",
    "          db = temp['db']\n",
    "          check = 1\n",
    "        else :\n",
    "          for j in range(len(dw)) :\n",
    "            dw[j] += temp['dw'][j]\n",
    "            db[j] += temp['db'][j]\n",
    "\n",
    "        if (k+1) % batch_size == 0 or k == len(X)-1:\n",
    "          if check1==0 :\n",
    "            for j in range(len(dw)) :\n",
    "              v_dw.append( (1-beta)*(dw[j]**2) )\n",
    "              dw[j] *= eta/np.sqrt(v_dw[j]+epsilon)\n",
    "\n",
    "            for j in range(len(db)) :\n",
    "              v_db.append( (1-beta)*(db[j]**2) )\n",
    "              db[j] *= eta/np.sqrt(v_db[j]+epsilon)\n",
    "\n",
    "            check1 = 1\n",
    "\n",
    "          else :\n",
    "            for j in range(len(dw)) :\n",
    "              v_dw[j] *= beta\n",
    "              v_dw[j] += (1-beta)*(dw[j]**2) \n",
    "              dw[j] *= eta/np.sqrt(v_dw[j]+epsilon)\n",
    "\n",
    "            for j in range(len(db)) :\n",
    "              v_db[j] *= beta\n",
    "              v_db[j] += (1-beta)*(db[j]**2) \n",
    "              db[j] *= eta/np.sqrt(v_db[j]+epsilon)\n",
    "\n",
    "          network.update_vals(dw,db)\n",
    "          check = 1\n",
    "\n",
    "      pred = 0\n",
    "      for x,y in zip(X,Y) :\n",
    "        pred += (network.predict(x)!=y)\n",
    "\n",
    "      print('error',pred)\n",
    "\n",
    "\n",
    "  @staticmethod\n",
    "  def adam(X,Y,max_epochs,eta,beta1,beta2,batch_size) :\n",
    "    test = get_nn_shape()\n",
    "    network = neural_network(test,test)\n",
    "    v_dw = []\n",
    "    v_db = []\n",
    "    m_dw = []\n",
    "    m_db = []\n",
    "    check1 = 0\n",
    "    num_updates = 0\n",
    "    for i in range(max_epochs) :\n",
    "      dw = []\n",
    "      db = []\n",
    "      check = 0\n",
    "      for k in tqdm(range(len(X))) :\n",
    "        x = X[k]\n",
    "        y = Y[k]\n",
    "        temp = network.self_grad_wandb(x,y)\n",
    "        if check==0 :\n",
    "          dw = temp['dw']\n",
    "          db = temp['db']\n",
    "          check = 1\n",
    "        else :\n",
    "          for j in range(len(dw)) :\n",
    "            dw[j] += temp['dw'][j]\n",
    "            db[j] += temp['db'][j]\n",
    "\n",
    "        if (k+1) % batch_size == 0 or k == len(X)-1:\n",
    "          if check1==0 :\n",
    "            for j in range(len(dw)) :\n",
    "              v_dw.append( (1-beta1)*(dw[j]**2) )\n",
    "              dw[j] *= eta/np.sqrt(v_dw[j]+epsilon)\n",
    "\n",
    "            for j in range(len(db)) :\n",
    "              v_db.append( (1-beta1)*(db[j]**2) )\n",
    "              db[j] *= eta/np.sqrt(v_db[j]+epsilon)\n",
    "\n",
    "            check1 = 1\n",
    "\n",
    "          else :\n",
    "            for j in range(len(dw)) :\n",
    "              v_dw[j] *= beta1\n",
    "              v_dw[j] += (1-beta1)*(dw[j]**2) \n",
    "              dw[j] *= eta/np.sqrt(v_dw[j]+epsilon)\n",
    "\n",
    "            for j in range(len(db)) :\n",
    "              v_db[j] *= beta1\n",
    "              v_db[j] += (1-beta1)*(db[j]**2) \n",
    "              db[j] *= eta/np.sqrt(v_db[j]+epsilon)\n",
    "\n",
    "          network.update_vals(dw,db)\n",
    "          check = 1\n",
    "\n",
    "      pred = 0\n",
    "      for x,y in zip(X,Y) :\n",
    "        pred += (network.predict(x)!=y)\n",
    "\n",
    "      print('error',pred)"
   ]
  },
  {
   "cell_type": "code",
   "execution_count": 6,
   "metadata": {
    "id": "IKQ-oZvbLOWV"
   },
   "outputs": [
    {
     "data": {
      "text/plain": [
       "\"\\n# X = np.array([[1,1,2],[-1,2,3],[10,-67,43],[-5,45,-67]])\\n# Y = np.array([1,0,1,0])\\n# temp = solver.sgd(X,Y,100,1e-3)\\nX=data['train']['X']\\n# print(len(X))\\n# print(X[0])\\nY = data['train']['Y']\\ntemp = solver.RMSprop(X,Y,100,0.001,0.9,32,1e-2)\\nprint(temp)\\n\""
      ]
     },
     "execution_count": 6,
     "metadata": {},
     "output_type": "execute_result"
    }
   ],
   "source": [
    "'''\n",
    "# X = np.array([[1,1,2],[-1,2,3],[10,-67,43],[-5,45,-67]])\n",
    "# Y = np.array([1,0,1,0])\n",
    "# temp = solver.sgd(X,Y,100,1e-3)\n",
    "X=data['train']['X']\n",
    "# print(len(X))\n",
    "# print(X[0])\n",
    "Y = data['train']['Y']\n",
    "temp = solver.RMSprop(X,Y,100,0.001,0.9,32,1e-2)\n",
    "print(temp)\n",
    "'''"
   ]
  },
  {
   "cell_type": "code",
   "execution_count": 23,
   "metadata": {
    "id": "zKDlM0FUKutJ"
   },
   "outputs": [],
   "source": [
    "def run_callback(network,data,config) :\n",
    "    \n",
    "    activation_func = config['activation']\n",
    "    \n",
    "    X_train = data['train']['X']\n",
    "    Y_train = data['train']['Y']\n",
    "\n",
    "    X_val = data['val']['X']\n",
    "    Y_val = data['val']['Y']\n",
    "\n",
    "    train_loss = 0\n",
    "    train_count = 0\n",
    "    train_sq_error = 0\n",
    "    \n",
    "    temp = network.predict(X_train,activation_func)\n",
    "    train_count = np.sum(temp['y'].reshape(Y_train.shape)==Y_train)\n",
    "    \n",
    "    Y_pred = np.array(temp['y_hat'].T)\n",
    "    train_loss = np.sum(-np.log(Y_pred[np.arange(len(X_train)),Y_train]))\n",
    "    \n",
    "    #temp['y_hat'][y] = 1 - temp['y_hat'][y]\n",
    "    #train_sq_error += np.sum(np.dot(temp['y_hat'],temp['y_hat']))\n",
    "\n",
    "    val_loss = 0\n",
    "    val_count = 0\n",
    "    val_sq_error = 0\n",
    "    \n",
    "    # for x,y in zip(X_val,Y_val) :\n",
    "    #     temp = network.predict(x,activation_func)\n",
    "    #     if temp['y'] == y :\n",
    "    #         val_count += 1\n",
    "    #     val_loss -= np.log(temp['y_hat'][y]) \n",
    "    #     temp['y_hat'][y] = 1 - temp['y_hat'][y]\n",
    "    #     val_sq_error += np.sum(np.dot(temp['y_hat'],temp['y_hat'])) \n",
    "    \n",
    "    '''\n",
    "    test_loss = 0\n",
    "    test_count = 0\n",
    "    test_sq_error = 0\n",
    "    for x,y in zip(X_test,Y_test) :\n",
    "        temp = network.predict(x,activation_func)\n",
    "        if temp['y'] == y :\n",
    "            test_count += 1\n",
    "        test_loss -= np.log(temp['y_hat'][y]) \n",
    "        temp['y_hat'][y] = 1 - temp['y_hat'][y]\n",
    "        test_sq_error += np.sum(np.dot(temp['y_hat'],temp['y_hat'])) \n",
    "    '''\n",
    "    \n",
    "    return  {\n",
    "        'loss': {\n",
    "            'train' : train_loss / len(X_train),\n",
    "            'val' : val_loss / len(X_val)\n",
    "        },\n",
    "        'accuracy': {\n",
    "            'train': train_count / len(X_train),\n",
    "            'val': val_count / len(X_val)\n",
    "        }\n",
    "        #'test' : np.array([test_sq_error,test_loss,test_count])/len(X_test)\n",
    "    }\n",
    "\n",
    "    \n"
   ]
  },
  {
   "cell_type": "code",
   "execution_count": 8,
   "metadata": {
    "colab": {
     "base_uri": "https://localhost:8080/",
     "height": 415,
     "referenced_widgets": [
      "5767b17520904e64b39c3eb84eb0c155",
      "068a82ab225d4f949515f0631f1f2333",
      "743fb548cb6e48839bd3971a10e4d0f4",
      "37d3ca12108a489f8d3b94f8fdd920f8",
      "dc665b6ca52c4e63bde1c926a487c239",
      "9abdf21876ed413ba32ce671e2032b22",
      "2e32b7717a2549d2ae8ce340d07115d2",
      "ed941b0b79fa4748979ba2564b4ddd80",
      "cfed3887a7ce45d2b8e382112b18019f",
      "60009b5f70084abfae444048ed1a5636",
      "1a2749a8fbd3469e957d0e50595ea695",
      "0004826ae3e64f62927c5e84b2f2cb1c",
      "c5e9abd7625249beb4636a6cd1b718dd",
      "1409f72cd1974685a36ef1f004e747df",
      "624583dbe44e43408b72aefef62c2268",
      "e0c2ae4879e0457dbb33fc92b0fc757e",
      "a8bb3f0952d446d98401c33621a2da66",
      "1b7472940a1f482c82a949adfa7eadbe",
      "a2015e4805b94caeb49c15992236cfe2",
      "148f0113ea3f49e1a3a502ece456930f",
      "94248c555fad417fb42be08bdc3eefd2",
      "d1ee27b8c6654f94be18707d762b2d9e",
      "f7317c3f27644ab3aa401c5d2f138e00",
      "6d7be37768484de48178b290387f29a0",
      "fe67144cc0964d7a983fb368b5c4dfb7",
      "91c69c36fd5540a685e806da64d05ee1",
      "c1a1bfeb4bf341258fd09b6aaa6ce324",
      "f92e3778d4d845a89ab5474bc610a4ef",
      "b1654360e87d48cda29ffb5791fa27b1",
      "79b3070ee59d4b31bf3245e8717f1cee",
      "472d0234d372436688df2870c5392fb1",
      "5baace069b424191ba5a8317d10c6e64",
      "8b0e71e48dfe4c49b9c5b9839423f82a",
      "eaaeedd5913f4d198a23a62c322afa8d",
      "bf370a5316bc4e3f9ea3b3b4ac6ffefb",
      "1a2a840d21fb442f9ef1ac4a5d734a3e",
      "97a0a34f503b4d5d83d21cef8b69cd04",
      "6ccba34f56ba4ae19e4f9456e49f4d3d",
      "0bade47c35024c6ba9d7b09a23adc9ae",
      "cc0deba3917a4aa7894b6a1a75cead48"
     ]
    },
    "id": "Ypd2xySp_dYj",
    "outputId": "71504715-042e-409e-9a52-351974b00358"
   },
   "outputs": [
    {
     "data": {
      "text/plain": [
       "\"\\nnn = set_nn_shape()\\nnetwork = neural_network(nn, 'random')\\n#data1 = {'train' : {'X': np.array([[1,1,2],[-1,2,3],[10,-67,43],[-5,45,-67],[5,6,7]]), 'Y' : np.array([1,0,1,0,1]) },'val' : {'X': np.array([[1,1,1],[1,1,1],[1,1,1],[1,1,1],[1,1,1]]), 'Y' : np.array([0,1,3,2,1]) }}\\n# need to change this bit later to accomodate other optimization functions\\n\\nconfig1 = {'num_epochs' : 5,'lr' : 1e-2,'optimizer': 'sgd', 'batch_size' : 32 , 'weights_initializer' : 'random' , 'weight_decay' : 0.001, 'activation' : 'sigmoid' }\\noptimizer.sgd(network, data,config1 )\\n\\n# generating reports for the run\\nreport = run_callback(network, data, config1) \\n\\nprint(report)\\n\""
      ]
     },
     "execution_count": 8,
     "metadata": {},
     "output_type": "execute_result"
    }
   ],
   "source": [
    "'''\n",
    "nn = set_nn_shape()\n",
    "network = neural_network(nn, 'random')\n",
    "#data1 = {'train' : {'X': np.array([[1,1,2],[-1,2,3],[10,-67,43],[-5,45,-67],[5,6,7]]), 'Y' : np.array([1,0,1,0,1]) },'val' : {'X': np.array([[1,1,1],[1,1,1],[1,1,1],[1,1,1],[1,1,1]]), 'Y' : np.array([0,1,3,2,1]) }}\n",
    "# need to change this bit later to accomodate other optimization functions\n",
    "\n",
    "config1 = {'num_epochs' : 5,'lr' : 1e-2,'optimizer': 'sgd', 'batch_size' : 32 , 'weights_initializer' : 'random' , 'weight_decay' : 0.001, 'activation' : 'sigmoid' }\n",
    "optimizer.sgd(network, data,config1 )\n",
    "\n",
    "# generating reports for the run\n",
    "report = run_callback(network, data, config1) \n",
    "\n",
    "print(report)\n",
    "'''"
   ]
  },
  {
   "cell_type": "code",
   "execution_count": 9,
   "metadata": {
    "colab": {
     "base_uri": "https://localhost:8080/"
    },
    "id": "PBdDNBajeN6S",
    "outputId": "3067bc11-f1ec-4918-d6b6-402c869666cb"
   },
   "outputs": [
    {
     "data": {
      "text/plain": [
       "'\\n# generating reports for the run\\nreport = run_callback(network, data, config1) \\nprint(report)\\n'"
      ]
     },
     "execution_count": 9,
     "metadata": {},
     "output_type": "execute_result"
    }
   ],
   "source": [
    "'''\n",
    "# generating reports for the run\n",
    "report = run_callback(network, data, config1) \n",
    "print(report)\n",
    "'''"
   ]
  },
  {
   "cell_type": "code",
   "execution_count": 10,
   "metadata": {
    "colab": {
     "base_uri": "https://localhost:8080/"
    },
    "id": "P5bkB6Q6JS3R",
    "outputId": "76ed6b6c-34da-4430-eeb0-2416b0ab9782"
   },
   "outputs": [
    {
     "data": {
      "text/plain": [
       "array([[0.09112296, 0.00150118],\n",
       "       [0.90887704, 0.99849882]])"
      ]
     },
     "execution_count": 10,
     "metadata": {},
     "output_type": "execute_result"
    }
   ],
   "source": [
    "activation.softmax(np.array([[0.7,0.5],[3,7]]))"
   ]
  },
  {
   "cell_type": "code",
   "execution_count": 11,
   "metadata": {},
   "outputs": [],
   "source": [
    "sweep_config = {\n",
    "    'method': 'random',\n",
    "\n",
    "    'parameters': {\n",
    "        'num_epochs': {\n",
    "            'values': [5, 10]\n",
    "        },\n",
    "        'num_hidden_layers': {\n",
    "            'values': [3, 4, 5]\n",
    "        },\n",
    "        'hidden_layer_size': {\n",
    "            'values': [32, 64, 128]\n",
    "        },\n",
    "        'weight_decay': {\n",
    "            'values': [0, 0.0005, 0.5]\n",
    "        },\n",
    "        'lr': {\n",
    "            'values': [1e-3, 1e-4, 1e-5, 1e-6]\n",
    "        },\n",
    "        'optimizer': {\n",
    "            'values': ['sgd', 'momentum', 'nesterov', 'rmsprop', 'adam', 'nadam']\n",
    "        },\n",
    "        'batch_size': {\n",
    "            'values': [16, 32, 64]\n",
    "        },\n",
    "        'weights_initializer': {\n",
    "            'values': ['random', 'xavier']\n",
    "        },\n",
    "        'activation': {\n",
    "            'values': ['sigmoid', 'tanh', 'relu']\n",
    "        }        \n",
    "    }\n",
    "}"
   ]
  },
  {
   "cell_type": "code",
   "execution_count": 17,
   "metadata": {},
   "outputs": [
    {
     "name": "stdout",
     "output_type": "stream",
     "text": [
      "Create sweep with ID: 192sf8wp\n",
      "Sweep URL: https://wandb.ai/ramkamal/test4/sweeps/192sf8wp\n"
     ]
    }
   ],
   "source": [
    "sweep_id = wandb.sweep(sweep_config, project='test4')"
   ]
  },
  {
   "cell_type": "code",
   "execution_count": 18,
   "metadata": {},
   "outputs": [
    {
     "name": "stdout",
     "output_type": "stream",
     "text": [
      "{'method': 'random',\n",
      " 'parameters': {'activation': {'values': ['sigmoid', 'tanh', 'relu']},\n",
      "                'batch_size': {'values': [16, 32, 64]},\n",
      "                'hidden_layer_size': {'values': [32, 64, 128]},\n",
      "                'lr': {'values': [0.001, 0.0001, 1e-05, 1e-06]},\n",
      "                'num_epochs': {'values': [5, 10]},\n",
      "                'num_hidden_layers': {'values': [3, 4, 5]},\n",
      "                'optimizer': {'values': ['sgd',\n",
      "                                         'momentum',\n",
      "                                         'nesterov',\n",
      "                                         'rmsprop',\n",
      "                                         'adam',\n",
      "                                         'nadam']},\n",
      "                'weight_decay': {'values': [0, 0.0005, 0.5]},\n",
      "                'weights_initializer': {'values': ['random', 'xavier']}}}\n"
     ]
    }
   ],
   "source": [
    "pprint.pprint(sweep_config)"
   ]
  },
  {
   "cell_type": "code",
   "execution_count": 19,
   "metadata": {},
   "outputs": [],
   "source": [
    "class sweep_module:\n",
    "  @staticmethod\n",
    "  def train(config=None):\n",
    "\n",
    "    with wandb.init(config):\n",
    "\n",
    "      config = wandb.config\n",
    "      nn_shape = set_nn_shape(False, config['num_hidden_layers'] , config['hidden_layer_size'])\n",
    "      network = neural_network(nn_shape, config['weights_initializer'])\n",
    "      \n",
    "      # need to change this bit later to accomodate other optimization functions\n",
    "      optimizer.sgd(network, data, config)\n",
    "      \n",
    "      print('checkpoint 1')\n",
    "      # generating reports for the run\n",
    "    '''\n",
    "      report = run_callback(network, data, config) \n",
    "      print(report)\n",
    "    \n",
    "      # keeping track of the best model\n",
    "      if (report['accuracy']['val'] > val_acc_best):\n",
    "        val_acc_best, network_best = report['accuracy']['val'], network\n",
    "        \n",
    "    \n",
    "      wandb.log({\n",
    "        'batch_size': config.batch_size, \n",
    "        'val_loss' : report['loss']['val'], \n",
    "        'train_loss': report['loss']['train'],\n",
    "        'train_acc': report['accuracy']['train'],\n",
    "        'val_acc': report['accuracy']['val']  \n",
    "      })\n",
    "      '''"
   ]
  },
  {
   "cell_type": "code",
   "execution_count": 22,
   "metadata": {},
   "outputs": [
    {
     "name": "stderr",
     "output_type": "stream",
     "text": [
      "\u001b[34m\u001b[1mwandb\u001b[0m: Agent Starting Run: zzjsqr9c with config:\n",
      "\u001b[34m\u001b[1mwandb\u001b[0m: \tactivation: relu\n",
      "\u001b[34m\u001b[1mwandb\u001b[0m: \tbatch_size: 16\n",
      "\u001b[34m\u001b[1mwandb\u001b[0m: \thidden_layer_size: 32\n",
      "\u001b[34m\u001b[1mwandb\u001b[0m: \tlr: 1e-06\n",
      "\u001b[34m\u001b[1mwandb\u001b[0m: \tnum_epochs: 10\n",
      "\u001b[34m\u001b[1mwandb\u001b[0m: \tnum_hidden_layers: 5\n",
      "\u001b[34m\u001b[1mwandb\u001b[0m: \toptimizer: rmsprop\n",
      "\u001b[34m\u001b[1mwandb\u001b[0m: \tweight_decay: 0.0005\n",
      "\u001b[34m\u001b[1mwandb\u001b[0m: \tweights_initializer: random\n"
     ]
    },
    {
     "data": {
      "text/html": [
       "\n",
       "                Tracking run with wandb version 0.10.22<br/>\n",
       "                Syncing run <strong style=\"color:#cdcd00\">young-sweep-2</strong> to <a href=\"https://wandb.ai\" target=\"_blank\">Weights & Biases</a> <a href=\"https://docs.wandb.com/integrations/jupyter.html\" target=\"_blank\">(Documentation)</a>.<br/>\n",
       "                Project page: <a href=\"https://wandb.ai/ramkamal/test4\" target=\"_blank\">https://wandb.ai/ramkamal/test4</a><br/>\n",
       "                Sweep page: <a href=\"https://wandb.ai/ramkamal/test4/sweeps/192sf8wp\" target=\"_blank\">https://wandb.ai/ramkamal/test4/sweeps/192sf8wp</a><br/>\n",
       "Run page: <a href=\"https://wandb.ai/ramkamal/test4/runs/zzjsqr9c\" target=\"_blank\">https://wandb.ai/ramkamal/test4/runs/zzjsqr9c</a><br/>\n",
       "                Run data is saved locally in <code>/home/ramkamal/DL/cs6910_assignment1/wandb/run-20210313_175757-zzjsqr9c</code><br/><br/>\n",
       "            "
      ],
      "text/plain": [
       "<IPython.core.display.HTML object>"
      ]
     },
     "metadata": {},
     "output_type": "display_data"
    },
    {
     "data": {
      "application/vnd.jupyter.widget-view+json": {
       "model_id": "442b15760dbd4339aeb715b1523f0898",
       "version_major": 2,
       "version_minor": 0
      },
      "text/plain": [
       "HBox(children=(HTML(value=''), FloatProgress(value=0.0, max=3125.0), HTML(value='')))"
      ]
     },
     "metadata": {},
     "output_type": "display_data"
    },
    {
     "name": "stderr",
     "output_type": "stream",
     "text": [
      "/home/ramkamal/anaconda3/envs/cs6910/lib/python3.7/site-packages/ipykernel_launcher.py:146: RuntimeWarning: invalid value encountered in true_divide\n"
     ]
    },
    {
     "name": "stdout",
     "output_type": "stream",
     "text": [
      "\n"
     ]
    },
    {
     "data": {
      "application/vnd.jupyter.widget-view+json": {
       "model_id": "934fd42426dd4c57b28c315b32b9328e",
       "version_major": 2,
       "version_minor": 0
      },
      "text/plain": [
       "HBox(children=(HTML(value=''), FloatProgress(value=0.0, max=3125.0), HTML(value='')))"
      ]
     },
     "metadata": {},
     "output_type": "display_data"
    },
    {
     "name": "stdout",
     "output_type": "stream",
     "text": [
      "\n"
     ]
    },
    {
     "data": {
      "application/vnd.jupyter.widget-view+json": {
       "model_id": "1e61df8f63b441b580626c9c931eadac",
       "version_major": 2,
       "version_minor": 0
      },
      "text/plain": [
       "HBox(children=(HTML(value=''), FloatProgress(value=0.0, max=3125.0), HTML(value='')))"
      ]
     },
     "metadata": {},
     "output_type": "display_data"
    },
    {
     "name": "stdout",
     "output_type": "stream",
     "text": [
      "\n"
     ]
    },
    {
     "data": {
      "application/vnd.jupyter.widget-view+json": {
       "model_id": "4ed8f199d5364c4bb22703c927baed2e",
       "version_major": 2,
       "version_minor": 0
      },
      "text/plain": [
       "HBox(children=(HTML(value=''), FloatProgress(value=0.0, max=3125.0), HTML(value='')))"
      ]
     },
     "metadata": {},
     "output_type": "display_data"
    },
    {
     "name": "stdout",
     "output_type": "stream",
     "text": [
      "\n"
     ]
    },
    {
     "data": {
      "application/vnd.jupyter.widget-view+json": {
       "model_id": "0dc774e5ecdc4bd3899c19980f7f56bd",
       "version_major": 2,
       "version_minor": 0
      },
      "text/plain": [
       "HBox(children=(HTML(value=''), FloatProgress(value=0.0, max=3125.0), HTML(value='')))"
      ]
     },
     "metadata": {},
     "output_type": "display_data"
    },
    {
     "name": "stdout",
     "output_type": "stream",
     "text": [
      "\n"
     ]
    },
    {
     "data": {
      "application/vnd.jupyter.widget-view+json": {
       "model_id": "00968ac73bdf4dfe8e55005194a80a72",
       "version_major": 2,
       "version_minor": 0
      },
      "text/plain": [
       "HBox(children=(HTML(value=''), FloatProgress(value=0.0, max=3125.0), HTML(value='')))"
      ]
     },
     "metadata": {},
     "output_type": "display_data"
    },
    {
     "name": "stdout",
     "output_type": "stream",
     "text": [
      "\n"
     ]
    },
    {
     "data": {
      "application/vnd.jupyter.widget-view+json": {
       "model_id": "6c763ab4e84043eaa117adcb6538eb78",
       "version_major": 2,
       "version_minor": 0
      },
      "text/plain": [
       "HBox(children=(HTML(value=''), FloatProgress(value=0.0, max=3125.0), HTML(value='')))"
      ]
     },
     "metadata": {},
     "output_type": "display_data"
    },
    {
     "name": "stdout",
     "output_type": "stream",
     "text": [
      "\n"
     ]
    },
    {
     "data": {
      "application/vnd.jupyter.widget-view+json": {
       "model_id": "ea2e794abef44622a09ba67fa29d46dc",
       "version_major": 2,
       "version_minor": 0
      },
      "text/plain": [
       "HBox(children=(HTML(value=''), FloatProgress(value=0.0, max=3125.0), HTML(value='')))"
      ]
     },
     "metadata": {},
     "output_type": "display_data"
    },
    {
     "name": "stdout",
     "output_type": "stream",
     "text": [
      "\n"
     ]
    },
    {
     "data": {
      "application/vnd.jupyter.widget-view+json": {
       "model_id": "8d4ea3aa6cb34872acaf3d4ef9400a89",
       "version_major": 2,
       "version_minor": 0
      },
      "text/plain": [
       "HBox(children=(HTML(value=''), FloatProgress(value=0.0, max=3125.0), HTML(value='')))"
      ]
     },
     "metadata": {},
     "output_type": "display_data"
    },
    {
     "name": "stdout",
     "output_type": "stream",
     "text": [
      "\n"
     ]
    },
    {
     "data": {
      "application/vnd.jupyter.widget-view+json": {
       "model_id": "eb718dcdf6ee4e7eb1bd88c39a45b86f",
       "version_major": 2,
       "version_minor": 0
      },
      "text/plain": [
       "HBox(children=(HTML(value=''), FloatProgress(value=0.0, max=3125.0), HTML(value='')))"
      ]
     },
     "metadata": {},
     "output_type": "display_data"
    },
    {
     "name": "stdout",
     "output_type": "stream",
     "text": [
      "\n",
      "checkpoint 1\n"
     ]
    },
    {
     "data": {
      "text/html": [
       "<br/>Waiting for W&B process to finish, PID 18930<br/>Program ended successfully."
      ],
      "text/plain": [
       "<IPython.core.display.HTML object>"
      ]
     },
     "metadata": {},
     "output_type": "display_data"
    },
    {
     "data": {
      "application/vnd.jupyter.widget-view+json": {
       "model_id": "",
       "version_major": 2,
       "version_minor": 0
      },
      "text/plain": [
       "VBox(children=(Label(value=' 0.00MB of 0.00MB uploaded (0.00MB deduped)\\r'), FloatProgress(value=1.0, max=1.0)…"
      ]
     },
     "metadata": {},
     "output_type": "display_data"
    },
    {
     "data": {
      "text/html": [
       "Find user logs for this run at: <code>/home/ramkamal/DL/cs6910_assignment1/wandb/run-20210313_175757-zzjsqr9c/logs/debug.log</code>"
      ],
      "text/plain": [
       "<IPython.core.display.HTML object>"
      ]
     },
     "metadata": {},
     "output_type": "display_data"
    },
    {
     "data": {
      "text/html": [
       "Find internal logs for this run at: <code>/home/ramkamal/DL/cs6910_assignment1/wandb/run-20210313_175757-zzjsqr9c/logs/debug-internal.log</code>"
      ],
      "text/plain": [
       "<IPython.core.display.HTML object>"
      ]
     },
     "metadata": {},
     "output_type": "display_data"
    },
    {
     "data": {
      "text/html": [
       "Synced 5 W&B file(s), 0 media file(s), 0 artifact file(s) and 0 other file(s)"
      ],
      "text/plain": [
       "<IPython.core.display.HTML object>"
      ]
     },
     "metadata": {},
     "output_type": "display_data"
    },
    {
     "data": {
      "text/html": [
       "\n",
       "                    <br/>Synced <strong style=\"color:#cdcd00\">young-sweep-2</strong>: <a href=\"https://wandb.ai/ramkamal/test4/runs/zzjsqr9c\" target=\"_blank\">https://wandb.ai/ramkamal/test4/runs/zzjsqr9c</a><br/>\n",
       "                "
      ],
      "text/plain": [
       "<IPython.core.display.HTML object>"
      ]
     },
     "metadata": {},
     "output_type": "display_data"
    },
    {
     "name": "stderr",
     "output_type": "stream",
     "text": [
      "\u001b[34m\u001b[1mwandb\u001b[0m: Agent Starting Run: vpbu36tm with config:\n",
      "\u001b[34m\u001b[1mwandb\u001b[0m: \tactivation: sigmoid\n",
      "\u001b[34m\u001b[1mwandb\u001b[0m: \tbatch_size: 16\n",
      "\u001b[34m\u001b[1mwandb\u001b[0m: \thidden_layer_size: 128\n",
      "\u001b[34m\u001b[1mwandb\u001b[0m: \tlr: 0.001\n",
      "\u001b[34m\u001b[1mwandb\u001b[0m: \tnum_epochs: 5\n",
      "\u001b[34m\u001b[1mwandb\u001b[0m: \tnum_hidden_layers: 3\n",
      "\u001b[34m\u001b[1mwandb\u001b[0m: \toptimizer: adam\n",
      "\u001b[34m\u001b[1mwandb\u001b[0m: \tweight_decay: 0.5\n",
      "\u001b[34m\u001b[1mwandb\u001b[0m: \tweights_initializer: xavier\n"
     ]
    },
    {
     "data": {
      "text/html": [
       "\n",
       "                Tracking run with wandb version 0.10.22<br/>\n",
       "                Syncing run <strong style=\"color:#cdcd00\">mild-sweep-3</strong> to <a href=\"https://wandb.ai\" target=\"_blank\">Weights & Biases</a> <a href=\"https://docs.wandb.com/integrations/jupyter.html\" target=\"_blank\">(Documentation)</a>.<br/>\n",
       "                Project page: <a href=\"https://wandb.ai/ramkamal/test4\" target=\"_blank\">https://wandb.ai/ramkamal/test4</a><br/>\n",
       "                Sweep page: <a href=\"https://wandb.ai/ramkamal/test4/sweeps/192sf8wp\" target=\"_blank\">https://wandb.ai/ramkamal/test4/sweeps/192sf8wp</a><br/>\n",
       "Run page: <a href=\"https://wandb.ai/ramkamal/test4/runs/vpbu36tm\" target=\"_blank\">https://wandb.ai/ramkamal/test4/runs/vpbu36tm</a><br/>\n",
       "                Run data is saved locally in <code>/home/ramkamal/DL/cs6910_assignment1/wandb/run-20210313_175817-vpbu36tm</code><br/><br/>\n",
       "            "
      ],
      "text/plain": [
       "<IPython.core.display.HTML object>"
      ]
     },
     "metadata": {},
     "output_type": "display_data"
    },
    {
     "data": {
      "application/vnd.jupyter.widget-view+json": {
       "model_id": "acc479815390492d90ed74919c673dd0",
       "version_major": 2,
       "version_minor": 0
      },
      "text/plain": [
       "HBox(children=(HTML(value=''), FloatProgress(value=0.0, max=3125.0), HTML(value='')))"
      ]
     },
     "metadata": {},
     "output_type": "display_data"
    },
    {
     "name": "stdout",
     "output_type": "stream",
     "text": [
      "\n"
     ]
    },
    {
     "data": {
      "application/vnd.jupyter.widget-view+json": {
       "model_id": "b5c147ea402644ebacfb0e6fdb3e6c78",
       "version_major": 2,
       "version_minor": 0
      },
      "text/plain": [
       "HBox(children=(HTML(value=''), FloatProgress(value=0.0, max=3125.0), HTML(value='')))"
      ]
     },
     "metadata": {},
     "output_type": "display_data"
    },
    {
     "name": "stdout",
     "output_type": "stream",
     "text": [
      "\n"
     ]
    },
    {
     "data": {
      "application/vnd.jupyter.widget-view+json": {
       "model_id": "c9f4a134c30b4b68986d08c2031bcd6c",
       "version_major": 2,
       "version_minor": 0
      },
      "text/plain": [
       "HBox(children=(HTML(value=''), FloatProgress(value=0.0, max=3125.0), HTML(value='')))"
      ]
     },
     "metadata": {},
     "output_type": "display_data"
    },
    {
     "name": "stdout",
     "output_type": "stream",
     "text": [
      "\n"
     ]
    },
    {
     "data": {
      "application/vnd.jupyter.widget-view+json": {
       "model_id": "0e8521d5a5fa4e87af84a058718a5891",
       "version_major": 2,
       "version_minor": 0
      },
      "text/plain": [
       "HBox(children=(HTML(value=''), FloatProgress(value=0.0, max=3125.0), HTML(value='')))"
      ]
     },
     "metadata": {},
     "output_type": "display_data"
    },
    {
     "name": "stdout",
     "output_type": "stream",
     "text": [
      "\n"
     ]
    },
    {
     "data": {
      "application/vnd.jupyter.widget-view+json": {
       "model_id": "d035e24d8cc145e59fa865a83f7fc740",
       "version_major": 2,
       "version_minor": 0
      },
      "text/plain": [
       "HBox(children=(HTML(value=''), FloatProgress(value=0.0, max=3125.0), HTML(value='')))"
      ]
     },
     "metadata": {},
     "output_type": "display_data"
    },
    {
     "name": "stdout",
     "output_type": "stream",
     "text": [
      "\n",
      "checkpoint 1\n"
     ]
    },
    {
     "data": {
      "text/html": [
       "<br/>Waiting for W&B process to finish, PID 18962<br/>Program ended successfully."
      ],
      "text/plain": [
       "<IPython.core.display.HTML object>"
      ]
     },
     "metadata": {},
     "output_type": "display_data"
    },
    {
     "data": {
      "application/vnd.jupyter.widget-view+json": {
       "model_id": "",
       "version_major": 2,
       "version_minor": 0
      },
      "text/plain": [
       "VBox(children=(Label(value=' 0.00MB of 0.00MB uploaded (0.00MB deduped)\\r'), FloatProgress(value=1.0, max=1.0)…"
      ]
     },
     "metadata": {},
     "output_type": "display_data"
    },
    {
     "data": {
      "text/html": [
       "Find user logs for this run at: <code>/home/ramkamal/DL/cs6910_assignment1/wandb/run-20210313_175817-vpbu36tm/logs/debug.log</code>"
      ],
      "text/plain": [
       "<IPython.core.display.HTML object>"
      ]
     },
     "metadata": {},
     "output_type": "display_data"
    },
    {
     "data": {
      "text/html": [
       "Find internal logs for this run at: <code>/home/ramkamal/DL/cs6910_assignment1/wandb/run-20210313_175817-vpbu36tm/logs/debug-internal.log</code>"
      ],
      "text/plain": [
       "<IPython.core.display.HTML object>"
      ]
     },
     "metadata": {},
     "output_type": "display_data"
    },
    {
     "data": {
      "text/html": [
       "Synced 5 W&B file(s), 0 media file(s), 0 artifact file(s) and 0 other file(s)"
      ],
      "text/plain": [
       "<IPython.core.display.HTML object>"
      ]
     },
     "metadata": {},
     "output_type": "display_data"
    },
    {
     "data": {
      "text/html": [
       "\n",
       "                    <br/>Synced <strong style=\"color:#cdcd00\">mild-sweep-3</strong>: <a href=\"https://wandb.ai/ramkamal/test4/runs/vpbu36tm\" target=\"_blank\">https://wandb.ai/ramkamal/test4/runs/vpbu36tm</a><br/>\n",
       "                "
      ],
      "text/plain": [
       "<IPython.core.display.HTML object>"
      ]
     },
     "metadata": {},
     "output_type": "display_data"
    },
    {
     "name": "stderr",
     "output_type": "stream",
     "text": [
      "\u001b[34m\u001b[1mwandb\u001b[0m: Agent Starting Run: ew92iw1t with config:\n",
      "\u001b[34m\u001b[1mwandb\u001b[0m: \tactivation: tanh\n",
      "\u001b[34m\u001b[1mwandb\u001b[0m: \tbatch_size: 32\n",
      "\u001b[34m\u001b[1mwandb\u001b[0m: \thidden_layer_size: 64\n",
      "\u001b[34m\u001b[1mwandb\u001b[0m: \tlr: 1e-05\n",
      "\u001b[34m\u001b[1mwandb\u001b[0m: \tnum_epochs: 5\n",
      "\u001b[34m\u001b[1mwandb\u001b[0m: \tnum_hidden_layers: 5\n",
      "\u001b[34m\u001b[1mwandb\u001b[0m: \toptimizer: momentum\n",
      "\u001b[34m\u001b[1mwandb\u001b[0m: \tweight_decay: 0.0005\n",
      "\u001b[34m\u001b[1mwandb\u001b[0m: \tweights_initializer: xavier\n"
     ]
    },
    {
     "data": {
      "text/html": [
       "\n",
       "                Tracking run with wandb version 0.10.22<br/>\n",
       "                Syncing run <strong style=\"color:#cdcd00\">silver-sweep-4</strong> to <a href=\"https://wandb.ai\" target=\"_blank\">Weights & Biases</a> <a href=\"https://docs.wandb.com/integrations/jupyter.html\" target=\"_blank\">(Documentation)</a>.<br/>\n",
       "                Project page: <a href=\"https://wandb.ai/ramkamal/test4\" target=\"_blank\">https://wandb.ai/ramkamal/test4</a><br/>\n",
       "                Sweep page: <a href=\"https://wandb.ai/ramkamal/test4/sweeps/192sf8wp\" target=\"_blank\">https://wandb.ai/ramkamal/test4/sweeps/192sf8wp</a><br/>\n",
       "Run page: <a href=\"https://wandb.ai/ramkamal/test4/runs/ew92iw1t\" target=\"_blank\">https://wandb.ai/ramkamal/test4/runs/ew92iw1t</a><br/>\n",
       "                Run data is saved locally in <code>/home/ramkamal/DL/cs6910_assignment1/wandb/run-20210313_175835-ew92iw1t</code><br/><br/>\n",
       "            "
      ],
      "text/plain": [
       "<IPython.core.display.HTML object>"
      ]
     },
     "metadata": {},
     "output_type": "display_data"
    },
    {
     "data": {
      "application/vnd.jupyter.widget-view+json": {
       "model_id": "b1a03d5653a64c8d9401c9e3b8d226f6",
       "version_major": 2,
       "version_minor": 0
      },
      "text/plain": [
       "HBox(children=(HTML(value=''), FloatProgress(value=0.0, max=1563.0), HTML(value='')))"
      ]
     },
     "metadata": {},
     "output_type": "display_data"
    },
    {
     "name": "stdout",
     "output_type": "stream",
     "text": [
      "\n"
     ]
    },
    {
     "data": {
      "application/vnd.jupyter.widget-view+json": {
       "model_id": "63269279ad42446fab81a35c972ffb0f",
       "version_major": 2,
       "version_minor": 0
      },
      "text/plain": [
       "HBox(children=(HTML(value=''), FloatProgress(value=0.0, max=1563.0), HTML(value='')))"
      ]
     },
     "metadata": {},
     "output_type": "display_data"
    },
    {
     "name": "stdout",
     "output_type": "stream",
     "text": [
      "\n"
     ]
    },
    {
     "data": {
      "application/vnd.jupyter.widget-view+json": {
       "model_id": "d0ed2f922e4c4e1e8bfbcbecb909dfb1",
       "version_major": 2,
       "version_minor": 0
      },
      "text/plain": [
       "HBox(children=(HTML(value=''), FloatProgress(value=0.0, max=1563.0), HTML(value='')))"
      ]
     },
     "metadata": {},
     "output_type": "display_data"
    },
    {
     "name": "stdout",
     "output_type": "stream",
     "text": [
      "\n"
     ]
    },
    {
     "data": {
      "application/vnd.jupyter.widget-view+json": {
       "model_id": "5e3c986caa6e49de923330ad0f8a3486",
       "version_major": 2,
       "version_minor": 0
      },
      "text/plain": [
       "HBox(children=(HTML(value=''), FloatProgress(value=0.0, max=1563.0), HTML(value='')))"
      ]
     },
     "metadata": {},
     "output_type": "display_data"
    },
    {
     "name": "stdout",
     "output_type": "stream",
     "text": [
      "\n"
     ]
    },
    {
     "data": {
      "application/vnd.jupyter.widget-view+json": {
       "model_id": "89727de1518245fe9f725449b5101f8b",
       "version_major": 2,
       "version_minor": 0
      },
      "text/plain": [
       "HBox(children=(HTML(value=''), FloatProgress(value=0.0, max=1563.0), HTML(value='')))"
      ]
     },
     "metadata": {},
     "output_type": "display_data"
    },
    {
     "name": "stdout",
     "output_type": "stream",
     "text": [
      "\n",
      "checkpoint 1\n"
     ]
    },
    {
     "data": {
      "text/html": [
       "<br/>Waiting for W&B process to finish, PID 18998<br/>Program ended successfully."
      ],
      "text/plain": [
       "<IPython.core.display.HTML object>"
      ]
     },
     "metadata": {},
     "output_type": "display_data"
    },
    {
     "data": {
      "application/vnd.jupyter.widget-view+json": {
       "model_id": "",
       "version_major": 2,
       "version_minor": 0
      },
      "text/plain": [
       "VBox(children=(Label(value=' 0.00MB of 0.00MB uploaded (0.00MB deduped)\\r'), FloatProgress(value=1.0, max=1.0)…"
      ]
     },
     "metadata": {},
     "output_type": "display_data"
    },
    {
     "data": {
      "text/html": [
       "Find user logs for this run at: <code>/home/ramkamal/DL/cs6910_assignment1/wandb/run-20210313_175835-ew92iw1t/logs/debug.log</code>"
      ],
      "text/plain": [
       "<IPython.core.display.HTML object>"
      ]
     },
     "metadata": {},
     "output_type": "display_data"
    },
    {
     "data": {
      "text/html": [
       "Find internal logs for this run at: <code>/home/ramkamal/DL/cs6910_assignment1/wandb/run-20210313_175835-ew92iw1t/logs/debug-internal.log</code>"
      ],
      "text/plain": [
       "<IPython.core.display.HTML object>"
      ]
     },
     "metadata": {},
     "output_type": "display_data"
    },
    {
     "data": {
      "text/html": [
       "Synced 5 W&B file(s), 0 media file(s), 0 artifact file(s) and 0 other file(s)"
      ],
      "text/plain": [
       "<IPython.core.display.HTML object>"
      ]
     },
     "metadata": {},
     "output_type": "display_data"
    },
    {
     "data": {
      "text/html": [
       "\n",
       "                    <br/>Synced <strong style=\"color:#cdcd00\">silver-sweep-4</strong>: <a href=\"https://wandb.ai/ramkamal/test4/runs/ew92iw1t\" target=\"_blank\">https://wandb.ai/ramkamal/test4/runs/ew92iw1t</a><br/>\n",
       "                "
      ],
      "text/plain": [
       "<IPython.core.display.HTML object>"
      ]
     },
     "metadata": {},
     "output_type": "display_data"
    },
    {
     "name": "stderr",
     "output_type": "stream",
     "text": [
      "\u001b[34m\u001b[1mwandb\u001b[0m: Sweep Agent: Waiting for job.\n",
      "\u001b[34m\u001b[1mwandb\u001b[0m: Ctrl + C detected. Stopping sweep.\n"
     ]
    }
   ],
   "source": [
    "# for logging the best model\n",
    "network_best = None\n",
    "val_acc_best = -1\n",
    "\n",
    "# performing the sweep\n",
    "wandb.agent(sweep_id, sweep_module.train, count=15)"
   ]
  },
  {
   "cell_type": "code",
   "execution_count": null,
   "metadata": {},
   "outputs": [],
   "source": []
  }
 ],
 "metadata": {
  "colab": {
   "collapsed_sections": [],
   "name": "Copy of DL Assignment 1.ipynb",
   "provenance": []
  },
  "kernelspec": {
   "display_name": "Python 3",
   "language": "python",
   "name": "python3"
  },
  "language_info": {
   "codemirror_mode": {
    "name": "ipython",
    "version": 3
   },
   "file_extension": ".py",
   "mimetype": "text/x-python",
   "name": "python",
   "nbconvert_exporter": "python",
   "pygments_lexer": "ipython3",
   "version": "3.7.9"
  },
  "widgets": {
   "application/vnd.jupyter.widget-state+json": {
    "0004826ae3e64f62927c5e84b2f2cb1c": {
     "model_module": "@jupyter-widgets/controls",
     "model_name": "HTMLModel",
     "state": {
      "_dom_classes": [],
      "_model_module": "@jupyter-widgets/controls",
      "_model_module_version": "1.5.0",
      "_model_name": "HTMLModel",
      "_view_count": null,
      "_view_module": "@jupyter-widgets/controls",
      "_view_module_version": "1.5.0",
      "_view_name": "HTMLView",
      "description": "",
      "description_tooltip": null,
      "layout": "IPY_MODEL_e0c2ae4879e0457dbb33fc92b0fc757e",
      "placeholder": "​",
      "style": "IPY_MODEL_624583dbe44e43408b72aefef62c2268",
      "value": " 1563/1563 [00:09&lt;00:00, 161.45it/s]"
     }
    },
    "068a82ab225d4f949515f0631f1f2333": {
     "model_module": "@jupyter-widgets/base",
     "model_name": "LayoutModel",
     "state": {
      "_model_module": "@jupyter-widgets/base",
      "_model_module_version": "1.2.0",
      "_model_name": "LayoutModel",
      "_view_count": null,
      "_view_module": "@jupyter-widgets/base",
      "_view_module_version": "1.2.0",
      "_view_name": "LayoutView",
      "align_content": null,
      "align_items": null,
      "align_self": null,
      "border": null,
      "bottom": null,
      "display": null,
      "flex": null,
      "flex_flow": null,
      "grid_area": null,
      "grid_auto_columns": null,
      "grid_auto_flow": null,
      "grid_auto_rows": null,
      "grid_column": null,
      "grid_gap": null,
      "grid_row": null,
      "grid_template_areas": null,
      "grid_template_columns": null,
      "grid_template_rows": null,
      "height": null,
      "justify_content": null,
      "justify_items": null,
      "left": null,
      "margin": null,
      "max_height": null,
      "max_width": null,
      "min_height": null,
      "min_width": null,
      "object_fit": null,
      "object_position": null,
      "order": null,
      "overflow": null,
      "overflow_x": null,
      "overflow_y": null,
      "padding": null,
      "right": null,
      "top": null,
      "visibility": null,
      "width": null
     }
    },
    "0bade47c35024c6ba9d7b09a23adc9ae": {
     "model_module": "@jupyter-widgets/controls",
     "model_name": "DescriptionStyleModel",
     "state": {
      "_model_module": "@jupyter-widgets/controls",
      "_model_module_version": "1.5.0",
      "_model_name": "DescriptionStyleModel",
      "_view_count": null,
      "_view_module": "@jupyter-widgets/base",
      "_view_module_version": "1.2.0",
      "_view_name": "StyleView",
      "description_width": ""
     }
    },
    "1409f72cd1974685a36ef1f004e747df": {
     "model_module": "@jupyter-widgets/base",
     "model_name": "LayoutModel",
     "state": {
      "_model_module": "@jupyter-widgets/base",
      "_model_module_version": "1.2.0",
      "_model_name": "LayoutModel",
      "_view_count": null,
      "_view_module": "@jupyter-widgets/base",
      "_view_module_version": "1.2.0",
      "_view_name": "LayoutView",
      "align_content": null,
      "align_items": null,
      "align_self": null,
      "border": null,
      "bottom": null,
      "display": null,
      "flex": null,
      "flex_flow": null,
      "grid_area": null,
      "grid_auto_columns": null,
      "grid_auto_flow": null,
      "grid_auto_rows": null,
      "grid_column": null,
      "grid_gap": null,
      "grid_row": null,
      "grid_template_areas": null,
      "grid_template_columns": null,
      "grid_template_rows": null,
      "height": null,
      "justify_content": null,
      "justify_items": null,
      "left": null,
      "margin": null,
      "max_height": null,
      "max_width": null,
      "min_height": null,
      "min_width": null,
      "object_fit": null,
      "object_position": null,
      "order": null,
      "overflow": null,
      "overflow_x": null,
      "overflow_y": null,
      "padding": null,
      "right": null,
      "top": null,
      "visibility": null,
      "width": null
     }
    },
    "148f0113ea3f49e1a3a502ece456930f": {
     "model_module": "@jupyter-widgets/controls",
     "model_name": "HTMLModel",
     "state": {
      "_dom_classes": [],
      "_model_module": "@jupyter-widgets/controls",
      "_model_module_version": "1.5.0",
      "_model_name": "HTMLModel",
      "_view_count": null,
      "_view_module": "@jupyter-widgets/controls",
      "_view_module_version": "1.5.0",
      "_view_name": "HTMLView",
      "description": "",
      "description_tooltip": null,
      "layout": "IPY_MODEL_6d7be37768484de48178b290387f29a0",
      "placeholder": "​",
      "style": "IPY_MODEL_f7317c3f27644ab3aa401c5d2f138e00",
      "value": " 1563/1563 [00:03&lt;00:00, 479.19it/s]"
     }
    },
    "1a2749a8fbd3469e957d0e50595ea695": {
     "model_module": "@jupyter-widgets/controls",
     "model_name": "FloatProgressModel",
     "state": {
      "_dom_classes": [],
      "_model_module": "@jupyter-widgets/controls",
      "_model_module_version": "1.5.0",
      "_model_name": "FloatProgressModel",
      "_view_count": null,
      "_view_module": "@jupyter-widgets/controls",
      "_view_module_version": "1.5.0",
      "_view_name": "ProgressView",
      "bar_style": "success",
      "description": "100%",
      "description_tooltip": null,
      "layout": "IPY_MODEL_1409f72cd1974685a36ef1f004e747df",
      "max": 1563,
      "min": 0,
      "orientation": "horizontal",
      "style": "IPY_MODEL_c5e9abd7625249beb4636a6cd1b718dd",
      "value": 1563
     }
    },
    "1a2a840d21fb442f9ef1ac4a5d734a3e": {
     "model_module": "@jupyter-widgets/controls",
     "model_name": "HTMLModel",
     "state": {
      "_dom_classes": [],
      "_model_module": "@jupyter-widgets/controls",
      "_model_module_version": "1.5.0",
      "_model_name": "HTMLModel",
      "_view_count": null,
      "_view_module": "@jupyter-widgets/controls",
      "_view_module_version": "1.5.0",
      "_view_name": "HTMLView",
      "description": "",
      "description_tooltip": null,
      "layout": "IPY_MODEL_cc0deba3917a4aa7894b6a1a75cead48",
      "placeholder": "​",
      "style": "IPY_MODEL_0bade47c35024c6ba9d7b09a23adc9ae",
      "value": " 1563/1563 [00:03&lt;00:00, 488.19it/s]"
     }
    },
    "1b7472940a1f482c82a949adfa7eadbe": {
     "model_module": "@jupyter-widgets/base",
     "model_name": "LayoutModel",
     "state": {
      "_model_module": "@jupyter-widgets/base",
      "_model_module_version": "1.2.0",
      "_model_name": "LayoutModel",
      "_view_count": null,
      "_view_module": "@jupyter-widgets/base",
      "_view_module_version": "1.2.0",
      "_view_name": "LayoutView",
      "align_content": null,
      "align_items": null,
      "align_self": null,
      "border": null,
      "bottom": null,
      "display": null,
      "flex": null,
      "flex_flow": null,
      "grid_area": null,
      "grid_auto_columns": null,
      "grid_auto_flow": null,
      "grid_auto_rows": null,
      "grid_column": null,
      "grid_gap": null,
      "grid_row": null,
      "grid_template_areas": null,
      "grid_template_columns": null,
      "grid_template_rows": null,
      "height": null,
      "justify_content": null,
      "justify_items": null,
      "left": null,
      "margin": null,
      "max_height": null,
      "max_width": null,
      "min_height": null,
      "min_width": null,
      "object_fit": null,
      "object_position": null,
      "order": null,
      "overflow": null,
      "overflow_x": null,
      "overflow_y": null,
      "padding": null,
      "right": null,
      "top": null,
      "visibility": null,
      "width": null
     }
    },
    "2e32b7717a2549d2ae8ce340d07115d2": {
     "model_module": "@jupyter-widgets/controls",
     "model_name": "DescriptionStyleModel",
     "state": {
      "_model_module": "@jupyter-widgets/controls",
      "_model_module_version": "1.5.0",
      "_model_name": "DescriptionStyleModel",
      "_view_count": null,
      "_view_module": "@jupyter-widgets/base",
      "_view_module_version": "1.2.0",
      "_view_name": "StyleView",
      "description_width": ""
     }
    },
    "37d3ca12108a489f8d3b94f8fdd920f8": {
     "model_module": "@jupyter-widgets/controls",
     "model_name": "HTMLModel",
     "state": {
      "_dom_classes": [],
      "_model_module": "@jupyter-widgets/controls",
      "_model_module_version": "1.5.0",
      "_model_name": "HTMLModel",
      "_view_count": null,
      "_view_module": "@jupyter-widgets/controls",
      "_view_module_version": "1.5.0",
      "_view_name": "HTMLView",
      "description": "",
      "description_tooltip": null,
      "layout": "IPY_MODEL_ed941b0b79fa4748979ba2564b4ddd80",
      "placeholder": "​",
      "style": "IPY_MODEL_2e32b7717a2549d2ae8ce340d07115d2",
      "value": " 1563/1563 [00:12&lt;00:00, 122.11it/s]"
     }
    },
    "472d0234d372436688df2870c5392fb1": {
     "model_module": "@jupyter-widgets/controls",
     "model_name": "DescriptionStyleModel",
     "state": {
      "_model_module": "@jupyter-widgets/controls",
      "_model_module_version": "1.5.0",
      "_model_name": "DescriptionStyleModel",
      "_view_count": null,
      "_view_module": "@jupyter-widgets/base",
      "_view_module_version": "1.2.0",
      "_view_name": "StyleView",
      "description_width": ""
     }
    },
    "5767b17520904e64b39c3eb84eb0c155": {
     "model_module": "@jupyter-widgets/controls",
     "model_name": "HBoxModel",
     "state": {
      "_dom_classes": [],
      "_model_module": "@jupyter-widgets/controls",
      "_model_module_version": "1.5.0",
      "_model_name": "HBoxModel",
      "_view_count": null,
      "_view_module": "@jupyter-widgets/controls",
      "_view_module_version": "1.5.0",
      "_view_name": "HBoxView",
      "box_style": "",
      "children": [
       "IPY_MODEL_743fb548cb6e48839bd3971a10e4d0f4",
       "IPY_MODEL_37d3ca12108a489f8d3b94f8fdd920f8"
      ],
      "layout": "IPY_MODEL_068a82ab225d4f949515f0631f1f2333"
     }
    },
    "5baace069b424191ba5a8317d10c6e64": {
     "model_module": "@jupyter-widgets/base",
     "model_name": "LayoutModel",
     "state": {
      "_model_module": "@jupyter-widgets/base",
      "_model_module_version": "1.2.0",
      "_model_name": "LayoutModel",
      "_view_count": null,
      "_view_module": "@jupyter-widgets/base",
      "_view_module_version": "1.2.0",
      "_view_name": "LayoutView",
      "align_content": null,
      "align_items": null,
      "align_self": null,
      "border": null,
      "bottom": null,
      "display": null,
      "flex": null,
      "flex_flow": null,
      "grid_area": null,
      "grid_auto_columns": null,
      "grid_auto_flow": null,
      "grid_auto_rows": null,
      "grid_column": null,
      "grid_gap": null,
      "grid_row": null,
      "grid_template_areas": null,
      "grid_template_columns": null,
      "grid_template_rows": null,
      "height": null,
      "justify_content": null,
      "justify_items": null,
      "left": null,
      "margin": null,
      "max_height": null,
      "max_width": null,
      "min_height": null,
      "min_width": null,
      "object_fit": null,
      "object_position": null,
      "order": null,
      "overflow": null,
      "overflow_x": null,
      "overflow_y": null,
      "padding": null,
      "right": null,
      "top": null,
      "visibility": null,
      "width": null
     }
    },
    "60009b5f70084abfae444048ed1a5636": {
     "model_module": "@jupyter-widgets/base",
     "model_name": "LayoutModel",
     "state": {
      "_model_module": "@jupyter-widgets/base",
      "_model_module_version": "1.2.0",
      "_model_name": "LayoutModel",
      "_view_count": null,
      "_view_module": "@jupyter-widgets/base",
      "_view_module_version": "1.2.0",
      "_view_name": "LayoutView",
      "align_content": null,
      "align_items": null,
      "align_self": null,
      "border": null,
      "bottom": null,
      "display": null,
      "flex": null,
      "flex_flow": null,
      "grid_area": null,
      "grid_auto_columns": null,
      "grid_auto_flow": null,
      "grid_auto_rows": null,
      "grid_column": null,
      "grid_gap": null,
      "grid_row": null,
      "grid_template_areas": null,
      "grid_template_columns": null,
      "grid_template_rows": null,
      "height": null,
      "justify_content": null,
      "justify_items": null,
      "left": null,
      "margin": null,
      "max_height": null,
      "max_width": null,
      "min_height": null,
      "min_width": null,
      "object_fit": null,
      "object_position": null,
      "order": null,
      "overflow": null,
      "overflow_x": null,
      "overflow_y": null,
      "padding": null,
      "right": null,
      "top": null,
      "visibility": null,
      "width": null
     }
    },
    "624583dbe44e43408b72aefef62c2268": {
     "model_module": "@jupyter-widgets/controls",
     "model_name": "DescriptionStyleModel",
     "state": {
      "_model_module": "@jupyter-widgets/controls",
      "_model_module_version": "1.5.0",
      "_model_name": "DescriptionStyleModel",
      "_view_count": null,
      "_view_module": "@jupyter-widgets/base",
      "_view_module_version": "1.2.0",
      "_view_name": "StyleView",
      "description_width": ""
     }
    },
    "6ccba34f56ba4ae19e4f9456e49f4d3d": {
     "model_module": "@jupyter-widgets/base",
     "model_name": "LayoutModel",
     "state": {
      "_model_module": "@jupyter-widgets/base",
      "_model_module_version": "1.2.0",
      "_model_name": "LayoutModel",
      "_view_count": null,
      "_view_module": "@jupyter-widgets/base",
      "_view_module_version": "1.2.0",
      "_view_name": "LayoutView",
      "align_content": null,
      "align_items": null,
      "align_self": null,
      "border": null,
      "bottom": null,
      "display": null,
      "flex": null,
      "flex_flow": null,
      "grid_area": null,
      "grid_auto_columns": null,
      "grid_auto_flow": null,
      "grid_auto_rows": null,
      "grid_column": null,
      "grid_gap": null,
      "grid_row": null,
      "grid_template_areas": null,
      "grid_template_columns": null,
      "grid_template_rows": null,
      "height": null,
      "justify_content": null,
      "justify_items": null,
      "left": null,
      "margin": null,
      "max_height": null,
      "max_width": null,
      "min_height": null,
      "min_width": null,
      "object_fit": null,
      "object_position": null,
      "order": null,
      "overflow": null,
      "overflow_x": null,
      "overflow_y": null,
      "padding": null,
      "right": null,
      "top": null,
      "visibility": null,
      "width": null
     }
    },
    "6d7be37768484de48178b290387f29a0": {
     "model_module": "@jupyter-widgets/base",
     "model_name": "LayoutModel",
     "state": {
      "_model_module": "@jupyter-widgets/base",
      "_model_module_version": "1.2.0",
      "_model_name": "LayoutModel",
      "_view_count": null,
      "_view_module": "@jupyter-widgets/base",
      "_view_module_version": "1.2.0",
      "_view_name": "LayoutView",
      "align_content": null,
      "align_items": null,
      "align_self": null,
      "border": null,
      "bottom": null,
      "display": null,
      "flex": null,
      "flex_flow": null,
      "grid_area": null,
      "grid_auto_columns": null,
      "grid_auto_flow": null,
      "grid_auto_rows": null,
      "grid_column": null,
      "grid_gap": null,
      "grid_row": null,
      "grid_template_areas": null,
      "grid_template_columns": null,
      "grid_template_rows": null,
      "height": null,
      "justify_content": null,
      "justify_items": null,
      "left": null,
      "margin": null,
      "max_height": null,
      "max_width": null,
      "min_height": null,
      "min_width": null,
      "object_fit": null,
      "object_position": null,
      "order": null,
      "overflow": null,
      "overflow_x": null,
      "overflow_y": null,
      "padding": null,
      "right": null,
      "top": null,
      "visibility": null,
      "width": null
     }
    },
    "743fb548cb6e48839bd3971a10e4d0f4": {
     "model_module": "@jupyter-widgets/controls",
     "model_name": "FloatProgressModel",
     "state": {
      "_dom_classes": [],
      "_model_module": "@jupyter-widgets/controls",
      "_model_module_version": "1.5.0",
      "_model_name": "FloatProgressModel",
      "_view_count": null,
      "_view_module": "@jupyter-widgets/controls",
      "_view_module_version": "1.5.0",
      "_view_name": "ProgressView",
      "bar_style": "success",
      "description": "100%",
      "description_tooltip": null,
      "layout": "IPY_MODEL_9abdf21876ed413ba32ce671e2032b22",
      "max": 1563,
      "min": 0,
      "orientation": "horizontal",
      "style": "IPY_MODEL_dc665b6ca52c4e63bde1c926a487c239",
      "value": 1563
     }
    },
    "79b3070ee59d4b31bf3245e8717f1cee": {
     "model_module": "@jupyter-widgets/base",
     "model_name": "LayoutModel",
     "state": {
      "_model_module": "@jupyter-widgets/base",
      "_model_module_version": "1.2.0",
      "_model_name": "LayoutModel",
      "_view_count": null,
      "_view_module": "@jupyter-widgets/base",
      "_view_module_version": "1.2.0",
      "_view_name": "LayoutView",
      "align_content": null,
      "align_items": null,
      "align_self": null,
      "border": null,
      "bottom": null,
      "display": null,
      "flex": null,
      "flex_flow": null,
      "grid_area": null,
      "grid_auto_columns": null,
      "grid_auto_flow": null,
      "grid_auto_rows": null,
      "grid_column": null,
      "grid_gap": null,
      "grid_row": null,
      "grid_template_areas": null,
      "grid_template_columns": null,
      "grid_template_rows": null,
      "height": null,
      "justify_content": null,
      "justify_items": null,
      "left": null,
      "margin": null,
      "max_height": null,
      "max_width": null,
      "min_height": null,
      "min_width": null,
      "object_fit": null,
      "object_position": null,
      "order": null,
      "overflow": null,
      "overflow_x": null,
      "overflow_y": null,
      "padding": null,
      "right": null,
      "top": null,
      "visibility": null,
      "width": null
     }
    },
    "8b0e71e48dfe4c49b9c5b9839423f82a": {
     "model_module": "@jupyter-widgets/controls",
     "model_name": "HBoxModel",
     "state": {
      "_dom_classes": [],
      "_model_module": "@jupyter-widgets/controls",
      "_model_module_version": "1.5.0",
      "_model_name": "HBoxModel",
      "_view_count": null,
      "_view_module": "@jupyter-widgets/controls",
      "_view_module_version": "1.5.0",
      "_view_name": "HBoxView",
      "box_style": "",
      "children": [
       "IPY_MODEL_bf370a5316bc4e3f9ea3b3b4ac6ffefb",
       "IPY_MODEL_1a2a840d21fb442f9ef1ac4a5d734a3e"
      ],
      "layout": "IPY_MODEL_eaaeedd5913f4d198a23a62c322afa8d"
     }
    },
    "91c69c36fd5540a685e806da64d05ee1": {
     "model_module": "@jupyter-widgets/base",
     "model_name": "LayoutModel",
     "state": {
      "_model_module": "@jupyter-widgets/base",
      "_model_module_version": "1.2.0",
      "_model_name": "LayoutModel",
      "_view_count": null,
      "_view_module": "@jupyter-widgets/base",
      "_view_module_version": "1.2.0",
      "_view_name": "LayoutView",
      "align_content": null,
      "align_items": null,
      "align_self": null,
      "border": null,
      "bottom": null,
      "display": null,
      "flex": null,
      "flex_flow": null,
      "grid_area": null,
      "grid_auto_columns": null,
      "grid_auto_flow": null,
      "grid_auto_rows": null,
      "grid_column": null,
      "grid_gap": null,
      "grid_row": null,
      "grid_template_areas": null,
      "grid_template_columns": null,
      "grid_template_rows": null,
      "height": null,
      "justify_content": null,
      "justify_items": null,
      "left": null,
      "margin": null,
      "max_height": null,
      "max_width": null,
      "min_height": null,
      "min_width": null,
      "object_fit": null,
      "object_position": null,
      "order": null,
      "overflow": null,
      "overflow_x": null,
      "overflow_y": null,
      "padding": null,
      "right": null,
      "top": null,
      "visibility": null,
      "width": null
     }
    },
    "94248c555fad417fb42be08bdc3eefd2": {
     "model_module": "@jupyter-widgets/controls",
     "model_name": "ProgressStyleModel",
     "state": {
      "_model_module": "@jupyter-widgets/controls",
      "_model_module_version": "1.5.0",
      "_model_name": "ProgressStyleModel",
      "_view_count": null,
      "_view_module": "@jupyter-widgets/base",
      "_view_module_version": "1.2.0",
      "_view_name": "StyleView",
      "bar_color": null,
      "description_width": "initial"
     }
    },
    "97a0a34f503b4d5d83d21cef8b69cd04": {
     "model_module": "@jupyter-widgets/controls",
     "model_name": "ProgressStyleModel",
     "state": {
      "_model_module": "@jupyter-widgets/controls",
      "_model_module_version": "1.5.0",
      "_model_name": "ProgressStyleModel",
      "_view_count": null,
      "_view_module": "@jupyter-widgets/base",
      "_view_module_version": "1.2.0",
      "_view_name": "StyleView",
      "bar_color": null,
      "description_width": "initial"
     }
    },
    "9abdf21876ed413ba32ce671e2032b22": {
     "model_module": "@jupyter-widgets/base",
     "model_name": "LayoutModel",
     "state": {
      "_model_module": "@jupyter-widgets/base",
      "_model_module_version": "1.2.0",
      "_model_name": "LayoutModel",
      "_view_count": null,
      "_view_module": "@jupyter-widgets/base",
      "_view_module_version": "1.2.0",
      "_view_name": "LayoutView",
      "align_content": null,
      "align_items": null,
      "align_self": null,
      "border": null,
      "bottom": null,
      "display": null,
      "flex": null,
      "flex_flow": null,
      "grid_area": null,
      "grid_auto_columns": null,
      "grid_auto_flow": null,
      "grid_auto_rows": null,
      "grid_column": null,
      "grid_gap": null,
      "grid_row": null,
      "grid_template_areas": null,
      "grid_template_columns": null,
      "grid_template_rows": null,
      "height": null,
      "justify_content": null,
      "justify_items": null,
      "left": null,
      "margin": null,
      "max_height": null,
      "max_width": null,
      "min_height": null,
      "min_width": null,
      "object_fit": null,
      "object_position": null,
      "order": null,
      "overflow": null,
      "overflow_x": null,
      "overflow_y": null,
      "padding": null,
      "right": null,
      "top": null,
      "visibility": null,
      "width": null
     }
    },
    "a2015e4805b94caeb49c15992236cfe2": {
     "model_module": "@jupyter-widgets/controls",
     "model_name": "FloatProgressModel",
     "state": {
      "_dom_classes": [],
      "_model_module": "@jupyter-widgets/controls",
      "_model_module_version": "1.5.0",
      "_model_name": "FloatProgressModel",
      "_view_count": null,
      "_view_module": "@jupyter-widgets/controls",
      "_view_module_version": "1.5.0",
      "_view_name": "ProgressView",
      "bar_style": "success",
      "description": "100%",
      "description_tooltip": null,
      "layout": "IPY_MODEL_d1ee27b8c6654f94be18707d762b2d9e",
      "max": 1563,
      "min": 0,
      "orientation": "horizontal",
      "style": "IPY_MODEL_94248c555fad417fb42be08bdc3eefd2",
      "value": 1563
     }
    },
    "a8bb3f0952d446d98401c33621a2da66": {
     "model_module": "@jupyter-widgets/controls",
     "model_name": "HBoxModel",
     "state": {
      "_dom_classes": [],
      "_model_module": "@jupyter-widgets/controls",
      "_model_module_version": "1.5.0",
      "_model_name": "HBoxModel",
      "_view_count": null,
      "_view_module": "@jupyter-widgets/controls",
      "_view_module_version": "1.5.0",
      "_view_name": "HBoxView",
      "box_style": "",
      "children": [
       "IPY_MODEL_a2015e4805b94caeb49c15992236cfe2",
       "IPY_MODEL_148f0113ea3f49e1a3a502ece456930f"
      ],
      "layout": "IPY_MODEL_1b7472940a1f482c82a949adfa7eadbe"
     }
    },
    "b1654360e87d48cda29ffb5791fa27b1": {
     "model_module": "@jupyter-widgets/controls",
     "model_name": "ProgressStyleModel",
     "state": {
      "_model_module": "@jupyter-widgets/controls",
      "_model_module_version": "1.5.0",
      "_model_name": "ProgressStyleModel",
      "_view_count": null,
      "_view_module": "@jupyter-widgets/base",
      "_view_module_version": "1.2.0",
      "_view_name": "StyleView",
      "bar_color": null,
      "description_width": "initial"
     }
    },
    "bf370a5316bc4e3f9ea3b3b4ac6ffefb": {
     "model_module": "@jupyter-widgets/controls",
     "model_name": "FloatProgressModel",
     "state": {
      "_dom_classes": [],
      "_model_module": "@jupyter-widgets/controls",
      "_model_module_version": "1.5.0",
      "_model_name": "FloatProgressModel",
      "_view_count": null,
      "_view_module": "@jupyter-widgets/controls",
      "_view_module_version": "1.5.0",
      "_view_name": "ProgressView",
      "bar_style": "success",
      "description": "100%",
      "description_tooltip": null,
      "layout": "IPY_MODEL_6ccba34f56ba4ae19e4f9456e49f4d3d",
      "max": 1563,
      "min": 0,
      "orientation": "horizontal",
      "style": "IPY_MODEL_97a0a34f503b4d5d83d21cef8b69cd04",
      "value": 1563
     }
    },
    "c1a1bfeb4bf341258fd09b6aaa6ce324": {
     "model_module": "@jupyter-widgets/controls",
     "model_name": "FloatProgressModel",
     "state": {
      "_dom_classes": [],
      "_model_module": "@jupyter-widgets/controls",
      "_model_module_version": "1.5.0",
      "_model_name": "FloatProgressModel",
      "_view_count": null,
      "_view_module": "@jupyter-widgets/controls",
      "_view_module_version": "1.5.0",
      "_view_name": "ProgressView",
      "bar_style": "success",
      "description": "100%",
      "description_tooltip": null,
      "layout": "IPY_MODEL_79b3070ee59d4b31bf3245e8717f1cee",
      "max": 1563,
      "min": 0,
      "orientation": "horizontal",
      "style": "IPY_MODEL_b1654360e87d48cda29ffb5791fa27b1",
      "value": 1563
     }
    },
    "c5e9abd7625249beb4636a6cd1b718dd": {
     "model_module": "@jupyter-widgets/controls",
     "model_name": "ProgressStyleModel",
     "state": {
      "_model_module": "@jupyter-widgets/controls",
      "_model_module_version": "1.5.0",
      "_model_name": "ProgressStyleModel",
      "_view_count": null,
      "_view_module": "@jupyter-widgets/base",
      "_view_module_version": "1.2.0",
      "_view_name": "StyleView",
      "bar_color": null,
      "description_width": "initial"
     }
    },
    "cc0deba3917a4aa7894b6a1a75cead48": {
     "model_module": "@jupyter-widgets/base",
     "model_name": "LayoutModel",
     "state": {
      "_model_module": "@jupyter-widgets/base",
      "_model_module_version": "1.2.0",
      "_model_name": "LayoutModel",
      "_view_count": null,
      "_view_module": "@jupyter-widgets/base",
      "_view_module_version": "1.2.0",
      "_view_name": "LayoutView",
      "align_content": null,
      "align_items": null,
      "align_self": null,
      "border": null,
      "bottom": null,
      "display": null,
      "flex": null,
      "flex_flow": null,
      "grid_area": null,
      "grid_auto_columns": null,
      "grid_auto_flow": null,
      "grid_auto_rows": null,
      "grid_column": null,
      "grid_gap": null,
      "grid_row": null,
      "grid_template_areas": null,
      "grid_template_columns": null,
      "grid_template_rows": null,
      "height": null,
      "justify_content": null,
      "justify_items": null,
      "left": null,
      "margin": null,
      "max_height": null,
      "max_width": null,
      "min_height": null,
      "min_width": null,
      "object_fit": null,
      "object_position": null,
      "order": null,
      "overflow": null,
      "overflow_x": null,
      "overflow_y": null,
      "padding": null,
      "right": null,
      "top": null,
      "visibility": null,
      "width": null
     }
    },
    "cfed3887a7ce45d2b8e382112b18019f": {
     "model_module": "@jupyter-widgets/controls",
     "model_name": "HBoxModel",
     "state": {
      "_dom_classes": [],
      "_model_module": "@jupyter-widgets/controls",
      "_model_module_version": "1.5.0",
      "_model_name": "HBoxModel",
      "_view_count": null,
      "_view_module": "@jupyter-widgets/controls",
      "_view_module_version": "1.5.0",
      "_view_name": "HBoxView",
      "box_style": "",
      "children": [
       "IPY_MODEL_1a2749a8fbd3469e957d0e50595ea695",
       "IPY_MODEL_0004826ae3e64f62927c5e84b2f2cb1c"
      ],
      "layout": "IPY_MODEL_60009b5f70084abfae444048ed1a5636"
     }
    },
    "d1ee27b8c6654f94be18707d762b2d9e": {
     "model_module": "@jupyter-widgets/base",
     "model_name": "LayoutModel",
     "state": {
      "_model_module": "@jupyter-widgets/base",
      "_model_module_version": "1.2.0",
      "_model_name": "LayoutModel",
      "_view_count": null,
      "_view_module": "@jupyter-widgets/base",
      "_view_module_version": "1.2.0",
      "_view_name": "LayoutView",
      "align_content": null,
      "align_items": null,
      "align_self": null,
      "border": null,
      "bottom": null,
      "display": null,
      "flex": null,
      "flex_flow": null,
      "grid_area": null,
      "grid_auto_columns": null,
      "grid_auto_flow": null,
      "grid_auto_rows": null,
      "grid_column": null,
      "grid_gap": null,
      "grid_row": null,
      "grid_template_areas": null,
      "grid_template_columns": null,
      "grid_template_rows": null,
      "height": null,
      "justify_content": null,
      "justify_items": null,
      "left": null,
      "margin": null,
      "max_height": null,
      "max_width": null,
      "min_height": null,
      "min_width": null,
      "object_fit": null,
      "object_position": null,
      "order": null,
      "overflow": null,
      "overflow_x": null,
      "overflow_y": null,
      "padding": null,
      "right": null,
      "top": null,
      "visibility": null,
      "width": null
     }
    },
    "dc665b6ca52c4e63bde1c926a487c239": {
     "model_module": "@jupyter-widgets/controls",
     "model_name": "ProgressStyleModel",
     "state": {
      "_model_module": "@jupyter-widgets/controls",
      "_model_module_version": "1.5.0",
      "_model_name": "ProgressStyleModel",
      "_view_count": null,
      "_view_module": "@jupyter-widgets/base",
      "_view_module_version": "1.2.0",
      "_view_name": "StyleView",
      "bar_color": null,
      "description_width": "initial"
     }
    },
    "e0c2ae4879e0457dbb33fc92b0fc757e": {
     "model_module": "@jupyter-widgets/base",
     "model_name": "LayoutModel",
     "state": {
      "_model_module": "@jupyter-widgets/base",
      "_model_module_version": "1.2.0",
      "_model_name": "LayoutModel",
      "_view_count": null,
      "_view_module": "@jupyter-widgets/base",
      "_view_module_version": "1.2.0",
      "_view_name": "LayoutView",
      "align_content": null,
      "align_items": null,
      "align_self": null,
      "border": null,
      "bottom": null,
      "display": null,
      "flex": null,
      "flex_flow": null,
      "grid_area": null,
      "grid_auto_columns": null,
      "grid_auto_flow": null,
      "grid_auto_rows": null,
      "grid_column": null,
      "grid_gap": null,
      "grid_row": null,
      "grid_template_areas": null,
      "grid_template_columns": null,
      "grid_template_rows": null,
      "height": null,
      "justify_content": null,
      "justify_items": null,
      "left": null,
      "margin": null,
      "max_height": null,
      "max_width": null,
      "min_height": null,
      "min_width": null,
      "object_fit": null,
      "object_position": null,
      "order": null,
      "overflow": null,
      "overflow_x": null,
      "overflow_y": null,
      "padding": null,
      "right": null,
      "top": null,
      "visibility": null,
      "width": null
     }
    },
    "eaaeedd5913f4d198a23a62c322afa8d": {
     "model_module": "@jupyter-widgets/base",
     "model_name": "LayoutModel",
     "state": {
      "_model_module": "@jupyter-widgets/base",
      "_model_module_version": "1.2.0",
      "_model_name": "LayoutModel",
      "_view_count": null,
      "_view_module": "@jupyter-widgets/base",
      "_view_module_version": "1.2.0",
      "_view_name": "LayoutView",
      "align_content": null,
      "align_items": null,
      "align_self": null,
      "border": null,
      "bottom": null,
      "display": null,
      "flex": null,
      "flex_flow": null,
      "grid_area": null,
      "grid_auto_columns": null,
      "grid_auto_flow": null,
      "grid_auto_rows": null,
      "grid_column": null,
      "grid_gap": null,
      "grid_row": null,
      "grid_template_areas": null,
      "grid_template_columns": null,
      "grid_template_rows": null,
      "height": null,
      "justify_content": null,
      "justify_items": null,
      "left": null,
      "margin": null,
      "max_height": null,
      "max_width": null,
      "min_height": null,
      "min_width": null,
      "object_fit": null,
      "object_position": null,
      "order": null,
      "overflow": null,
      "overflow_x": null,
      "overflow_y": null,
      "padding": null,
      "right": null,
      "top": null,
      "visibility": null,
      "width": null
     }
    },
    "ed941b0b79fa4748979ba2564b4ddd80": {
     "model_module": "@jupyter-widgets/base",
     "model_name": "LayoutModel",
     "state": {
      "_model_module": "@jupyter-widgets/base",
      "_model_module_version": "1.2.0",
      "_model_name": "LayoutModel",
      "_view_count": null,
      "_view_module": "@jupyter-widgets/base",
      "_view_module_version": "1.2.0",
      "_view_name": "LayoutView",
      "align_content": null,
      "align_items": null,
      "align_self": null,
      "border": null,
      "bottom": null,
      "display": null,
      "flex": null,
      "flex_flow": null,
      "grid_area": null,
      "grid_auto_columns": null,
      "grid_auto_flow": null,
      "grid_auto_rows": null,
      "grid_column": null,
      "grid_gap": null,
      "grid_row": null,
      "grid_template_areas": null,
      "grid_template_columns": null,
      "grid_template_rows": null,
      "height": null,
      "justify_content": null,
      "justify_items": null,
      "left": null,
      "margin": null,
      "max_height": null,
      "max_width": null,
      "min_height": null,
      "min_width": null,
      "object_fit": null,
      "object_position": null,
      "order": null,
      "overflow": null,
      "overflow_x": null,
      "overflow_y": null,
      "padding": null,
      "right": null,
      "top": null,
      "visibility": null,
      "width": null
     }
    },
    "f7317c3f27644ab3aa401c5d2f138e00": {
     "model_module": "@jupyter-widgets/controls",
     "model_name": "DescriptionStyleModel",
     "state": {
      "_model_module": "@jupyter-widgets/controls",
      "_model_module_version": "1.5.0",
      "_model_name": "DescriptionStyleModel",
      "_view_count": null,
      "_view_module": "@jupyter-widgets/base",
      "_view_module_version": "1.2.0",
      "_view_name": "StyleView",
      "description_width": ""
     }
    },
    "f92e3778d4d845a89ab5474bc610a4ef": {
     "model_module": "@jupyter-widgets/controls",
     "model_name": "HTMLModel",
     "state": {
      "_dom_classes": [],
      "_model_module": "@jupyter-widgets/controls",
      "_model_module_version": "1.5.0",
      "_model_name": "HTMLModel",
      "_view_count": null,
      "_view_module": "@jupyter-widgets/controls",
      "_view_module_version": "1.5.0",
      "_view_name": "HTMLView",
      "description": "",
      "description_tooltip": null,
      "layout": "IPY_MODEL_5baace069b424191ba5a8317d10c6e64",
      "placeholder": "​",
      "style": "IPY_MODEL_472d0234d372436688df2870c5392fb1",
      "value": " 1563/1563 [00:03&lt;00:00, 489.46it/s]"
     }
    },
    "fe67144cc0964d7a983fb368b5c4dfb7": {
     "model_module": "@jupyter-widgets/controls",
     "model_name": "HBoxModel",
     "state": {
      "_dom_classes": [],
      "_model_module": "@jupyter-widgets/controls",
      "_model_module_version": "1.5.0",
      "_model_name": "HBoxModel",
      "_view_count": null,
      "_view_module": "@jupyter-widgets/controls",
      "_view_module_version": "1.5.0",
      "_view_name": "HBoxView",
      "box_style": "",
      "children": [
       "IPY_MODEL_c1a1bfeb4bf341258fd09b6aaa6ce324",
       "IPY_MODEL_f92e3778d4d845a89ab5474bc610a4ef"
      ],
      "layout": "IPY_MODEL_91c69c36fd5540a685e806da64d05ee1"
     }
    }
   }
  }
 },
 "nbformat": 4,
 "nbformat_minor": 1
}
