{
  "nbformat": 4,
  "nbformat_minor": 0,
  "metadata": {
    "colab": {
      "name": "Copy of DL Assignment 1.ipynb",
      "provenance": [],
      "collapsed_sections": []
    },
    "kernelspec": {
      "display_name": "Python 3",
      "language": "python",
      "name": "python3"
    },
    "language_info": {
      "codemirror_mode": {
        "name": "ipython",
        "version": 3
      },
      "file_extension": ".py",
      "mimetype": "text/x-python",
      "name": "python",
      "nbconvert_exporter": "python",
      "pygments_lexer": "ipython3",
      "version": "3.6.9-final"
    },
    "widgets": {
      "application/vnd.jupyter.widget-state+json": {
        "a7caf3a9ba7a40b6a4a13bb32c63c93f": {
          "model_module": "@jupyter-widgets/controls",
          "model_name": "HBoxModel",
          "state": {
            "_view_name": "HBoxView",
            "_dom_classes": [],
            "_model_name": "HBoxModel",
            "_view_module": "@jupyter-widgets/controls",
            "_model_module_version": "1.5.0",
            "_view_count": null,
            "_view_module_version": "1.5.0",
            "box_style": "",
            "layout": "IPY_MODEL_5c54510107c042148e6d05a649a52d8d",
            "_model_module": "@jupyter-widgets/controls",
            "children": [
              "IPY_MODEL_f4356eb5428b4fd993e3f419ef515427",
              "IPY_MODEL_4bbe8a71a10d429b8040b7103909b85c"
            ]
          }
        },
        "5c54510107c042148e6d05a649a52d8d": {
          "model_module": "@jupyter-widgets/base",
          "model_name": "LayoutModel",
          "state": {
            "_view_name": "LayoutView",
            "grid_template_rows": null,
            "right": null,
            "justify_content": null,
            "_view_module": "@jupyter-widgets/base",
            "overflow": null,
            "_model_module_version": "1.2.0",
            "_view_count": null,
            "flex_flow": null,
            "width": null,
            "min_width": null,
            "border": null,
            "align_items": null,
            "bottom": null,
            "_model_module": "@jupyter-widgets/base",
            "top": null,
            "grid_column": null,
            "overflow_y": null,
            "overflow_x": null,
            "grid_auto_flow": null,
            "grid_area": null,
            "grid_template_columns": null,
            "flex": null,
            "_model_name": "LayoutModel",
            "justify_items": null,
            "grid_row": null,
            "max_height": null,
            "align_content": null,
            "visibility": null,
            "align_self": null,
            "height": null,
            "min_height": null,
            "padding": null,
            "grid_auto_rows": null,
            "grid_gap": null,
            "max_width": null,
            "order": null,
            "_view_module_version": "1.2.0",
            "grid_template_areas": null,
            "object_position": null,
            "object_fit": null,
            "grid_auto_columns": null,
            "margin": null,
            "display": null,
            "left": null
          }
        },
        "f4356eb5428b4fd993e3f419ef515427": {
          "model_module": "@jupyter-widgets/controls",
          "model_name": "FloatProgressModel",
          "state": {
            "_view_name": "ProgressView",
            "style": "IPY_MODEL_3adae30dd5a9495cb71dad54690ae5a1",
            "_dom_classes": [],
            "description": "100%",
            "_model_name": "FloatProgressModel",
            "bar_style": "success",
            "max": 1563,
            "_view_module": "@jupyter-widgets/controls",
            "_model_module_version": "1.5.0",
            "value": 1563,
            "_view_count": null,
            "_view_module_version": "1.5.0",
            "orientation": "horizontal",
            "min": 0,
            "description_tooltip": null,
            "_model_module": "@jupyter-widgets/controls",
            "layout": "IPY_MODEL_2ea5983b279c450396faf4c4f4c8605a"
          }
        },
        "4bbe8a71a10d429b8040b7103909b85c": {
          "model_module": "@jupyter-widgets/controls",
          "model_name": "HTMLModel",
          "state": {
            "_view_name": "HTMLView",
            "style": "IPY_MODEL_408508fa3cb84282bf33d7abb936c580",
            "_dom_classes": [],
            "description": "",
            "_model_name": "HTMLModel",
            "placeholder": "​",
            "_view_module": "@jupyter-widgets/controls",
            "_model_module_version": "1.5.0",
            "value": " 1563/1563 [03:59&lt;00:00,  6.52it/s]",
            "_view_count": null,
            "_view_module_version": "1.5.0",
            "description_tooltip": null,
            "_model_module": "@jupyter-widgets/controls",
            "layout": "IPY_MODEL_cb903d7c9b804231ae3ead11efb9aedc"
          }
        },
        "3adae30dd5a9495cb71dad54690ae5a1": {
          "model_module": "@jupyter-widgets/controls",
          "model_name": "ProgressStyleModel",
          "state": {
            "_view_name": "StyleView",
            "_model_name": "ProgressStyleModel",
            "description_width": "initial",
            "_view_module": "@jupyter-widgets/base",
            "_model_module_version": "1.5.0",
            "_view_count": null,
            "_view_module_version": "1.2.0",
            "bar_color": null,
            "_model_module": "@jupyter-widgets/controls"
          }
        },
        "2ea5983b279c450396faf4c4f4c8605a": {
          "model_module": "@jupyter-widgets/base",
          "model_name": "LayoutModel",
          "state": {
            "_view_name": "LayoutView",
            "grid_template_rows": null,
            "right": null,
            "justify_content": null,
            "_view_module": "@jupyter-widgets/base",
            "overflow": null,
            "_model_module_version": "1.2.0",
            "_view_count": null,
            "flex_flow": null,
            "width": null,
            "min_width": null,
            "border": null,
            "align_items": null,
            "bottom": null,
            "_model_module": "@jupyter-widgets/base",
            "top": null,
            "grid_column": null,
            "overflow_y": null,
            "overflow_x": null,
            "grid_auto_flow": null,
            "grid_area": null,
            "grid_template_columns": null,
            "flex": null,
            "_model_name": "LayoutModel",
            "justify_items": null,
            "grid_row": null,
            "max_height": null,
            "align_content": null,
            "visibility": null,
            "align_self": null,
            "height": null,
            "min_height": null,
            "padding": null,
            "grid_auto_rows": null,
            "grid_gap": null,
            "max_width": null,
            "order": null,
            "_view_module_version": "1.2.0",
            "grid_template_areas": null,
            "object_position": null,
            "object_fit": null,
            "grid_auto_columns": null,
            "margin": null,
            "display": null,
            "left": null
          }
        },
        "408508fa3cb84282bf33d7abb936c580": {
          "model_module": "@jupyter-widgets/controls",
          "model_name": "DescriptionStyleModel",
          "state": {
            "_view_name": "StyleView",
            "_model_name": "DescriptionStyleModel",
            "description_width": "",
            "_view_module": "@jupyter-widgets/base",
            "_model_module_version": "1.5.0",
            "_view_count": null,
            "_view_module_version": "1.2.0",
            "_model_module": "@jupyter-widgets/controls"
          }
        },
        "cb903d7c9b804231ae3ead11efb9aedc": {
          "model_module": "@jupyter-widgets/base",
          "model_name": "LayoutModel",
          "state": {
            "_view_name": "LayoutView",
            "grid_template_rows": null,
            "right": null,
            "justify_content": null,
            "_view_module": "@jupyter-widgets/base",
            "overflow": null,
            "_model_module_version": "1.2.0",
            "_view_count": null,
            "flex_flow": null,
            "width": null,
            "min_width": null,
            "border": null,
            "align_items": null,
            "bottom": null,
            "_model_module": "@jupyter-widgets/base",
            "top": null,
            "grid_column": null,
            "overflow_y": null,
            "overflow_x": null,
            "grid_auto_flow": null,
            "grid_area": null,
            "grid_template_columns": null,
            "flex": null,
            "_model_name": "LayoutModel",
            "justify_items": null,
            "grid_row": null,
            "max_height": null,
            "align_content": null,
            "visibility": null,
            "align_self": null,
            "height": null,
            "min_height": null,
            "padding": null,
            "grid_auto_rows": null,
            "grid_gap": null,
            "max_width": null,
            "order": null,
            "_view_module_version": "1.2.0",
            "grid_template_areas": null,
            "object_position": null,
            "object_fit": null,
            "grid_auto_columns": null,
            "margin": null,
            "display": null,
            "left": null
          }
        },
        "c3b6ca76752649368376873db24a2604": {
          "model_module": "@jupyter-widgets/controls",
          "model_name": "HBoxModel",
          "state": {
            "_view_name": "HBoxView",
            "_dom_classes": [],
            "_model_name": "HBoxModel",
            "_view_module": "@jupyter-widgets/controls",
            "_model_module_version": "1.5.0",
            "_view_count": null,
            "_view_module_version": "1.5.0",
            "box_style": "",
            "layout": "IPY_MODEL_b352415c28c74e7483a87d397ed69cc0",
            "_model_module": "@jupyter-widgets/controls",
            "children": [
              "IPY_MODEL_1c5d40524f304a7688b7f224e97ece6e",
              "IPY_MODEL_496c872f158b4f46ae1a4c3733a654b3"
            ]
          }
        },
        "b352415c28c74e7483a87d397ed69cc0": {
          "model_module": "@jupyter-widgets/base",
          "model_name": "LayoutModel",
          "state": {
            "_view_name": "LayoutView",
            "grid_template_rows": null,
            "right": null,
            "justify_content": null,
            "_view_module": "@jupyter-widgets/base",
            "overflow": null,
            "_model_module_version": "1.2.0",
            "_view_count": null,
            "flex_flow": null,
            "width": null,
            "min_width": null,
            "border": null,
            "align_items": null,
            "bottom": null,
            "_model_module": "@jupyter-widgets/base",
            "top": null,
            "grid_column": null,
            "overflow_y": null,
            "overflow_x": null,
            "grid_auto_flow": null,
            "grid_area": null,
            "grid_template_columns": null,
            "flex": null,
            "_model_name": "LayoutModel",
            "justify_items": null,
            "grid_row": null,
            "max_height": null,
            "align_content": null,
            "visibility": null,
            "align_self": null,
            "height": null,
            "min_height": null,
            "padding": null,
            "grid_auto_rows": null,
            "grid_gap": null,
            "max_width": null,
            "order": null,
            "_view_module_version": "1.2.0",
            "grid_template_areas": null,
            "object_position": null,
            "object_fit": null,
            "grid_auto_columns": null,
            "margin": null,
            "display": null,
            "left": null
          }
        },
        "1c5d40524f304a7688b7f224e97ece6e": {
          "model_module": "@jupyter-widgets/controls",
          "model_name": "FloatProgressModel",
          "state": {
            "_view_name": "ProgressView",
            "style": "IPY_MODEL_ddacff65debf4c039c5eb1372735bd79",
            "_dom_classes": [],
            "description": "100%",
            "_model_name": "FloatProgressModel",
            "bar_style": "success",
            "max": 1563,
            "_view_module": "@jupyter-widgets/controls",
            "_model_module_version": "1.5.0",
            "value": 1563,
            "_view_count": null,
            "_view_module_version": "1.5.0",
            "orientation": "horizontal",
            "min": 0,
            "description_tooltip": null,
            "_model_module": "@jupyter-widgets/controls",
            "layout": "IPY_MODEL_4a3993bb75014ca9b336fd22d9796e38"
          }
        },
        "496c872f158b4f46ae1a4c3733a654b3": {
          "model_module": "@jupyter-widgets/controls",
          "model_name": "HTMLModel",
          "state": {
            "_view_name": "HTMLView",
            "style": "IPY_MODEL_faf5358d633a404bbc40934c25bebde2",
            "_dom_classes": [],
            "description": "",
            "_model_name": "HTMLModel",
            "placeholder": "​",
            "_view_module": "@jupyter-widgets/controls",
            "_model_module_version": "1.5.0",
            "value": " 1563/1563 [00:15&lt;00:00, 101.08it/s]",
            "_view_count": null,
            "_view_module_version": "1.5.0",
            "description_tooltip": null,
            "_model_module": "@jupyter-widgets/controls",
            "layout": "IPY_MODEL_37733e2e8d7a40a093bd0532ca2752c7"
          }
        },
        "ddacff65debf4c039c5eb1372735bd79": {
          "model_module": "@jupyter-widgets/controls",
          "model_name": "ProgressStyleModel",
          "state": {
            "_view_name": "StyleView",
            "_model_name": "ProgressStyleModel",
            "description_width": "initial",
            "_view_module": "@jupyter-widgets/base",
            "_model_module_version": "1.5.0",
            "_view_count": null,
            "_view_module_version": "1.2.0",
            "bar_color": null,
            "_model_module": "@jupyter-widgets/controls"
          }
        },
        "4a3993bb75014ca9b336fd22d9796e38": {
          "model_module": "@jupyter-widgets/base",
          "model_name": "LayoutModel",
          "state": {
            "_view_name": "LayoutView",
            "grid_template_rows": null,
            "right": null,
            "justify_content": null,
            "_view_module": "@jupyter-widgets/base",
            "overflow": null,
            "_model_module_version": "1.2.0",
            "_view_count": null,
            "flex_flow": null,
            "width": null,
            "min_width": null,
            "border": null,
            "align_items": null,
            "bottom": null,
            "_model_module": "@jupyter-widgets/base",
            "top": null,
            "grid_column": null,
            "overflow_y": null,
            "overflow_x": null,
            "grid_auto_flow": null,
            "grid_area": null,
            "grid_template_columns": null,
            "flex": null,
            "_model_name": "LayoutModel",
            "justify_items": null,
            "grid_row": null,
            "max_height": null,
            "align_content": null,
            "visibility": null,
            "align_self": null,
            "height": null,
            "min_height": null,
            "padding": null,
            "grid_auto_rows": null,
            "grid_gap": null,
            "max_width": null,
            "order": null,
            "_view_module_version": "1.2.0",
            "grid_template_areas": null,
            "object_position": null,
            "object_fit": null,
            "grid_auto_columns": null,
            "margin": null,
            "display": null,
            "left": null
          }
        },
        "faf5358d633a404bbc40934c25bebde2": {
          "model_module": "@jupyter-widgets/controls",
          "model_name": "DescriptionStyleModel",
          "state": {
            "_view_name": "StyleView",
            "_model_name": "DescriptionStyleModel",
            "description_width": "",
            "_view_module": "@jupyter-widgets/base",
            "_model_module_version": "1.5.0",
            "_view_count": null,
            "_view_module_version": "1.2.0",
            "_model_module": "@jupyter-widgets/controls"
          }
        },
        "37733e2e8d7a40a093bd0532ca2752c7": {
          "model_module": "@jupyter-widgets/base",
          "model_name": "LayoutModel",
          "state": {
            "_view_name": "LayoutView",
            "grid_template_rows": null,
            "right": null,
            "justify_content": null,
            "_view_module": "@jupyter-widgets/base",
            "overflow": null,
            "_model_module_version": "1.2.0",
            "_view_count": null,
            "flex_flow": null,
            "width": null,
            "min_width": null,
            "border": null,
            "align_items": null,
            "bottom": null,
            "_model_module": "@jupyter-widgets/base",
            "top": null,
            "grid_column": null,
            "overflow_y": null,
            "overflow_x": null,
            "grid_auto_flow": null,
            "grid_area": null,
            "grid_template_columns": null,
            "flex": null,
            "_model_name": "LayoutModel",
            "justify_items": null,
            "grid_row": null,
            "max_height": null,
            "align_content": null,
            "visibility": null,
            "align_self": null,
            "height": null,
            "min_height": null,
            "padding": null,
            "grid_auto_rows": null,
            "grid_gap": null,
            "max_width": null,
            "order": null,
            "_view_module_version": "1.2.0",
            "grid_template_areas": null,
            "object_position": null,
            "object_fit": null,
            "grid_auto_columns": null,
            "margin": null,
            "display": null,
            "left": null
          }
        },
        "0d727454329b4dccab8c61a823142373": {
          "model_module": "@jupyter-widgets/controls",
          "model_name": "HBoxModel",
          "state": {
            "_view_name": "HBoxView",
            "_dom_classes": [],
            "_model_name": "HBoxModel",
            "_view_module": "@jupyter-widgets/controls",
            "_model_module_version": "1.5.0",
            "_view_count": null,
            "_view_module_version": "1.5.0",
            "box_style": "",
            "layout": "IPY_MODEL_62bce86d53394daf9da1ada9e711a1eb",
            "_model_module": "@jupyter-widgets/controls",
            "children": [
              "IPY_MODEL_1dd7088b1f024ef0b755cd99bd2e6e71",
              "IPY_MODEL_5f7d6877581145beb69193ffbbfa7229"
            ]
          }
        },
        "62bce86d53394daf9da1ada9e711a1eb": {
          "model_module": "@jupyter-widgets/base",
          "model_name": "LayoutModel",
          "state": {
            "_view_name": "LayoutView",
            "grid_template_rows": null,
            "right": null,
            "justify_content": null,
            "_view_module": "@jupyter-widgets/base",
            "overflow": null,
            "_model_module_version": "1.2.0",
            "_view_count": null,
            "flex_flow": null,
            "width": null,
            "min_width": null,
            "border": null,
            "align_items": null,
            "bottom": null,
            "_model_module": "@jupyter-widgets/base",
            "top": null,
            "grid_column": null,
            "overflow_y": null,
            "overflow_x": null,
            "grid_auto_flow": null,
            "grid_area": null,
            "grid_template_columns": null,
            "flex": null,
            "_model_name": "LayoutModel",
            "justify_items": null,
            "grid_row": null,
            "max_height": null,
            "align_content": null,
            "visibility": null,
            "align_self": null,
            "height": null,
            "min_height": null,
            "padding": null,
            "grid_auto_rows": null,
            "grid_gap": null,
            "max_width": null,
            "order": null,
            "_view_module_version": "1.2.0",
            "grid_template_areas": null,
            "object_position": null,
            "object_fit": null,
            "grid_auto_columns": null,
            "margin": null,
            "display": null,
            "left": null
          }
        },
        "1dd7088b1f024ef0b755cd99bd2e6e71": {
          "model_module": "@jupyter-widgets/controls",
          "model_name": "FloatProgressModel",
          "state": {
            "_view_name": "ProgressView",
            "style": "IPY_MODEL_266c1c62c10540f584f805f69047cdbc",
            "_dom_classes": [],
            "description": "100%",
            "_model_name": "FloatProgressModel",
            "bar_style": "success",
            "max": 1563,
            "_view_module": "@jupyter-widgets/controls",
            "_model_module_version": "1.5.0",
            "value": 1563,
            "_view_count": null,
            "_view_module_version": "1.5.0",
            "orientation": "horizontal",
            "min": 0,
            "description_tooltip": null,
            "_model_module": "@jupyter-widgets/controls",
            "layout": "IPY_MODEL_6115bd32f9204699b4d7f1f23857916c"
          }
        },
        "5f7d6877581145beb69193ffbbfa7229": {
          "model_module": "@jupyter-widgets/controls",
          "model_name": "HTMLModel",
          "state": {
            "_view_name": "HTMLView",
            "style": "IPY_MODEL_7e899e3692d848df85dba3dcef8e3e1b",
            "_dom_classes": [],
            "description": "",
            "_model_name": "HTMLModel",
            "placeholder": "​",
            "_view_module": "@jupyter-widgets/controls",
            "_model_module_version": "1.5.0",
            "value": " 1563/1563 [03:44&lt;00:00,  6.95it/s]",
            "_view_count": null,
            "_view_module_version": "1.5.0",
            "description_tooltip": null,
            "_model_module": "@jupyter-widgets/controls",
            "layout": "IPY_MODEL_6b762a8804204db4a854eab74f724369"
          }
        },
        "266c1c62c10540f584f805f69047cdbc": {
          "model_module": "@jupyter-widgets/controls",
          "model_name": "ProgressStyleModel",
          "state": {
            "_view_name": "StyleView",
            "_model_name": "ProgressStyleModel",
            "description_width": "initial",
            "_view_module": "@jupyter-widgets/base",
            "_model_module_version": "1.5.0",
            "_view_count": null,
            "_view_module_version": "1.2.0",
            "bar_color": null,
            "_model_module": "@jupyter-widgets/controls"
          }
        },
        "6115bd32f9204699b4d7f1f23857916c": {
          "model_module": "@jupyter-widgets/base",
          "model_name": "LayoutModel",
          "state": {
            "_view_name": "LayoutView",
            "grid_template_rows": null,
            "right": null,
            "justify_content": null,
            "_view_module": "@jupyter-widgets/base",
            "overflow": null,
            "_model_module_version": "1.2.0",
            "_view_count": null,
            "flex_flow": null,
            "width": null,
            "min_width": null,
            "border": null,
            "align_items": null,
            "bottom": null,
            "_model_module": "@jupyter-widgets/base",
            "top": null,
            "grid_column": null,
            "overflow_y": null,
            "overflow_x": null,
            "grid_auto_flow": null,
            "grid_area": null,
            "grid_template_columns": null,
            "flex": null,
            "_model_name": "LayoutModel",
            "justify_items": null,
            "grid_row": null,
            "max_height": null,
            "align_content": null,
            "visibility": null,
            "align_self": null,
            "height": null,
            "min_height": null,
            "padding": null,
            "grid_auto_rows": null,
            "grid_gap": null,
            "max_width": null,
            "order": null,
            "_view_module_version": "1.2.0",
            "grid_template_areas": null,
            "object_position": null,
            "object_fit": null,
            "grid_auto_columns": null,
            "margin": null,
            "display": null,
            "left": null
          }
        },
        "7e899e3692d848df85dba3dcef8e3e1b": {
          "model_module": "@jupyter-widgets/controls",
          "model_name": "DescriptionStyleModel",
          "state": {
            "_view_name": "StyleView",
            "_model_name": "DescriptionStyleModel",
            "description_width": "",
            "_view_module": "@jupyter-widgets/base",
            "_model_module_version": "1.5.0",
            "_view_count": null,
            "_view_module_version": "1.2.0",
            "_model_module": "@jupyter-widgets/controls"
          }
        },
        "6b762a8804204db4a854eab74f724369": {
          "model_module": "@jupyter-widgets/base",
          "model_name": "LayoutModel",
          "state": {
            "_view_name": "LayoutView",
            "grid_template_rows": null,
            "right": null,
            "justify_content": null,
            "_view_module": "@jupyter-widgets/base",
            "overflow": null,
            "_model_module_version": "1.2.0",
            "_view_count": null,
            "flex_flow": null,
            "width": null,
            "min_width": null,
            "border": null,
            "align_items": null,
            "bottom": null,
            "_model_module": "@jupyter-widgets/base",
            "top": null,
            "grid_column": null,
            "overflow_y": null,
            "overflow_x": null,
            "grid_auto_flow": null,
            "grid_area": null,
            "grid_template_columns": null,
            "flex": null,
            "_model_name": "LayoutModel",
            "justify_items": null,
            "grid_row": null,
            "max_height": null,
            "align_content": null,
            "visibility": null,
            "align_self": null,
            "height": null,
            "min_height": null,
            "padding": null,
            "grid_auto_rows": null,
            "grid_gap": null,
            "max_width": null,
            "order": null,
            "_view_module_version": "1.2.0",
            "grid_template_areas": null,
            "object_position": null,
            "object_fit": null,
            "grid_auto_columns": null,
            "margin": null,
            "display": null,
            "left": null
          }
        },
        "5b3df4a5bf6441849dbd2743cb9a7de2": {
          "model_module": "@jupyter-widgets/controls",
          "model_name": "HBoxModel",
          "state": {
            "_view_name": "HBoxView",
            "_dom_classes": [],
            "_model_name": "HBoxModel",
            "_view_module": "@jupyter-widgets/controls",
            "_model_module_version": "1.5.0",
            "_view_count": null,
            "_view_module_version": "1.5.0",
            "box_style": "",
            "layout": "IPY_MODEL_fb77424fdfcb460fb56d2801c05b99d4",
            "_model_module": "@jupyter-widgets/controls",
            "children": [
              "IPY_MODEL_a047f3ce7311476995d9f4107aaeeb5b",
              "IPY_MODEL_85f0dbce2e434b30a955f6af5dc0d5eb"
            ]
          }
        },
        "fb77424fdfcb460fb56d2801c05b99d4": {
          "model_module": "@jupyter-widgets/base",
          "model_name": "LayoutModel",
          "state": {
            "_view_name": "LayoutView",
            "grid_template_rows": null,
            "right": null,
            "justify_content": null,
            "_view_module": "@jupyter-widgets/base",
            "overflow": null,
            "_model_module_version": "1.2.0",
            "_view_count": null,
            "flex_flow": null,
            "width": null,
            "min_width": null,
            "border": null,
            "align_items": null,
            "bottom": null,
            "_model_module": "@jupyter-widgets/base",
            "top": null,
            "grid_column": null,
            "overflow_y": null,
            "overflow_x": null,
            "grid_auto_flow": null,
            "grid_area": null,
            "grid_template_columns": null,
            "flex": null,
            "_model_name": "LayoutModel",
            "justify_items": null,
            "grid_row": null,
            "max_height": null,
            "align_content": null,
            "visibility": null,
            "align_self": null,
            "height": null,
            "min_height": null,
            "padding": null,
            "grid_auto_rows": null,
            "grid_gap": null,
            "max_width": null,
            "order": null,
            "_view_module_version": "1.2.0",
            "grid_template_areas": null,
            "object_position": null,
            "object_fit": null,
            "grid_auto_columns": null,
            "margin": null,
            "display": null,
            "left": null
          }
        },
        "a047f3ce7311476995d9f4107aaeeb5b": {
          "model_module": "@jupyter-widgets/controls",
          "model_name": "FloatProgressModel",
          "state": {
            "_view_name": "ProgressView",
            "style": "IPY_MODEL_9f0f40dbbe784591830a318d51ee1879",
            "_dom_classes": [],
            "description": "100%",
            "_model_name": "FloatProgressModel",
            "bar_style": "success",
            "max": 1563,
            "_view_module": "@jupyter-widgets/controls",
            "_model_module_version": "1.5.0",
            "value": 1563,
            "_view_count": null,
            "_view_module_version": "1.5.0",
            "orientation": "horizontal",
            "min": 0,
            "description_tooltip": null,
            "_model_module": "@jupyter-widgets/controls",
            "layout": "IPY_MODEL_b78573aa1b06499fadb9600f9e29b3bf"
          }
        },
        "85f0dbce2e434b30a955f6af5dc0d5eb": {
          "model_module": "@jupyter-widgets/controls",
          "model_name": "HTMLModel",
          "state": {
            "_view_name": "HTMLView",
            "style": "IPY_MODEL_7999204bccd4498fb6fa88ab1bb633ac",
            "_dom_classes": [],
            "description": "",
            "_model_name": "HTMLModel",
            "placeholder": "​",
            "_view_module": "@jupyter-widgets/controls",
            "_model_module_version": "1.5.0",
            "value": " 1563/1563 [03:36&lt;00:00,  7.20it/s]",
            "_view_count": null,
            "_view_module_version": "1.5.0",
            "description_tooltip": null,
            "_model_module": "@jupyter-widgets/controls",
            "layout": "IPY_MODEL_e8679424a1984c449d3691a81db99fe9"
          }
        },
        "9f0f40dbbe784591830a318d51ee1879": {
          "model_module": "@jupyter-widgets/controls",
          "model_name": "ProgressStyleModel",
          "state": {
            "_view_name": "StyleView",
            "_model_name": "ProgressStyleModel",
            "description_width": "initial",
            "_view_module": "@jupyter-widgets/base",
            "_model_module_version": "1.5.0",
            "_view_count": null,
            "_view_module_version": "1.2.0",
            "bar_color": null,
            "_model_module": "@jupyter-widgets/controls"
          }
        },
        "b78573aa1b06499fadb9600f9e29b3bf": {
          "model_module": "@jupyter-widgets/base",
          "model_name": "LayoutModel",
          "state": {
            "_view_name": "LayoutView",
            "grid_template_rows": null,
            "right": null,
            "justify_content": null,
            "_view_module": "@jupyter-widgets/base",
            "overflow": null,
            "_model_module_version": "1.2.0",
            "_view_count": null,
            "flex_flow": null,
            "width": null,
            "min_width": null,
            "border": null,
            "align_items": null,
            "bottom": null,
            "_model_module": "@jupyter-widgets/base",
            "top": null,
            "grid_column": null,
            "overflow_y": null,
            "overflow_x": null,
            "grid_auto_flow": null,
            "grid_area": null,
            "grid_template_columns": null,
            "flex": null,
            "_model_name": "LayoutModel",
            "justify_items": null,
            "grid_row": null,
            "max_height": null,
            "align_content": null,
            "visibility": null,
            "align_self": null,
            "height": null,
            "min_height": null,
            "padding": null,
            "grid_auto_rows": null,
            "grid_gap": null,
            "max_width": null,
            "order": null,
            "_view_module_version": "1.2.0",
            "grid_template_areas": null,
            "object_position": null,
            "object_fit": null,
            "grid_auto_columns": null,
            "margin": null,
            "display": null,
            "left": null
          }
        },
        "7999204bccd4498fb6fa88ab1bb633ac": {
          "model_module": "@jupyter-widgets/controls",
          "model_name": "DescriptionStyleModel",
          "state": {
            "_view_name": "StyleView",
            "_model_name": "DescriptionStyleModel",
            "description_width": "",
            "_view_module": "@jupyter-widgets/base",
            "_model_module_version": "1.5.0",
            "_view_count": null,
            "_view_module_version": "1.2.0",
            "_model_module": "@jupyter-widgets/controls"
          }
        },
        "e8679424a1984c449d3691a81db99fe9": {
          "model_module": "@jupyter-widgets/base",
          "model_name": "LayoutModel",
          "state": {
            "_view_name": "LayoutView",
            "grid_template_rows": null,
            "right": null,
            "justify_content": null,
            "_view_module": "@jupyter-widgets/base",
            "overflow": null,
            "_model_module_version": "1.2.0",
            "_view_count": null,
            "flex_flow": null,
            "width": null,
            "min_width": null,
            "border": null,
            "align_items": null,
            "bottom": null,
            "_model_module": "@jupyter-widgets/base",
            "top": null,
            "grid_column": null,
            "overflow_y": null,
            "overflow_x": null,
            "grid_auto_flow": null,
            "grid_area": null,
            "grid_template_columns": null,
            "flex": null,
            "_model_name": "LayoutModel",
            "justify_items": null,
            "grid_row": null,
            "max_height": null,
            "align_content": null,
            "visibility": null,
            "align_self": null,
            "height": null,
            "min_height": null,
            "padding": null,
            "grid_auto_rows": null,
            "grid_gap": null,
            "max_width": null,
            "order": null,
            "_view_module_version": "1.2.0",
            "grid_template_areas": null,
            "object_position": null,
            "object_fit": null,
            "grid_auto_columns": null,
            "margin": null,
            "display": null,
            "left": null
          }
        },
        "289221ed3f2041adab4a83b6db8ce3b3": {
          "model_module": "@jupyter-widgets/controls",
          "model_name": "HBoxModel",
          "state": {
            "_view_name": "HBoxView",
            "_dom_classes": [],
            "_model_name": "HBoxModel",
            "_view_module": "@jupyter-widgets/controls",
            "_model_module_version": "1.5.0",
            "_view_count": null,
            "_view_module_version": "1.5.0",
            "box_style": "",
            "layout": "IPY_MODEL_b770b55e198f42869e60b2b668883575",
            "_model_module": "@jupyter-widgets/controls",
            "children": [
              "IPY_MODEL_c85fdc5480304dfda36a0e97231f47e4",
              "IPY_MODEL_ae1be0f5abcc43b3bca51f38f4b6bc38"
            ]
          }
        },
        "b770b55e198f42869e60b2b668883575": {
          "model_module": "@jupyter-widgets/base",
          "model_name": "LayoutModel",
          "state": {
            "_view_name": "LayoutView",
            "grid_template_rows": null,
            "right": null,
            "justify_content": null,
            "_view_module": "@jupyter-widgets/base",
            "overflow": null,
            "_model_module_version": "1.2.0",
            "_view_count": null,
            "flex_flow": null,
            "width": null,
            "min_width": null,
            "border": null,
            "align_items": null,
            "bottom": null,
            "_model_module": "@jupyter-widgets/base",
            "top": null,
            "grid_column": null,
            "overflow_y": null,
            "overflow_x": null,
            "grid_auto_flow": null,
            "grid_area": null,
            "grid_template_columns": null,
            "flex": null,
            "_model_name": "LayoutModel",
            "justify_items": null,
            "grid_row": null,
            "max_height": null,
            "align_content": null,
            "visibility": null,
            "align_self": null,
            "height": null,
            "min_height": null,
            "padding": null,
            "grid_auto_rows": null,
            "grid_gap": null,
            "max_width": null,
            "order": null,
            "_view_module_version": "1.2.0",
            "grid_template_areas": null,
            "object_position": null,
            "object_fit": null,
            "grid_auto_columns": null,
            "margin": null,
            "display": null,
            "left": null
          }
        },
        "c85fdc5480304dfda36a0e97231f47e4": {
          "model_module": "@jupyter-widgets/controls",
          "model_name": "FloatProgressModel",
          "state": {
            "_view_name": "ProgressView",
            "style": "IPY_MODEL_c572652e1bbb456d9a14f16906057241",
            "_dom_classes": [],
            "description": "100%",
            "_model_name": "FloatProgressModel",
            "bar_style": "success",
            "max": 1563,
            "_view_module": "@jupyter-widgets/controls",
            "_model_module_version": "1.5.0",
            "value": 1563,
            "_view_count": null,
            "_view_module_version": "1.5.0",
            "orientation": "horizontal",
            "min": 0,
            "description_tooltip": null,
            "_model_module": "@jupyter-widgets/controls",
            "layout": "IPY_MODEL_47173cb1a0e34b71bdd4e5fba54fd002"
          }
        },
        "ae1be0f5abcc43b3bca51f38f4b6bc38": {
          "model_module": "@jupyter-widgets/controls",
          "model_name": "HTMLModel",
          "state": {
            "_view_name": "HTMLView",
            "style": "IPY_MODEL_7cca37a717a0439ea6eb6c9f8f23a7c5",
            "_dom_classes": [],
            "description": "",
            "_model_name": "HTMLModel",
            "placeholder": "​",
            "_view_module": "@jupyter-widgets/controls",
            "_model_module_version": "1.5.0",
            "value": " 1563/1563 [00:23&lt;00:00, 65.25it/s]",
            "_view_count": null,
            "_view_module_version": "1.5.0",
            "description_tooltip": null,
            "_model_module": "@jupyter-widgets/controls",
            "layout": "IPY_MODEL_b48f193fec4c49e9a53f54464f3b8569"
          }
        },
        "c572652e1bbb456d9a14f16906057241": {
          "model_module": "@jupyter-widgets/controls",
          "model_name": "ProgressStyleModel",
          "state": {
            "_view_name": "StyleView",
            "_model_name": "ProgressStyleModel",
            "description_width": "initial",
            "_view_module": "@jupyter-widgets/base",
            "_model_module_version": "1.5.0",
            "_view_count": null,
            "_view_module_version": "1.2.0",
            "bar_color": null,
            "_model_module": "@jupyter-widgets/controls"
          }
        },
        "47173cb1a0e34b71bdd4e5fba54fd002": {
          "model_module": "@jupyter-widgets/base",
          "model_name": "LayoutModel",
          "state": {
            "_view_name": "LayoutView",
            "grid_template_rows": null,
            "right": null,
            "justify_content": null,
            "_view_module": "@jupyter-widgets/base",
            "overflow": null,
            "_model_module_version": "1.2.0",
            "_view_count": null,
            "flex_flow": null,
            "width": null,
            "min_width": null,
            "border": null,
            "align_items": null,
            "bottom": null,
            "_model_module": "@jupyter-widgets/base",
            "top": null,
            "grid_column": null,
            "overflow_y": null,
            "overflow_x": null,
            "grid_auto_flow": null,
            "grid_area": null,
            "grid_template_columns": null,
            "flex": null,
            "_model_name": "LayoutModel",
            "justify_items": null,
            "grid_row": null,
            "max_height": null,
            "align_content": null,
            "visibility": null,
            "align_self": null,
            "height": null,
            "min_height": null,
            "padding": null,
            "grid_auto_rows": null,
            "grid_gap": null,
            "max_width": null,
            "order": null,
            "_view_module_version": "1.2.0",
            "grid_template_areas": null,
            "object_position": null,
            "object_fit": null,
            "grid_auto_columns": null,
            "margin": null,
            "display": null,
            "left": null
          }
        },
        "7cca37a717a0439ea6eb6c9f8f23a7c5": {
          "model_module": "@jupyter-widgets/controls",
          "model_name": "DescriptionStyleModel",
          "state": {
            "_view_name": "StyleView",
            "_model_name": "DescriptionStyleModel",
            "description_width": "",
            "_view_module": "@jupyter-widgets/base",
            "_model_module_version": "1.5.0",
            "_view_count": null,
            "_view_module_version": "1.2.0",
            "_model_module": "@jupyter-widgets/controls"
          }
        },
        "b48f193fec4c49e9a53f54464f3b8569": {
          "model_module": "@jupyter-widgets/base",
          "model_name": "LayoutModel",
          "state": {
            "_view_name": "LayoutView",
            "grid_template_rows": null,
            "right": null,
            "justify_content": null,
            "_view_module": "@jupyter-widgets/base",
            "overflow": null,
            "_model_module_version": "1.2.0",
            "_view_count": null,
            "flex_flow": null,
            "width": null,
            "min_width": null,
            "border": null,
            "align_items": null,
            "bottom": null,
            "_model_module": "@jupyter-widgets/base",
            "top": null,
            "grid_column": null,
            "overflow_y": null,
            "overflow_x": null,
            "grid_auto_flow": null,
            "grid_area": null,
            "grid_template_columns": null,
            "flex": null,
            "_model_name": "LayoutModel",
            "justify_items": null,
            "grid_row": null,
            "max_height": null,
            "align_content": null,
            "visibility": null,
            "align_self": null,
            "height": null,
            "min_height": null,
            "padding": null,
            "grid_auto_rows": null,
            "grid_gap": null,
            "max_width": null,
            "order": null,
            "_view_module_version": "1.2.0",
            "grid_template_areas": null,
            "object_position": null,
            "object_fit": null,
            "grid_auto_columns": null,
            "margin": null,
            "display": null,
            "left": null
          }
        },
        "44f0be09efd943039a28a8e3853b33db": {
          "model_module": "@jupyter-widgets/controls",
          "model_name": "HBoxModel",
          "state": {
            "_view_name": "HBoxView",
            "_dom_classes": [],
            "_model_name": "HBoxModel",
            "_view_module": "@jupyter-widgets/controls",
            "_model_module_version": "1.5.0",
            "_view_count": null,
            "_view_module_version": "1.5.0",
            "box_style": "",
            "layout": "IPY_MODEL_85a04632446d4664a09bda133b28a2aa",
            "_model_module": "@jupyter-widgets/controls",
            "children": [
              "IPY_MODEL_7bb053f7a7324554bb5cf1af8f4a08c8",
              "IPY_MODEL_2d453431b5624756a8a20c9e5057993d"
            ]
          }
        },
        "85a04632446d4664a09bda133b28a2aa": {
          "model_module": "@jupyter-widgets/base",
          "model_name": "LayoutModel",
          "state": {
            "_view_name": "LayoutView",
            "grid_template_rows": null,
            "right": null,
            "justify_content": null,
            "_view_module": "@jupyter-widgets/base",
            "overflow": null,
            "_model_module_version": "1.2.0",
            "_view_count": null,
            "flex_flow": null,
            "width": null,
            "min_width": null,
            "border": null,
            "align_items": null,
            "bottom": null,
            "_model_module": "@jupyter-widgets/base",
            "top": null,
            "grid_column": null,
            "overflow_y": null,
            "overflow_x": null,
            "grid_auto_flow": null,
            "grid_area": null,
            "grid_template_columns": null,
            "flex": null,
            "_model_name": "LayoutModel",
            "justify_items": null,
            "grid_row": null,
            "max_height": null,
            "align_content": null,
            "visibility": null,
            "align_self": null,
            "height": null,
            "min_height": null,
            "padding": null,
            "grid_auto_rows": null,
            "grid_gap": null,
            "max_width": null,
            "order": null,
            "_view_module_version": "1.2.0",
            "grid_template_areas": null,
            "object_position": null,
            "object_fit": null,
            "grid_auto_columns": null,
            "margin": null,
            "display": null,
            "left": null
          }
        },
        "7bb053f7a7324554bb5cf1af8f4a08c8": {
          "model_module": "@jupyter-widgets/controls",
          "model_name": "FloatProgressModel",
          "state": {
            "_view_name": "ProgressView",
            "style": "IPY_MODEL_c440867b33dc4593bdd905379175b474",
            "_dom_classes": [],
            "description": "100%",
            "_model_name": "FloatProgressModel",
            "bar_style": "success",
            "max": 1563,
            "_view_module": "@jupyter-widgets/controls",
            "_model_module_version": "1.5.0",
            "value": 1563,
            "_view_count": null,
            "_view_module_version": "1.5.0",
            "orientation": "horizontal",
            "min": 0,
            "description_tooltip": null,
            "_model_module": "@jupyter-widgets/controls",
            "layout": "IPY_MODEL_c8dcfd426e8b47c3b5d677a81daff15f"
          }
        },
        "2d453431b5624756a8a20c9e5057993d": {
          "model_module": "@jupyter-widgets/controls",
          "model_name": "HTMLModel",
          "state": {
            "_view_name": "HTMLView",
            "style": "IPY_MODEL_db33ce6eb8804ca8b8b28ee467a88708",
            "_dom_classes": [],
            "description": "",
            "_model_name": "HTMLModel",
            "placeholder": "​",
            "_view_module": "@jupyter-widgets/controls",
            "_model_module_version": "1.5.0",
            "value": " 1563/1563 [03:17&lt;00:00,  7.92it/s]",
            "_view_count": null,
            "_view_module_version": "1.5.0",
            "description_tooltip": null,
            "_model_module": "@jupyter-widgets/controls",
            "layout": "IPY_MODEL_20f62e26421d45a5ab1711bc54c46390"
          }
        },
        "c440867b33dc4593bdd905379175b474": {
          "model_module": "@jupyter-widgets/controls",
          "model_name": "ProgressStyleModel",
          "state": {
            "_view_name": "StyleView",
            "_model_name": "ProgressStyleModel",
            "description_width": "initial",
            "_view_module": "@jupyter-widgets/base",
            "_model_module_version": "1.5.0",
            "_view_count": null,
            "_view_module_version": "1.2.0",
            "bar_color": null,
            "_model_module": "@jupyter-widgets/controls"
          }
        },
        "c8dcfd426e8b47c3b5d677a81daff15f": {
          "model_module": "@jupyter-widgets/base",
          "model_name": "LayoutModel",
          "state": {
            "_view_name": "LayoutView",
            "grid_template_rows": null,
            "right": null,
            "justify_content": null,
            "_view_module": "@jupyter-widgets/base",
            "overflow": null,
            "_model_module_version": "1.2.0",
            "_view_count": null,
            "flex_flow": null,
            "width": null,
            "min_width": null,
            "border": null,
            "align_items": null,
            "bottom": null,
            "_model_module": "@jupyter-widgets/base",
            "top": null,
            "grid_column": null,
            "overflow_y": null,
            "overflow_x": null,
            "grid_auto_flow": null,
            "grid_area": null,
            "grid_template_columns": null,
            "flex": null,
            "_model_name": "LayoutModel",
            "justify_items": null,
            "grid_row": null,
            "max_height": null,
            "align_content": null,
            "visibility": null,
            "align_self": null,
            "height": null,
            "min_height": null,
            "padding": null,
            "grid_auto_rows": null,
            "grid_gap": null,
            "max_width": null,
            "order": null,
            "_view_module_version": "1.2.0",
            "grid_template_areas": null,
            "object_position": null,
            "object_fit": null,
            "grid_auto_columns": null,
            "margin": null,
            "display": null,
            "left": null
          }
        },
        "db33ce6eb8804ca8b8b28ee467a88708": {
          "model_module": "@jupyter-widgets/controls",
          "model_name": "DescriptionStyleModel",
          "state": {
            "_view_name": "StyleView",
            "_model_name": "DescriptionStyleModel",
            "description_width": "",
            "_view_module": "@jupyter-widgets/base",
            "_model_module_version": "1.5.0",
            "_view_count": null,
            "_view_module_version": "1.2.0",
            "_model_module": "@jupyter-widgets/controls"
          }
        },
        "20f62e26421d45a5ab1711bc54c46390": {
          "model_module": "@jupyter-widgets/base",
          "model_name": "LayoutModel",
          "state": {
            "_view_name": "LayoutView",
            "grid_template_rows": null,
            "right": null,
            "justify_content": null,
            "_view_module": "@jupyter-widgets/base",
            "overflow": null,
            "_model_module_version": "1.2.0",
            "_view_count": null,
            "flex_flow": null,
            "width": null,
            "min_width": null,
            "border": null,
            "align_items": null,
            "bottom": null,
            "_model_module": "@jupyter-widgets/base",
            "top": null,
            "grid_column": null,
            "overflow_y": null,
            "overflow_x": null,
            "grid_auto_flow": null,
            "grid_area": null,
            "grid_template_columns": null,
            "flex": null,
            "_model_name": "LayoutModel",
            "justify_items": null,
            "grid_row": null,
            "max_height": null,
            "align_content": null,
            "visibility": null,
            "align_self": null,
            "height": null,
            "min_height": null,
            "padding": null,
            "grid_auto_rows": null,
            "grid_gap": null,
            "max_width": null,
            "order": null,
            "_view_module_version": "1.2.0",
            "grid_template_areas": null,
            "object_position": null,
            "object_fit": null,
            "grid_auto_columns": null,
            "margin": null,
            "display": null,
            "left": null
          }
        },
        "35bf6ffd1ae34fdbb3200b68e943b23f": {
          "model_module": "@jupyter-widgets/controls",
          "model_name": "HBoxModel",
          "state": {
            "_view_name": "HBoxView",
            "_dom_classes": [],
            "_model_name": "HBoxModel",
            "_view_module": "@jupyter-widgets/controls",
            "_model_module_version": "1.5.0",
            "_view_count": null,
            "_view_module_version": "1.5.0",
            "box_style": "",
            "layout": "IPY_MODEL_cc95670c367d40cc8a25065218dbc2e4",
            "_model_module": "@jupyter-widgets/controls",
            "children": [
              "IPY_MODEL_4b7bdce9be4f4ffb949654b8c3b01cec",
              "IPY_MODEL_6be7077a1a1240199bc33958e4b58851"
            ]
          }
        },
        "cc95670c367d40cc8a25065218dbc2e4": {
          "model_module": "@jupyter-widgets/base",
          "model_name": "LayoutModel",
          "state": {
            "_view_name": "LayoutView",
            "grid_template_rows": null,
            "right": null,
            "justify_content": null,
            "_view_module": "@jupyter-widgets/base",
            "overflow": null,
            "_model_module_version": "1.2.0",
            "_view_count": null,
            "flex_flow": null,
            "width": null,
            "min_width": null,
            "border": null,
            "align_items": null,
            "bottom": null,
            "_model_module": "@jupyter-widgets/base",
            "top": null,
            "grid_column": null,
            "overflow_y": null,
            "overflow_x": null,
            "grid_auto_flow": null,
            "grid_area": null,
            "grid_template_columns": null,
            "flex": null,
            "_model_name": "LayoutModel",
            "justify_items": null,
            "grid_row": null,
            "max_height": null,
            "align_content": null,
            "visibility": null,
            "align_self": null,
            "height": null,
            "min_height": null,
            "padding": null,
            "grid_auto_rows": null,
            "grid_gap": null,
            "max_width": null,
            "order": null,
            "_view_module_version": "1.2.0",
            "grid_template_areas": null,
            "object_position": null,
            "object_fit": null,
            "grid_auto_columns": null,
            "margin": null,
            "display": null,
            "left": null
          }
        },
        "4b7bdce9be4f4ffb949654b8c3b01cec": {
          "model_module": "@jupyter-widgets/controls",
          "model_name": "FloatProgressModel",
          "state": {
            "_view_name": "ProgressView",
            "style": "IPY_MODEL_3b5d5c33c96e463aa4565d68c4f7ec12",
            "_dom_classes": [],
            "description": "100%",
            "_model_name": "FloatProgressModel",
            "bar_style": "success",
            "max": 1563,
            "_view_module": "@jupyter-widgets/controls",
            "_model_module_version": "1.5.0",
            "value": 1563,
            "_view_count": null,
            "_view_module_version": "1.5.0",
            "orientation": "horizontal",
            "min": 0,
            "description_tooltip": null,
            "_model_module": "@jupyter-widgets/controls",
            "layout": "IPY_MODEL_761c51f9a0ad4c528fda7f7cc3a1dd41"
          }
        },
        "6be7077a1a1240199bc33958e4b58851": {
          "model_module": "@jupyter-widgets/controls",
          "model_name": "HTMLModel",
          "state": {
            "_view_name": "HTMLView",
            "style": "IPY_MODEL_2094e078e1b445ef99183267f2f0753a",
            "_dom_classes": [],
            "description": "",
            "_model_name": "HTMLModel",
            "placeholder": "​",
            "_view_module": "@jupyter-widgets/controls",
            "_model_module_version": "1.5.0",
            "value": " 1563/1563 [03:05&lt;00:00,  8.44it/s]",
            "_view_count": null,
            "_view_module_version": "1.5.0",
            "description_tooltip": null,
            "_model_module": "@jupyter-widgets/controls",
            "layout": "IPY_MODEL_479b78424bee43089f5154d2db3dfd66"
          }
        },
        "3b5d5c33c96e463aa4565d68c4f7ec12": {
          "model_module": "@jupyter-widgets/controls",
          "model_name": "ProgressStyleModel",
          "state": {
            "_view_name": "StyleView",
            "_model_name": "ProgressStyleModel",
            "description_width": "initial",
            "_view_module": "@jupyter-widgets/base",
            "_model_module_version": "1.5.0",
            "_view_count": null,
            "_view_module_version": "1.2.0",
            "bar_color": null,
            "_model_module": "@jupyter-widgets/controls"
          }
        },
        "761c51f9a0ad4c528fda7f7cc3a1dd41": {
          "model_module": "@jupyter-widgets/base",
          "model_name": "LayoutModel",
          "state": {
            "_view_name": "LayoutView",
            "grid_template_rows": null,
            "right": null,
            "justify_content": null,
            "_view_module": "@jupyter-widgets/base",
            "overflow": null,
            "_model_module_version": "1.2.0",
            "_view_count": null,
            "flex_flow": null,
            "width": null,
            "min_width": null,
            "border": null,
            "align_items": null,
            "bottom": null,
            "_model_module": "@jupyter-widgets/base",
            "top": null,
            "grid_column": null,
            "overflow_y": null,
            "overflow_x": null,
            "grid_auto_flow": null,
            "grid_area": null,
            "grid_template_columns": null,
            "flex": null,
            "_model_name": "LayoutModel",
            "justify_items": null,
            "grid_row": null,
            "max_height": null,
            "align_content": null,
            "visibility": null,
            "align_self": null,
            "height": null,
            "min_height": null,
            "padding": null,
            "grid_auto_rows": null,
            "grid_gap": null,
            "max_width": null,
            "order": null,
            "_view_module_version": "1.2.0",
            "grid_template_areas": null,
            "object_position": null,
            "object_fit": null,
            "grid_auto_columns": null,
            "margin": null,
            "display": null,
            "left": null
          }
        },
        "2094e078e1b445ef99183267f2f0753a": {
          "model_module": "@jupyter-widgets/controls",
          "model_name": "DescriptionStyleModel",
          "state": {
            "_view_name": "StyleView",
            "_model_name": "DescriptionStyleModel",
            "description_width": "",
            "_view_module": "@jupyter-widgets/base",
            "_model_module_version": "1.5.0",
            "_view_count": null,
            "_view_module_version": "1.2.0",
            "_model_module": "@jupyter-widgets/controls"
          }
        },
        "479b78424bee43089f5154d2db3dfd66": {
          "model_module": "@jupyter-widgets/base",
          "model_name": "LayoutModel",
          "state": {
            "_view_name": "LayoutView",
            "grid_template_rows": null,
            "right": null,
            "justify_content": null,
            "_view_module": "@jupyter-widgets/base",
            "overflow": null,
            "_model_module_version": "1.2.0",
            "_view_count": null,
            "flex_flow": null,
            "width": null,
            "min_width": null,
            "border": null,
            "align_items": null,
            "bottom": null,
            "_model_module": "@jupyter-widgets/base",
            "top": null,
            "grid_column": null,
            "overflow_y": null,
            "overflow_x": null,
            "grid_auto_flow": null,
            "grid_area": null,
            "grid_template_columns": null,
            "flex": null,
            "_model_name": "LayoutModel",
            "justify_items": null,
            "grid_row": null,
            "max_height": null,
            "align_content": null,
            "visibility": null,
            "align_self": null,
            "height": null,
            "min_height": null,
            "padding": null,
            "grid_auto_rows": null,
            "grid_gap": null,
            "max_width": null,
            "order": null,
            "_view_module_version": "1.2.0",
            "grid_template_areas": null,
            "object_position": null,
            "object_fit": null,
            "grid_auto_columns": null,
            "margin": null,
            "display": null,
            "left": null
          }
        },
        "134c46772ba84a918409aa9ff4b837da": {
          "model_module": "@jupyter-widgets/controls",
          "model_name": "HBoxModel",
          "state": {
            "_view_name": "HBoxView",
            "_dom_classes": [],
            "_model_name": "HBoxModel",
            "_view_module": "@jupyter-widgets/controls",
            "_model_module_version": "1.5.0",
            "_view_count": null,
            "_view_module_version": "1.5.0",
            "box_style": "",
            "layout": "IPY_MODEL_f7fa8e23429243ddb9de0e28c1a915d1",
            "_model_module": "@jupyter-widgets/controls",
            "children": [
              "IPY_MODEL_31fe26404cb54b7db798e27feb0e998c",
              "IPY_MODEL_547723f3c8b949128f0699e7c18b3efe"
            ]
          }
        },
        "f7fa8e23429243ddb9de0e28c1a915d1": {
          "model_module": "@jupyter-widgets/base",
          "model_name": "LayoutModel",
          "state": {
            "_view_name": "LayoutView",
            "grid_template_rows": null,
            "right": null,
            "justify_content": null,
            "_view_module": "@jupyter-widgets/base",
            "overflow": null,
            "_model_module_version": "1.2.0",
            "_view_count": null,
            "flex_flow": null,
            "width": null,
            "min_width": null,
            "border": null,
            "align_items": null,
            "bottom": null,
            "_model_module": "@jupyter-widgets/base",
            "top": null,
            "grid_column": null,
            "overflow_y": null,
            "overflow_x": null,
            "grid_auto_flow": null,
            "grid_area": null,
            "grid_template_columns": null,
            "flex": null,
            "_model_name": "LayoutModel",
            "justify_items": null,
            "grid_row": null,
            "max_height": null,
            "align_content": null,
            "visibility": null,
            "align_self": null,
            "height": null,
            "min_height": null,
            "padding": null,
            "grid_auto_rows": null,
            "grid_gap": null,
            "max_width": null,
            "order": null,
            "_view_module_version": "1.2.0",
            "grid_template_areas": null,
            "object_position": null,
            "object_fit": null,
            "grid_auto_columns": null,
            "margin": null,
            "display": null,
            "left": null
          }
        },
        "31fe26404cb54b7db798e27feb0e998c": {
          "model_module": "@jupyter-widgets/controls",
          "model_name": "FloatProgressModel",
          "state": {
            "_view_name": "ProgressView",
            "style": "IPY_MODEL_02261dbe2d30458281c0f7942d704d0a",
            "_dom_classes": [],
            "description": "100%",
            "_model_name": "FloatProgressModel",
            "bar_style": "success",
            "max": 1563,
            "_view_module": "@jupyter-widgets/controls",
            "_model_module_version": "1.5.0",
            "value": 1563,
            "_view_count": null,
            "_view_module_version": "1.5.0",
            "orientation": "horizontal",
            "min": 0,
            "description_tooltip": null,
            "_model_module": "@jupyter-widgets/controls",
            "layout": "IPY_MODEL_307eb079d2234435ba1e72b60d0d6f05"
          }
        },
        "547723f3c8b949128f0699e7c18b3efe": {
          "model_module": "@jupyter-widgets/controls",
          "model_name": "HTMLModel",
          "state": {
            "_view_name": "HTMLView",
            "style": "IPY_MODEL_428355181dec465ba8eb373370e0fae8",
            "_dom_classes": [],
            "description": "",
            "_model_name": "HTMLModel",
            "placeholder": "​",
            "_view_module": "@jupyter-widgets/controls",
            "_model_module_version": "1.5.0",
            "value": " 1563/1563 [00:25&lt;00:00, 62.08it/s]",
            "_view_count": null,
            "_view_module_version": "1.5.0",
            "description_tooltip": null,
            "_model_module": "@jupyter-widgets/controls",
            "layout": "IPY_MODEL_e36862a964344b22b786b44a0789e044"
          }
        },
        "02261dbe2d30458281c0f7942d704d0a": {
          "model_module": "@jupyter-widgets/controls",
          "model_name": "ProgressStyleModel",
          "state": {
            "_view_name": "StyleView",
            "_model_name": "ProgressStyleModel",
            "description_width": "initial",
            "_view_module": "@jupyter-widgets/base",
            "_model_module_version": "1.5.0",
            "_view_count": null,
            "_view_module_version": "1.2.0",
            "bar_color": null,
            "_model_module": "@jupyter-widgets/controls"
          }
        },
        "307eb079d2234435ba1e72b60d0d6f05": {
          "model_module": "@jupyter-widgets/base",
          "model_name": "LayoutModel",
          "state": {
            "_view_name": "LayoutView",
            "grid_template_rows": null,
            "right": null,
            "justify_content": null,
            "_view_module": "@jupyter-widgets/base",
            "overflow": null,
            "_model_module_version": "1.2.0",
            "_view_count": null,
            "flex_flow": null,
            "width": null,
            "min_width": null,
            "border": null,
            "align_items": null,
            "bottom": null,
            "_model_module": "@jupyter-widgets/base",
            "top": null,
            "grid_column": null,
            "overflow_y": null,
            "overflow_x": null,
            "grid_auto_flow": null,
            "grid_area": null,
            "grid_template_columns": null,
            "flex": null,
            "_model_name": "LayoutModel",
            "justify_items": null,
            "grid_row": null,
            "max_height": null,
            "align_content": null,
            "visibility": null,
            "align_self": null,
            "height": null,
            "min_height": null,
            "padding": null,
            "grid_auto_rows": null,
            "grid_gap": null,
            "max_width": null,
            "order": null,
            "_view_module_version": "1.2.0",
            "grid_template_areas": null,
            "object_position": null,
            "object_fit": null,
            "grid_auto_columns": null,
            "margin": null,
            "display": null,
            "left": null
          }
        },
        "428355181dec465ba8eb373370e0fae8": {
          "model_module": "@jupyter-widgets/controls",
          "model_name": "DescriptionStyleModel",
          "state": {
            "_view_name": "StyleView",
            "_model_name": "DescriptionStyleModel",
            "description_width": "",
            "_view_module": "@jupyter-widgets/base",
            "_model_module_version": "1.5.0",
            "_view_count": null,
            "_view_module_version": "1.2.0",
            "_model_module": "@jupyter-widgets/controls"
          }
        },
        "e36862a964344b22b786b44a0789e044": {
          "model_module": "@jupyter-widgets/base",
          "model_name": "LayoutModel",
          "state": {
            "_view_name": "LayoutView",
            "grid_template_rows": null,
            "right": null,
            "justify_content": null,
            "_view_module": "@jupyter-widgets/base",
            "overflow": null,
            "_model_module_version": "1.2.0",
            "_view_count": null,
            "flex_flow": null,
            "width": null,
            "min_width": null,
            "border": null,
            "align_items": null,
            "bottom": null,
            "_model_module": "@jupyter-widgets/base",
            "top": null,
            "grid_column": null,
            "overflow_y": null,
            "overflow_x": null,
            "grid_auto_flow": null,
            "grid_area": null,
            "grid_template_columns": null,
            "flex": null,
            "_model_name": "LayoutModel",
            "justify_items": null,
            "grid_row": null,
            "max_height": null,
            "align_content": null,
            "visibility": null,
            "align_self": null,
            "height": null,
            "min_height": null,
            "padding": null,
            "grid_auto_rows": null,
            "grid_gap": null,
            "max_width": null,
            "order": null,
            "_view_module_version": "1.2.0",
            "grid_template_areas": null,
            "object_position": null,
            "object_fit": null,
            "grid_auto_columns": null,
            "margin": null,
            "display": null,
            "left": null
          }
        },
        "5fc97f5e15d34ee8ba10638e891a5dd1": {
          "model_module": "@jupyter-widgets/controls",
          "model_name": "HBoxModel",
          "state": {
            "_view_name": "HBoxView",
            "_dom_classes": [],
            "_model_name": "HBoxModel",
            "_view_module": "@jupyter-widgets/controls",
            "_model_module_version": "1.5.0",
            "_view_count": null,
            "_view_module_version": "1.5.0",
            "box_style": "",
            "layout": "IPY_MODEL_24eb0539715b4aaba12285abe81b24cd",
            "_model_module": "@jupyter-widgets/controls",
            "children": [
              "IPY_MODEL_3fa6f7247925473c802a1f36f53704bd",
              "IPY_MODEL_04900723270741249a0de361ef278d88"
            ]
          }
        },
        "24eb0539715b4aaba12285abe81b24cd": {
          "model_module": "@jupyter-widgets/base",
          "model_name": "LayoutModel",
          "state": {
            "_view_name": "LayoutView",
            "grid_template_rows": null,
            "right": null,
            "justify_content": null,
            "_view_module": "@jupyter-widgets/base",
            "overflow": null,
            "_model_module_version": "1.2.0",
            "_view_count": null,
            "flex_flow": null,
            "width": null,
            "min_width": null,
            "border": null,
            "align_items": null,
            "bottom": null,
            "_model_module": "@jupyter-widgets/base",
            "top": null,
            "grid_column": null,
            "overflow_y": null,
            "overflow_x": null,
            "grid_auto_flow": null,
            "grid_area": null,
            "grid_template_columns": null,
            "flex": null,
            "_model_name": "LayoutModel",
            "justify_items": null,
            "grid_row": null,
            "max_height": null,
            "align_content": null,
            "visibility": null,
            "align_self": null,
            "height": null,
            "min_height": null,
            "padding": null,
            "grid_auto_rows": null,
            "grid_gap": null,
            "max_width": null,
            "order": null,
            "_view_module_version": "1.2.0",
            "grid_template_areas": null,
            "object_position": null,
            "object_fit": null,
            "grid_auto_columns": null,
            "margin": null,
            "display": null,
            "left": null
          }
        },
        "3fa6f7247925473c802a1f36f53704bd": {
          "model_module": "@jupyter-widgets/controls",
          "model_name": "FloatProgressModel",
          "state": {
            "_view_name": "ProgressView",
            "style": "IPY_MODEL_a537a88d76e84097b223ea7051d3bc02",
            "_dom_classes": [],
            "description": "100%",
            "_model_name": "FloatProgressModel",
            "bar_style": "success",
            "max": 1563,
            "_view_module": "@jupyter-widgets/controls",
            "_model_module_version": "1.5.0",
            "value": 1563,
            "_view_count": null,
            "_view_module_version": "1.5.0",
            "orientation": "horizontal",
            "min": 0,
            "description_tooltip": null,
            "_model_module": "@jupyter-widgets/controls",
            "layout": "IPY_MODEL_05fe84439c6c4a2e852da2ad67cd95ba"
          }
        },
        "04900723270741249a0de361ef278d88": {
          "model_module": "@jupyter-widgets/controls",
          "model_name": "HTMLModel",
          "state": {
            "_view_name": "HTMLView",
            "style": "IPY_MODEL_0aa6849cc7c140ef837323eee1bfef17",
            "_dom_classes": [],
            "description": "",
            "_model_name": "HTMLModel",
            "placeholder": "​",
            "_view_module": "@jupyter-widgets/controls",
            "_model_module_version": "1.5.0",
            "value": " 1563/1563 [02:40&lt;00:00,  9.73it/s]",
            "_view_count": null,
            "_view_module_version": "1.5.0",
            "description_tooltip": null,
            "_model_module": "@jupyter-widgets/controls",
            "layout": "IPY_MODEL_cff3717e782e4b95b2db5b57b00cad35"
          }
        },
        "a537a88d76e84097b223ea7051d3bc02": {
          "model_module": "@jupyter-widgets/controls",
          "model_name": "ProgressStyleModel",
          "state": {
            "_view_name": "StyleView",
            "_model_name": "ProgressStyleModel",
            "description_width": "initial",
            "_view_module": "@jupyter-widgets/base",
            "_model_module_version": "1.5.0",
            "_view_count": null,
            "_view_module_version": "1.2.0",
            "bar_color": null,
            "_model_module": "@jupyter-widgets/controls"
          }
        },
        "05fe84439c6c4a2e852da2ad67cd95ba": {
          "model_module": "@jupyter-widgets/base",
          "model_name": "LayoutModel",
          "state": {
            "_view_name": "LayoutView",
            "grid_template_rows": null,
            "right": null,
            "justify_content": null,
            "_view_module": "@jupyter-widgets/base",
            "overflow": null,
            "_model_module_version": "1.2.0",
            "_view_count": null,
            "flex_flow": null,
            "width": null,
            "min_width": null,
            "border": null,
            "align_items": null,
            "bottom": null,
            "_model_module": "@jupyter-widgets/base",
            "top": null,
            "grid_column": null,
            "overflow_y": null,
            "overflow_x": null,
            "grid_auto_flow": null,
            "grid_area": null,
            "grid_template_columns": null,
            "flex": null,
            "_model_name": "LayoutModel",
            "justify_items": null,
            "grid_row": null,
            "max_height": null,
            "align_content": null,
            "visibility": null,
            "align_self": null,
            "height": null,
            "min_height": null,
            "padding": null,
            "grid_auto_rows": null,
            "grid_gap": null,
            "max_width": null,
            "order": null,
            "_view_module_version": "1.2.0",
            "grid_template_areas": null,
            "object_position": null,
            "object_fit": null,
            "grid_auto_columns": null,
            "margin": null,
            "display": null,
            "left": null
          }
        },
        "0aa6849cc7c140ef837323eee1bfef17": {
          "model_module": "@jupyter-widgets/controls",
          "model_name": "DescriptionStyleModel",
          "state": {
            "_view_name": "StyleView",
            "_model_name": "DescriptionStyleModel",
            "description_width": "",
            "_view_module": "@jupyter-widgets/base",
            "_model_module_version": "1.5.0",
            "_view_count": null,
            "_view_module_version": "1.2.0",
            "_model_module": "@jupyter-widgets/controls"
          }
        },
        "cff3717e782e4b95b2db5b57b00cad35": {
          "model_module": "@jupyter-widgets/base",
          "model_name": "LayoutModel",
          "state": {
            "_view_name": "LayoutView",
            "grid_template_rows": null,
            "right": null,
            "justify_content": null,
            "_view_module": "@jupyter-widgets/base",
            "overflow": null,
            "_model_module_version": "1.2.0",
            "_view_count": null,
            "flex_flow": null,
            "width": null,
            "min_width": null,
            "border": null,
            "align_items": null,
            "bottom": null,
            "_model_module": "@jupyter-widgets/base",
            "top": null,
            "grid_column": null,
            "overflow_y": null,
            "overflow_x": null,
            "grid_auto_flow": null,
            "grid_area": null,
            "grid_template_columns": null,
            "flex": null,
            "_model_name": "LayoutModel",
            "justify_items": null,
            "grid_row": null,
            "max_height": null,
            "align_content": null,
            "visibility": null,
            "align_self": null,
            "height": null,
            "min_height": null,
            "padding": null,
            "grid_auto_rows": null,
            "grid_gap": null,
            "max_width": null,
            "order": null,
            "_view_module_version": "1.2.0",
            "grid_template_areas": null,
            "object_position": null,
            "object_fit": null,
            "grid_auto_columns": null,
            "margin": null,
            "display": null,
            "left": null
          }
        },
        "b0c1e00aa3c84fe89bfc4652f4f68efb": {
          "model_module": "@jupyter-widgets/controls",
          "model_name": "HBoxModel",
          "state": {
            "_view_name": "HBoxView",
            "_dom_classes": [],
            "_model_name": "HBoxModel",
            "_view_module": "@jupyter-widgets/controls",
            "_model_module_version": "1.5.0",
            "_view_count": null,
            "_view_module_version": "1.5.0",
            "box_style": "",
            "layout": "IPY_MODEL_ac8b17650bc143f8a59ac6c0e848752f",
            "_model_module": "@jupyter-widgets/controls",
            "children": [
              "IPY_MODEL_f8069e805e804671942455dd4f181605",
              "IPY_MODEL_0f69c40d80c9442d879a30f62745b6dd"
            ]
          }
        },
        "ac8b17650bc143f8a59ac6c0e848752f": {
          "model_module": "@jupyter-widgets/base",
          "model_name": "LayoutModel",
          "state": {
            "_view_name": "LayoutView",
            "grid_template_rows": null,
            "right": null,
            "justify_content": null,
            "_view_module": "@jupyter-widgets/base",
            "overflow": null,
            "_model_module_version": "1.2.0",
            "_view_count": null,
            "flex_flow": null,
            "width": null,
            "min_width": null,
            "border": null,
            "align_items": null,
            "bottom": null,
            "_model_module": "@jupyter-widgets/base",
            "top": null,
            "grid_column": null,
            "overflow_y": null,
            "overflow_x": null,
            "grid_auto_flow": null,
            "grid_area": null,
            "grid_template_columns": null,
            "flex": null,
            "_model_name": "LayoutModel",
            "justify_items": null,
            "grid_row": null,
            "max_height": null,
            "align_content": null,
            "visibility": null,
            "align_self": null,
            "height": null,
            "min_height": null,
            "padding": null,
            "grid_auto_rows": null,
            "grid_gap": null,
            "max_width": null,
            "order": null,
            "_view_module_version": "1.2.0",
            "grid_template_areas": null,
            "object_position": null,
            "object_fit": null,
            "grid_auto_columns": null,
            "margin": null,
            "display": null,
            "left": null
          }
        },
        "f8069e805e804671942455dd4f181605": {
          "model_module": "@jupyter-widgets/controls",
          "model_name": "FloatProgressModel",
          "state": {
            "_view_name": "ProgressView",
            "style": "IPY_MODEL_641e5606d8144c0daa8c91831e1fefed",
            "_dom_classes": [],
            "description": "100%",
            "_model_name": "FloatProgressModel",
            "bar_style": "success",
            "max": 1563,
            "_view_module": "@jupyter-widgets/controls",
            "_model_module_version": "1.5.0",
            "value": 1563,
            "_view_count": null,
            "_view_module_version": "1.5.0",
            "orientation": "horizontal",
            "min": 0,
            "description_tooltip": null,
            "_model_module": "@jupyter-widgets/controls",
            "layout": "IPY_MODEL_5a3f9104c9b14fc490ac9235b1bb6fe2"
          }
        },
        "0f69c40d80c9442d879a30f62745b6dd": {
          "model_module": "@jupyter-widgets/controls",
          "model_name": "HTMLModel",
          "state": {
            "_view_name": "HTMLView",
            "style": "IPY_MODEL_b8113d4a414e4d78aea0fc65e4820783",
            "_dom_classes": [],
            "description": "",
            "_model_name": "HTMLModel",
            "placeholder": "​",
            "_view_module": "@jupyter-widgets/controls",
            "_model_module_version": "1.5.0",
            "value": " 1563/1563 [02:27&lt;00:00, 10.58it/s]",
            "_view_count": null,
            "_view_module_version": "1.5.0",
            "description_tooltip": null,
            "_model_module": "@jupyter-widgets/controls",
            "layout": "IPY_MODEL_79b4340d5fa043fe8251a60869e96533"
          }
        },
        "641e5606d8144c0daa8c91831e1fefed": {
          "model_module": "@jupyter-widgets/controls",
          "model_name": "ProgressStyleModel",
          "state": {
            "_view_name": "StyleView",
            "_model_name": "ProgressStyleModel",
            "description_width": "initial",
            "_view_module": "@jupyter-widgets/base",
            "_model_module_version": "1.5.0",
            "_view_count": null,
            "_view_module_version": "1.2.0",
            "bar_color": null,
            "_model_module": "@jupyter-widgets/controls"
          }
        },
        "5a3f9104c9b14fc490ac9235b1bb6fe2": {
          "model_module": "@jupyter-widgets/base",
          "model_name": "LayoutModel",
          "state": {
            "_view_name": "LayoutView",
            "grid_template_rows": null,
            "right": null,
            "justify_content": null,
            "_view_module": "@jupyter-widgets/base",
            "overflow": null,
            "_model_module_version": "1.2.0",
            "_view_count": null,
            "flex_flow": null,
            "width": null,
            "min_width": null,
            "border": null,
            "align_items": null,
            "bottom": null,
            "_model_module": "@jupyter-widgets/base",
            "top": null,
            "grid_column": null,
            "overflow_y": null,
            "overflow_x": null,
            "grid_auto_flow": null,
            "grid_area": null,
            "grid_template_columns": null,
            "flex": null,
            "_model_name": "LayoutModel",
            "justify_items": null,
            "grid_row": null,
            "max_height": null,
            "align_content": null,
            "visibility": null,
            "align_self": null,
            "height": null,
            "min_height": null,
            "padding": null,
            "grid_auto_rows": null,
            "grid_gap": null,
            "max_width": null,
            "order": null,
            "_view_module_version": "1.2.0",
            "grid_template_areas": null,
            "object_position": null,
            "object_fit": null,
            "grid_auto_columns": null,
            "margin": null,
            "display": null,
            "left": null
          }
        },
        "b8113d4a414e4d78aea0fc65e4820783": {
          "model_module": "@jupyter-widgets/controls",
          "model_name": "DescriptionStyleModel",
          "state": {
            "_view_name": "StyleView",
            "_model_name": "DescriptionStyleModel",
            "description_width": "",
            "_view_module": "@jupyter-widgets/base",
            "_model_module_version": "1.5.0",
            "_view_count": null,
            "_view_module_version": "1.2.0",
            "_model_module": "@jupyter-widgets/controls"
          }
        },
        "79b4340d5fa043fe8251a60869e96533": {
          "model_module": "@jupyter-widgets/base",
          "model_name": "LayoutModel",
          "state": {
            "_view_name": "LayoutView",
            "grid_template_rows": null,
            "right": null,
            "justify_content": null,
            "_view_module": "@jupyter-widgets/base",
            "overflow": null,
            "_model_module_version": "1.2.0",
            "_view_count": null,
            "flex_flow": null,
            "width": null,
            "min_width": null,
            "border": null,
            "align_items": null,
            "bottom": null,
            "_model_module": "@jupyter-widgets/base",
            "top": null,
            "grid_column": null,
            "overflow_y": null,
            "overflow_x": null,
            "grid_auto_flow": null,
            "grid_area": null,
            "grid_template_columns": null,
            "flex": null,
            "_model_name": "LayoutModel",
            "justify_items": null,
            "grid_row": null,
            "max_height": null,
            "align_content": null,
            "visibility": null,
            "align_self": null,
            "height": null,
            "min_height": null,
            "padding": null,
            "grid_auto_rows": null,
            "grid_gap": null,
            "max_width": null,
            "order": null,
            "_view_module_version": "1.2.0",
            "grid_template_areas": null,
            "object_position": null,
            "object_fit": null,
            "grid_auto_columns": null,
            "margin": null,
            "display": null,
            "left": null
          }
        },
        "499e91fd656049e78cee0dd3e4781a79": {
          "model_module": "@jupyter-widgets/controls",
          "model_name": "VBoxModel",
          "state": {
            "_view_name": "VBoxView",
            "_dom_classes": [],
            "_model_name": "VBoxModel",
            "_view_module": "@jupyter-widgets/controls",
            "_model_module_version": "1.5.0",
            "_view_count": null,
            "_view_module_version": "1.5.0",
            "box_style": "",
            "layout": "IPY_MODEL_5d2df0a4c999497abc744fd9138794d7",
            "_model_module": "@jupyter-widgets/controls",
            "children": [
              "IPY_MODEL_a0c65af7b87e4ea1aa159c87b90fd1f6",
              "IPY_MODEL_47faa302bc754320ac4c224cf92d36ba"
            ]
          }
        },
        "5d2df0a4c999497abc744fd9138794d7": {
          "model_module": "@jupyter-widgets/base",
          "model_name": "LayoutModel",
          "state": {
            "_view_name": "LayoutView",
            "grid_template_rows": null,
            "right": null,
            "justify_content": null,
            "_view_module": "@jupyter-widgets/base",
            "overflow": null,
            "_model_module_version": "1.2.0",
            "_view_count": null,
            "flex_flow": null,
            "width": null,
            "min_width": null,
            "border": null,
            "align_items": null,
            "bottom": null,
            "_model_module": "@jupyter-widgets/base",
            "top": null,
            "grid_column": null,
            "overflow_y": null,
            "overflow_x": null,
            "grid_auto_flow": null,
            "grid_area": null,
            "grid_template_columns": null,
            "flex": null,
            "_model_name": "LayoutModel",
            "justify_items": null,
            "grid_row": null,
            "max_height": null,
            "align_content": null,
            "visibility": null,
            "align_self": null,
            "height": null,
            "min_height": null,
            "padding": null,
            "grid_auto_rows": null,
            "grid_gap": null,
            "max_width": null,
            "order": null,
            "_view_module_version": "1.2.0",
            "grid_template_areas": null,
            "object_position": null,
            "object_fit": null,
            "grid_auto_columns": null,
            "margin": null,
            "display": null,
            "left": null
          }
        },
        "a0c65af7b87e4ea1aa159c87b90fd1f6": {
          "model_module": "@jupyter-widgets/controls",
          "model_name": "LabelModel",
          "state": {
            "_view_name": "LabelView",
            "style": "IPY_MODEL_f1a37ef1caf04a9eaf573768644c6a98",
            "_dom_classes": [],
            "description": "",
            "_model_name": "LabelModel",
            "placeholder": "​",
            "_view_module": "@jupyter-widgets/controls",
            "_model_module_version": "1.5.0",
            "value": " 0.01MB of 0.01MB uploaded (0.00MB deduped)\r",
            "_view_count": null,
            "_view_module_version": "1.5.0",
            "description_tooltip": null,
            "_model_module": "@jupyter-widgets/controls",
            "layout": "IPY_MODEL_03b8ee65585a40549a81173b02e05c54"
          }
        },
        "47faa302bc754320ac4c224cf92d36ba": {
          "model_module": "@jupyter-widgets/controls",
          "model_name": "FloatProgressModel",
          "state": {
            "_view_name": "ProgressView",
            "style": "IPY_MODEL_57e75312150846f1b9e651a91771ed8b",
            "_dom_classes": [],
            "description": "",
            "_model_name": "FloatProgressModel",
            "bar_style": "",
            "max": 1,
            "_view_module": "@jupyter-widgets/controls",
            "_model_module_version": "1.5.0",
            "value": 1,
            "_view_count": null,
            "_view_module_version": "1.5.0",
            "orientation": "horizontal",
            "min": 0,
            "description_tooltip": null,
            "_model_module": "@jupyter-widgets/controls",
            "layout": "IPY_MODEL_eb43a8051824440c8cc27ab287c60e38"
          }
        },
        "f1a37ef1caf04a9eaf573768644c6a98": {
          "model_module": "@jupyter-widgets/controls",
          "model_name": "DescriptionStyleModel",
          "state": {
            "_view_name": "StyleView",
            "_model_name": "DescriptionStyleModel",
            "description_width": "",
            "_view_module": "@jupyter-widgets/base",
            "_model_module_version": "1.5.0",
            "_view_count": null,
            "_view_module_version": "1.2.0",
            "_model_module": "@jupyter-widgets/controls"
          }
        },
        "03b8ee65585a40549a81173b02e05c54": {
          "model_module": "@jupyter-widgets/base",
          "model_name": "LayoutModel",
          "state": {
            "_view_name": "LayoutView",
            "grid_template_rows": null,
            "right": null,
            "justify_content": null,
            "_view_module": "@jupyter-widgets/base",
            "overflow": null,
            "_model_module_version": "1.2.0",
            "_view_count": null,
            "flex_flow": null,
            "width": null,
            "min_width": null,
            "border": null,
            "align_items": null,
            "bottom": null,
            "_model_module": "@jupyter-widgets/base",
            "top": null,
            "grid_column": null,
            "overflow_y": null,
            "overflow_x": null,
            "grid_auto_flow": null,
            "grid_area": null,
            "grid_template_columns": null,
            "flex": null,
            "_model_name": "LayoutModel",
            "justify_items": null,
            "grid_row": null,
            "max_height": null,
            "align_content": null,
            "visibility": null,
            "align_self": null,
            "height": null,
            "min_height": null,
            "padding": null,
            "grid_auto_rows": null,
            "grid_gap": null,
            "max_width": null,
            "order": null,
            "_view_module_version": "1.2.0",
            "grid_template_areas": null,
            "object_position": null,
            "object_fit": null,
            "grid_auto_columns": null,
            "margin": null,
            "display": null,
            "left": null
          }
        },
        "57e75312150846f1b9e651a91771ed8b": {
          "model_module": "@jupyter-widgets/controls",
          "model_name": "ProgressStyleModel",
          "state": {
            "_view_name": "StyleView",
            "_model_name": "ProgressStyleModel",
            "description_width": "",
            "_view_module": "@jupyter-widgets/base",
            "_model_module_version": "1.5.0",
            "_view_count": null,
            "_view_module_version": "1.2.0",
            "bar_color": null,
            "_model_module": "@jupyter-widgets/controls"
          }
        },
        "eb43a8051824440c8cc27ab287c60e38": {
          "model_module": "@jupyter-widgets/base",
          "model_name": "LayoutModel",
          "state": {
            "_view_name": "LayoutView",
            "grid_template_rows": null,
            "right": null,
            "justify_content": null,
            "_view_module": "@jupyter-widgets/base",
            "overflow": null,
            "_model_module_version": "1.2.0",
            "_view_count": null,
            "flex_flow": null,
            "width": null,
            "min_width": null,
            "border": null,
            "align_items": null,
            "bottom": null,
            "_model_module": "@jupyter-widgets/base",
            "top": null,
            "grid_column": null,
            "overflow_y": null,
            "overflow_x": null,
            "grid_auto_flow": null,
            "grid_area": null,
            "grid_template_columns": null,
            "flex": null,
            "_model_name": "LayoutModel",
            "justify_items": null,
            "grid_row": null,
            "max_height": null,
            "align_content": null,
            "visibility": null,
            "align_self": null,
            "height": null,
            "min_height": null,
            "padding": null,
            "grid_auto_rows": null,
            "grid_gap": null,
            "max_width": null,
            "order": null,
            "_view_module_version": "1.2.0",
            "grid_template_areas": null,
            "object_position": null,
            "object_fit": null,
            "grid_auto_columns": null,
            "margin": null,
            "display": null,
            "left": null
          }
        },
        "6a1c054d65b84498a49df70f6054b516": {
          "model_module": "@jupyter-widgets/controls",
          "model_name": "HBoxModel",
          "state": {
            "_view_name": "HBoxView",
            "_dom_classes": [],
            "_model_name": "HBoxModel",
            "_view_module": "@jupyter-widgets/controls",
            "_model_module_version": "1.5.0",
            "_view_count": null,
            "_view_module_version": "1.5.0",
            "box_style": "",
            "layout": "IPY_MODEL_ba9f70da9e964ee7ac0cc882a7acb98c",
            "_model_module": "@jupyter-widgets/controls",
            "children": [
              "IPY_MODEL_e8aaabecff1e420c8feb5f47050daaca",
              "IPY_MODEL_e1cdf02ee4204392b4415f22337880ab"
            ]
          }
        },
        "ba9f70da9e964ee7ac0cc882a7acb98c": {
          "model_module": "@jupyter-widgets/base",
          "model_name": "LayoutModel",
          "state": {
            "_view_name": "LayoutView",
            "grid_template_rows": null,
            "right": null,
            "justify_content": null,
            "_view_module": "@jupyter-widgets/base",
            "overflow": null,
            "_model_module_version": "1.2.0",
            "_view_count": null,
            "flex_flow": null,
            "width": null,
            "min_width": null,
            "border": null,
            "align_items": null,
            "bottom": null,
            "_model_module": "@jupyter-widgets/base",
            "top": null,
            "grid_column": null,
            "overflow_y": null,
            "overflow_x": null,
            "grid_auto_flow": null,
            "grid_area": null,
            "grid_template_columns": null,
            "flex": null,
            "_model_name": "LayoutModel",
            "justify_items": null,
            "grid_row": null,
            "max_height": null,
            "align_content": null,
            "visibility": null,
            "align_self": null,
            "height": null,
            "min_height": null,
            "padding": null,
            "grid_auto_rows": null,
            "grid_gap": null,
            "max_width": null,
            "order": null,
            "_view_module_version": "1.2.0",
            "grid_template_areas": null,
            "object_position": null,
            "object_fit": null,
            "grid_auto_columns": null,
            "margin": null,
            "display": null,
            "left": null
          }
        },
        "e8aaabecff1e420c8feb5f47050daaca": {
          "model_module": "@jupyter-widgets/controls",
          "model_name": "FloatProgressModel",
          "state": {
            "_view_name": "ProgressView",
            "style": "IPY_MODEL_05d51c1877424b268e8fe96b71f677e8",
            "_dom_classes": [],
            "description": "100%",
            "_model_name": "FloatProgressModel",
            "bar_style": "success",
            "max": 1563,
            "_view_module": "@jupyter-widgets/controls",
            "_model_module_version": "1.5.0",
            "value": 1563,
            "_view_count": null,
            "_view_module_version": "1.5.0",
            "orientation": "horizontal",
            "min": 0,
            "description_tooltip": null,
            "_model_module": "@jupyter-widgets/controls",
            "layout": "IPY_MODEL_35371e82118d466384ceb8ed177bf1f2"
          }
        },
        "e1cdf02ee4204392b4415f22337880ab": {
          "model_module": "@jupyter-widgets/controls",
          "model_name": "HTMLModel",
          "state": {
            "_view_name": "HTMLView",
            "style": "IPY_MODEL_f7dce1fa1710458f8308a40f66a993a0",
            "_dom_classes": [],
            "description": "",
            "_model_name": "HTMLModel",
            "placeholder": "​",
            "_view_module": "@jupyter-widgets/controls",
            "_model_module_version": "1.5.0",
            "value": " 1563/1563 [02:06&lt;00:00, 12.31it/s]",
            "_view_count": null,
            "_view_module_version": "1.5.0",
            "description_tooltip": null,
            "_model_module": "@jupyter-widgets/controls",
            "layout": "IPY_MODEL_af49046a63144c87b00c1d6454db9304"
          }
        },
        "05d51c1877424b268e8fe96b71f677e8": {
          "model_module": "@jupyter-widgets/controls",
          "model_name": "ProgressStyleModel",
          "state": {
            "_view_name": "StyleView",
            "_model_name": "ProgressStyleModel",
            "description_width": "initial",
            "_view_module": "@jupyter-widgets/base",
            "_model_module_version": "1.5.0",
            "_view_count": null,
            "_view_module_version": "1.2.0",
            "bar_color": null,
            "_model_module": "@jupyter-widgets/controls"
          }
        },
        "35371e82118d466384ceb8ed177bf1f2": {
          "model_module": "@jupyter-widgets/base",
          "model_name": "LayoutModel",
          "state": {
            "_view_name": "LayoutView",
            "grid_template_rows": null,
            "right": null,
            "justify_content": null,
            "_view_module": "@jupyter-widgets/base",
            "overflow": null,
            "_model_module_version": "1.2.0",
            "_view_count": null,
            "flex_flow": null,
            "width": null,
            "min_width": null,
            "border": null,
            "align_items": null,
            "bottom": null,
            "_model_module": "@jupyter-widgets/base",
            "top": null,
            "grid_column": null,
            "overflow_y": null,
            "overflow_x": null,
            "grid_auto_flow": null,
            "grid_area": null,
            "grid_template_columns": null,
            "flex": null,
            "_model_name": "LayoutModel",
            "justify_items": null,
            "grid_row": null,
            "max_height": null,
            "align_content": null,
            "visibility": null,
            "align_self": null,
            "height": null,
            "min_height": null,
            "padding": null,
            "grid_auto_rows": null,
            "grid_gap": null,
            "max_width": null,
            "order": null,
            "_view_module_version": "1.2.0",
            "grid_template_areas": null,
            "object_position": null,
            "object_fit": null,
            "grid_auto_columns": null,
            "margin": null,
            "display": null,
            "left": null
          }
        },
        "f7dce1fa1710458f8308a40f66a993a0": {
          "model_module": "@jupyter-widgets/controls",
          "model_name": "DescriptionStyleModel",
          "state": {
            "_view_name": "StyleView",
            "_model_name": "DescriptionStyleModel",
            "description_width": "",
            "_view_module": "@jupyter-widgets/base",
            "_model_module_version": "1.5.0",
            "_view_count": null,
            "_view_module_version": "1.2.0",
            "_model_module": "@jupyter-widgets/controls"
          }
        },
        "af49046a63144c87b00c1d6454db9304": {
          "model_module": "@jupyter-widgets/base",
          "model_name": "LayoutModel",
          "state": {
            "_view_name": "LayoutView",
            "grid_template_rows": null,
            "right": null,
            "justify_content": null,
            "_view_module": "@jupyter-widgets/base",
            "overflow": null,
            "_model_module_version": "1.2.0",
            "_view_count": null,
            "flex_flow": null,
            "width": null,
            "min_width": null,
            "border": null,
            "align_items": null,
            "bottom": null,
            "_model_module": "@jupyter-widgets/base",
            "top": null,
            "grid_column": null,
            "overflow_y": null,
            "overflow_x": null,
            "grid_auto_flow": null,
            "grid_area": null,
            "grid_template_columns": null,
            "flex": null,
            "_model_name": "LayoutModel",
            "justify_items": null,
            "grid_row": null,
            "max_height": null,
            "align_content": null,
            "visibility": null,
            "align_self": null,
            "height": null,
            "min_height": null,
            "padding": null,
            "grid_auto_rows": null,
            "grid_gap": null,
            "max_width": null,
            "order": null,
            "_view_module_version": "1.2.0",
            "grid_template_areas": null,
            "object_position": null,
            "object_fit": null,
            "grid_auto_columns": null,
            "margin": null,
            "display": null,
            "left": null
          }
        },
        "005dc8395aac4016b7dde94d2e1b6172": {
          "model_module": "@jupyter-widgets/controls",
          "model_name": "HBoxModel",
          "state": {
            "_view_name": "HBoxView",
            "_dom_classes": [],
            "_model_name": "HBoxModel",
            "_view_module": "@jupyter-widgets/controls",
            "_model_module_version": "1.5.0",
            "_view_count": null,
            "_view_module_version": "1.5.0",
            "box_style": "",
            "layout": "IPY_MODEL_fb00991041ee4d64a16c815c38560b20",
            "_model_module": "@jupyter-widgets/controls",
            "children": [
              "IPY_MODEL_41c94900ade4479ebcdeecf8a1e0679b",
              "IPY_MODEL_eb86062c8a674957aec9ff5c89f8aa3d"
            ]
          }
        },
        "fb00991041ee4d64a16c815c38560b20": {
          "model_module": "@jupyter-widgets/base",
          "model_name": "LayoutModel",
          "state": {
            "_view_name": "LayoutView",
            "grid_template_rows": null,
            "right": null,
            "justify_content": null,
            "_view_module": "@jupyter-widgets/base",
            "overflow": null,
            "_model_module_version": "1.2.0",
            "_view_count": null,
            "flex_flow": null,
            "width": null,
            "min_width": null,
            "border": null,
            "align_items": null,
            "bottom": null,
            "_model_module": "@jupyter-widgets/base",
            "top": null,
            "grid_column": null,
            "overflow_y": null,
            "overflow_x": null,
            "grid_auto_flow": null,
            "grid_area": null,
            "grid_template_columns": null,
            "flex": null,
            "_model_name": "LayoutModel",
            "justify_items": null,
            "grid_row": null,
            "max_height": null,
            "align_content": null,
            "visibility": null,
            "align_self": null,
            "height": null,
            "min_height": null,
            "padding": null,
            "grid_auto_rows": null,
            "grid_gap": null,
            "max_width": null,
            "order": null,
            "_view_module_version": "1.2.0",
            "grid_template_areas": null,
            "object_position": null,
            "object_fit": null,
            "grid_auto_columns": null,
            "margin": null,
            "display": null,
            "left": null
          }
        },
        "41c94900ade4479ebcdeecf8a1e0679b": {
          "model_module": "@jupyter-widgets/controls",
          "model_name": "FloatProgressModel",
          "state": {
            "_view_name": "ProgressView",
            "style": "IPY_MODEL_b9bfb53ff5df47f399ea8c6b9c4f54b7",
            "_dom_classes": [],
            "description": "100%",
            "_model_name": "FloatProgressModel",
            "bar_style": "success",
            "max": 1563,
            "_view_module": "@jupyter-widgets/controls",
            "_model_module_version": "1.5.0",
            "value": 1563,
            "_view_count": null,
            "_view_module_version": "1.5.0",
            "orientation": "horizontal",
            "min": 0,
            "description_tooltip": null,
            "_model_module": "@jupyter-widgets/controls",
            "layout": "IPY_MODEL_e95e04468908410a8ff5453f53e97e16"
          }
        },
        "eb86062c8a674957aec9ff5c89f8aa3d": {
          "model_module": "@jupyter-widgets/controls",
          "model_name": "HTMLModel",
          "state": {
            "_view_name": "HTMLView",
            "style": "IPY_MODEL_0537c6001ea34588b98642ddc124a092",
            "_dom_classes": [],
            "description": "",
            "_model_name": "HTMLModel",
            "placeholder": "​",
            "_view_module": "@jupyter-widgets/controls",
            "_model_module_version": "1.5.0",
            "value": " 1563/1563 [01:59&lt;00:00, 13.10it/s]",
            "_view_count": null,
            "_view_module_version": "1.5.0",
            "description_tooltip": null,
            "_model_module": "@jupyter-widgets/controls",
            "layout": "IPY_MODEL_a378013c94824347a501f3f45b820bf8"
          }
        },
        "b9bfb53ff5df47f399ea8c6b9c4f54b7": {
          "model_module": "@jupyter-widgets/controls",
          "model_name": "ProgressStyleModel",
          "state": {
            "_view_name": "StyleView",
            "_model_name": "ProgressStyleModel",
            "description_width": "initial",
            "_view_module": "@jupyter-widgets/base",
            "_model_module_version": "1.5.0",
            "_view_count": null,
            "_view_module_version": "1.2.0",
            "bar_color": null,
            "_model_module": "@jupyter-widgets/controls"
          }
        },
        "e95e04468908410a8ff5453f53e97e16": {
          "model_module": "@jupyter-widgets/base",
          "model_name": "LayoutModel",
          "state": {
            "_view_name": "LayoutView",
            "grid_template_rows": null,
            "right": null,
            "justify_content": null,
            "_view_module": "@jupyter-widgets/base",
            "overflow": null,
            "_model_module_version": "1.2.0",
            "_view_count": null,
            "flex_flow": null,
            "width": null,
            "min_width": null,
            "border": null,
            "align_items": null,
            "bottom": null,
            "_model_module": "@jupyter-widgets/base",
            "top": null,
            "grid_column": null,
            "overflow_y": null,
            "overflow_x": null,
            "grid_auto_flow": null,
            "grid_area": null,
            "grid_template_columns": null,
            "flex": null,
            "_model_name": "LayoutModel",
            "justify_items": null,
            "grid_row": null,
            "max_height": null,
            "align_content": null,
            "visibility": null,
            "align_self": null,
            "height": null,
            "min_height": null,
            "padding": null,
            "grid_auto_rows": null,
            "grid_gap": null,
            "max_width": null,
            "order": null,
            "_view_module_version": "1.2.0",
            "grid_template_areas": null,
            "object_position": null,
            "object_fit": null,
            "grid_auto_columns": null,
            "margin": null,
            "display": null,
            "left": null
          }
        },
        "0537c6001ea34588b98642ddc124a092": {
          "model_module": "@jupyter-widgets/controls",
          "model_name": "DescriptionStyleModel",
          "state": {
            "_view_name": "StyleView",
            "_model_name": "DescriptionStyleModel",
            "description_width": "",
            "_view_module": "@jupyter-widgets/base",
            "_model_module_version": "1.5.0",
            "_view_count": null,
            "_view_module_version": "1.2.0",
            "_model_module": "@jupyter-widgets/controls"
          }
        },
        "a378013c94824347a501f3f45b820bf8": {
          "model_module": "@jupyter-widgets/base",
          "model_name": "LayoutModel",
          "state": {
            "_view_name": "LayoutView",
            "grid_template_rows": null,
            "right": null,
            "justify_content": null,
            "_view_module": "@jupyter-widgets/base",
            "overflow": null,
            "_model_module_version": "1.2.0",
            "_view_count": null,
            "flex_flow": null,
            "width": null,
            "min_width": null,
            "border": null,
            "align_items": null,
            "bottom": null,
            "_model_module": "@jupyter-widgets/base",
            "top": null,
            "grid_column": null,
            "overflow_y": null,
            "overflow_x": null,
            "grid_auto_flow": null,
            "grid_area": null,
            "grid_template_columns": null,
            "flex": null,
            "_model_name": "LayoutModel",
            "justify_items": null,
            "grid_row": null,
            "max_height": null,
            "align_content": null,
            "visibility": null,
            "align_self": null,
            "height": null,
            "min_height": null,
            "padding": null,
            "grid_auto_rows": null,
            "grid_gap": null,
            "max_width": null,
            "order": null,
            "_view_module_version": "1.2.0",
            "grid_template_areas": null,
            "object_position": null,
            "object_fit": null,
            "grid_auto_columns": null,
            "margin": null,
            "display": null,
            "left": null
          }
        },
        "fb5cd8c7ed9e4f43958c5762d7409805": {
          "model_module": "@jupyter-widgets/controls",
          "model_name": "HBoxModel",
          "state": {
            "_view_name": "HBoxView",
            "_dom_classes": [],
            "_model_name": "HBoxModel",
            "_view_module": "@jupyter-widgets/controls",
            "_model_module_version": "1.5.0",
            "_view_count": null,
            "_view_module_version": "1.5.0",
            "box_style": "",
            "layout": "IPY_MODEL_e901a13916db40a9be9ca7f228f03b05",
            "_model_module": "@jupyter-widgets/controls",
            "children": [
              "IPY_MODEL_7aeecf18ffb74650ab9810d1d80bafe8",
              "IPY_MODEL_6b20bb733da5407c966529489f84e4f9"
            ]
          }
        },
        "e901a13916db40a9be9ca7f228f03b05": {
          "model_module": "@jupyter-widgets/base",
          "model_name": "LayoutModel",
          "state": {
            "_view_name": "LayoutView",
            "grid_template_rows": null,
            "right": null,
            "justify_content": null,
            "_view_module": "@jupyter-widgets/base",
            "overflow": null,
            "_model_module_version": "1.2.0",
            "_view_count": null,
            "flex_flow": null,
            "width": null,
            "min_width": null,
            "border": null,
            "align_items": null,
            "bottom": null,
            "_model_module": "@jupyter-widgets/base",
            "top": null,
            "grid_column": null,
            "overflow_y": null,
            "overflow_x": null,
            "grid_auto_flow": null,
            "grid_area": null,
            "grid_template_columns": null,
            "flex": null,
            "_model_name": "LayoutModel",
            "justify_items": null,
            "grid_row": null,
            "max_height": null,
            "align_content": null,
            "visibility": null,
            "align_self": null,
            "height": null,
            "min_height": null,
            "padding": null,
            "grid_auto_rows": null,
            "grid_gap": null,
            "max_width": null,
            "order": null,
            "_view_module_version": "1.2.0",
            "grid_template_areas": null,
            "object_position": null,
            "object_fit": null,
            "grid_auto_columns": null,
            "margin": null,
            "display": null,
            "left": null
          }
        },
        "7aeecf18ffb74650ab9810d1d80bafe8": {
          "model_module": "@jupyter-widgets/controls",
          "model_name": "FloatProgressModel",
          "state": {
            "_view_name": "ProgressView",
            "style": "IPY_MODEL_b92596af78a341c3882ce164175674b9",
            "_dom_classes": [],
            "description": " 30%",
            "_model_name": "FloatProgressModel",
            "bar_style": "danger",
            "max": 1563,
            "_view_module": "@jupyter-widgets/controls",
            "_model_module_version": "1.5.0",
            "value": 475,
            "_view_count": null,
            "_view_module_version": "1.5.0",
            "orientation": "horizontal",
            "min": 0,
            "description_tooltip": null,
            "_model_module": "@jupyter-widgets/controls",
            "layout": "IPY_MODEL_eeee8933246b4bc080e9623cc8ca4294"
          }
        },
        "6b20bb733da5407c966529489f84e4f9": {
          "model_module": "@jupyter-widgets/controls",
          "model_name": "HTMLModel",
          "state": {
            "_view_name": "HTMLView",
            "style": "IPY_MODEL_10a8bfc9a7414b078fd39f28dffe3359",
            "_dom_classes": [],
            "description": "",
            "_model_name": "HTMLModel",
            "placeholder": "​",
            "_view_module": "@jupyter-widgets/controls",
            "_model_module_version": "1.5.0",
            "value": " 475/1563 [00:20&lt;00:05, 215.92it/s]",
            "_view_count": null,
            "_view_module_version": "1.5.0",
            "description_tooltip": null,
            "_model_module": "@jupyter-widgets/controls",
            "layout": "IPY_MODEL_9f49e8fe32c242db808fc7bd2fb0e909"
          }
        },
        "b92596af78a341c3882ce164175674b9": {
          "model_module": "@jupyter-widgets/controls",
          "model_name": "ProgressStyleModel",
          "state": {
            "_view_name": "StyleView",
            "_model_name": "ProgressStyleModel",
            "description_width": "initial",
            "_view_module": "@jupyter-widgets/base",
            "_model_module_version": "1.5.0",
            "_view_count": null,
            "_view_module_version": "1.2.0",
            "bar_color": null,
            "_model_module": "@jupyter-widgets/controls"
          }
        },
        "eeee8933246b4bc080e9623cc8ca4294": {
          "model_module": "@jupyter-widgets/base",
          "model_name": "LayoutModel",
          "state": {
            "_view_name": "LayoutView",
            "grid_template_rows": null,
            "right": null,
            "justify_content": null,
            "_view_module": "@jupyter-widgets/base",
            "overflow": null,
            "_model_module_version": "1.2.0",
            "_view_count": null,
            "flex_flow": null,
            "width": null,
            "min_width": null,
            "border": null,
            "align_items": null,
            "bottom": null,
            "_model_module": "@jupyter-widgets/base",
            "top": null,
            "grid_column": null,
            "overflow_y": null,
            "overflow_x": null,
            "grid_auto_flow": null,
            "grid_area": null,
            "grid_template_columns": null,
            "flex": null,
            "_model_name": "LayoutModel",
            "justify_items": null,
            "grid_row": null,
            "max_height": null,
            "align_content": null,
            "visibility": null,
            "align_self": null,
            "height": null,
            "min_height": null,
            "padding": null,
            "grid_auto_rows": null,
            "grid_gap": null,
            "max_width": null,
            "order": null,
            "_view_module_version": "1.2.0",
            "grid_template_areas": null,
            "object_position": null,
            "object_fit": null,
            "grid_auto_columns": null,
            "margin": null,
            "display": null,
            "left": null
          }
        },
        "10a8bfc9a7414b078fd39f28dffe3359": {
          "model_module": "@jupyter-widgets/controls",
          "model_name": "DescriptionStyleModel",
          "state": {
            "_view_name": "StyleView",
            "_model_name": "DescriptionStyleModel",
            "description_width": "",
            "_view_module": "@jupyter-widgets/base",
            "_model_module_version": "1.5.0",
            "_view_count": null,
            "_view_module_version": "1.2.0",
            "_model_module": "@jupyter-widgets/controls"
          }
        },
        "9f49e8fe32c242db808fc7bd2fb0e909": {
          "model_module": "@jupyter-widgets/base",
          "model_name": "LayoutModel",
          "state": {
            "_view_name": "LayoutView",
            "grid_template_rows": null,
            "right": null,
            "justify_content": null,
            "_view_module": "@jupyter-widgets/base",
            "overflow": null,
            "_model_module_version": "1.2.0",
            "_view_count": null,
            "flex_flow": null,
            "width": null,
            "min_width": null,
            "border": null,
            "align_items": null,
            "bottom": null,
            "_model_module": "@jupyter-widgets/base",
            "top": null,
            "grid_column": null,
            "overflow_y": null,
            "overflow_x": null,
            "grid_auto_flow": null,
            "grid_area": null,
            "grid_template_columns": null,
            "flex": null,
            "_model_name": "LayoutModel",
            "justify_items": null,
            "grid_row": null,
            "max_height": null,
            "align_content": null,
            "visibility": null,
            "align_self": null,
            "height": null,
            "min_height": null,
            "padding": null,
            "grid_auto_rows": null,
            "grid_gap": null,
            "max_width": null,
            "order": null,
            "_view_module_version": "1.2.0",
            "grid_template_areas": null,
            "object_position": null,
            "object_fit": null,
            "grid_auto_columns": null,
            "margin": null,
            "display": null,
            "left": null
          }
        }
      }
    }
  },
  "cells": [
    {
      "cell_type": "code",
      "metadata": {
        "id": "y_k91V7UYQl6",
        "colab": {
          "base_uri": "https://localhost:8080/"
        },
        "outputId": "ba090df9-e934-4d79-f78d-3f534e8cfb57"
      },
      "source": [
        "!pip install wandb\n",
        "!pip install tensorflow\n",
        "!pip install keras\n",
        "import keras\n",
        "import numpy as np\n",
        "from keras.datasets import fashion_mnist\n",
        "from tqdm.auto import tqdm\n",
        "import tensorflow as tf\n",
        "import wandb\n",
        "import pprint"
      ],
      "execution_count": 1,
      "outputs": [
        {
          "output_type": "stream",
          "text": [
            "Requirement already satisfied: wandb in /usr/local/lib/python3.7/dist-packages (0.10.22)\n",
            "Requirement already satisfied: promise<3,>=2.0 in /usr/local/lib/python3.7/dist-packages (from wandb) (2.3)\n",
            "Requirement already satisfied: GitPython>=1.0.0 in /usr/local/lib/python3.7/dist-packages (from wandb) (3.1.14)\n",
            "Requirement already satisfied: psutil>=5.0.0 in /usr/local/lib/python3.7/dist-packages (from wandb) (5.4.8)\n",
            "Requirement already satisfied: six>=1.13.0 in /usr/local/lib/python3.7/dist-packages (from wandb) (1.15.0)\n",
            "Requirement already satisfied: subprocess32>=3.5.3 in /usr/local/lib/python3.7/dist-packages (from wandb) (3.5.4)\n",
            "Requirement already satisfied: sentry-sdk>=0.4.0 in /usr/local/lib/python3.7/dist-packages (from wandb) (1.0.0)\n",
            "Requirement already satisfied: pathtools in /usr/local/lib/python3.7/dist-packages (from wandb) (0.1.2)\n",
            "Requirement already satisfied: python-dateutil>=2.6.1 in /usr/local/lib/python3.7/dist-packages (from wandb) (2.8.1)\n",
            "Requirement already satisfied: Click>=7.0 in /usr/local/lib/python3.7/dist-packages (from wandb) (7.1.2)\n",
            "Requirement already satisfied: shortuuid>=0.5.0 in /usr/local/lib/python3.7/dist-packages (from wandb) (1.0.1)\n",
            "Requirement already satisfied: PyYAML in /usr/local/lib/python3.7/dist-packages (from wandb) (3.13)\n",
            "Requirement already satisfied: docker-pycreds>=0.4.0 in /usr/local/lib/python3.7/dist-packages (from wandb) (0.4.0)\n",
            "Requirement already satisfied: configparser>=3.8.1 in /usr/local/lib/python3.7/dist-packages (from wandb) (5.0.2)\n",
            "Requirement already satisfied: requests<3,>=2.0.0 in /usr/local/lib/python3.7/dist-packages (from wandb) (2.23.0)\n",
            "Requirement already satisfied: protobuf>=3.12.0 in /usr/local/lib/python3.7/dist-packages (from wandb) (3.12.4)\n",
            "Requirement already satisfied: gitdb<5,>=4.0.1 in /usr/local/lib/python3.7/dist-packages (from GitPython>=1.0.0->wandb) (4.0.5)\n",
            "Requirement already satisfied: certifi in /usr/local/lib/python3.7/dist-packages (from sentry-sdk>=0.4.0->wandb) (2020.12.5)\n",
            "Requirement already satisfied: urllib3>=1.10.0 in /usr/local/lib/python3.7/dist-packages (from sentry-sdk>=0.4.0->wandb) (1.24.3)\n",
            "Requirement already satisfied: idna<3,>=2.5 in /usr/local/lib/python3.7/dist-packages (from requests<3,>=2.0.0->wandb) (2.10)\n",
            "Requirement already satisfied: chardet<4,>=3.0.2 in /usr/local/lib/python3.7/dist-packages (from requests<3,>=2.0.0->wandb) (3.0.4)\n",
            "Requirement already satisfied: setuptools in /usr/local/lib/python3.7/dist-packages (from protobuf>=3.12.0->wandb) (54.0.0)\n",
            "Requirement already satisfied: smmap<4,>=3.0.1 in /usr/local/lib/python3.7/dist-packages (from gitdb<5,>=4.0.1->GitPython>=1.0.0->wandb) (3.0.5)\n",
            "Requirement already satisfied: tensorflow in /usr/local/lib/python3.7/dist-packages (2.4.1)\n",
            "Requirement already satisfied: numpy~=1.19.2 in /usr/local/lib/python3.7/dist-packages (from tensorflow) (1.19.5)\n",
            "Requirement already satisfied: h5py~=2.10.0 in /usr/local/lib/python3.7/dist-packages (from tensorflow) (2.10.0)\n",
            "Requirement already satisfied: typing-extensions~=3.7.4 in /usr/local/lib/python3.7/dist-packages (from tensorflow) (3.7.4.3)\n",
            "Requirement already satisfied: flatbuffers~=1.12.0 in /usr/local/lib/python3.7/dist-packages (from tensorflow) (1.12)\n",
            "Requirement already satisfied: google-pasta~=0.2 in /usr/local/lib/python3.7/dist-packages (from tensorflow) (0.2.0)\n",
            "Requirement already satisfied: absl-py~=0.10 in /usr/local/lib/python3.7/dist-packages (from tensorflow) (0.10.0)\n",
            "Requirement already satisfied: six~=1.15.0 in /usr/local/lib/python3.7/dist-packages (from tensorflow) (1.15.0)\n",
            "Requirement already satisfied: termcolor~=1.1.0 in /usr/local/lib/python3.7/dist-packages (from tensorflow) (1.1.0)\n",
            "Requirement already satisfied: tensorboard~=2.4 in /usr/local/lib/python3.7/dist-packages (from tensorflow) (2.4.1)\n",
            "Requirement already satisfied: tensorflow-estimator<2.5.0,>=2.4.0 in /usr/local/lib/python3.7/dist-packages (from tensorflow) (2.4.0)\n",
            "Requirement already satisfied: grpcio~=1.32.0 in /usr/local/lib/python3.7/dist-packages (from tensorflow) (1.32.0)\n",
            "Requirement already satisfied: protobuf>=3.9.2 in /usr/local/lib/python3.7/dist-packages (from tensorflow) (3.12.4)\n",
            "Requirement already satisfied: opt-einsum~=3.3.0 in /usr/local/lib/python3.7/dist-packages (from tensorflow) (3.3.0)\n",
            "Requirement already satisfied: wheel~=0.35 in /usr/local/lib/python3.7/dist-packages (from tensorflow) (0.36.2)\n",
            "Requirement already satisfied: wrapt~=1.12.1 in /usr/local/lib/python3.7/dist-packages (from tensorflow) (1.12.1)\n",
            "Requirement already satisfied: astunparse~=1.6.3 in /usr/local/lib/python3.7/dist-packages (from tensorflow) (1.6.3)\n",
            "Requirement already satisfied: keras-preprocessing~=1.1.2 in /usr/local/lib/python3.7/dist-packages (from tensorflow) (1.1.2)\n",
            "Requirement already satisfied: gast==0.3.3 in /usr/local/lib/python3.7/dist-packages (from tensorflow) (0.3.3)\n",
            "Requirement already satisfied: tensorboard-plugin-wit>=1.6.0 in /usr/local/lib/python3.7/dist-packages (from tensorboard~=2.4->tensorflow) (1.8.0)\n",
            "Requirement already satisfied: google-auth-oauthlib<0.5,>=0.4.1 in /usr/local/lib/python3.7/dist-packages (from tensorboard~=2.4->tensorflow) (0.4.3)\n",
            "Requirement already satisfied: werkzeug>=0.11.15 in /usr/local/lib/python3.7/dist-packages (from tensorboard~=2.4->tensorflow) (1.0.1)\n",
            "Requirement already satisfied: markdown>=2.6.8 in /usr/local/lib/python3.7/dist-packages (from tensorboard~=2.4->tensorflow) (3.3.4)\n",
            "Requirement already satisfied: google-auth<2,>=1.6.3 in /usr/local/lib/python3.7/dist-packages (from tensorboard~=2.4->tensorflow) (1.27.1)\n",
            "Requirement already satisfied: requests<3,>=2.21.0 in /usr/local/lib/python3.7/dist-packages (from tensorboard~=2.4->tensorflow) (2.23.0)\n",
            "Requirement already satisfied: setuptools>=41.0.0 in /usr/local/lib/python3.7/dist-packages (from tensorboard~=2.4->tensorflow) (54.0.0)\n",
            "Requirement already satisfied: requests-oauthlib>=0.7.0 in /usr/local/lib/python3.7/dist-packages (from google-auth-oauthlib<0.5,>=0.4.1->tensorboard~=2.4->tensorflow) (1.3.0)\n",
            "Requirement already satisfied: importlib-metadata; python_version < \"3.8\" in /usr/local/lib/python3.7/dist-packages (from markdown>=2.6.8->tensorboard~=2.4->tensorflow) (3.7.0)\n",
            "Requirement already satisfied: rsa<5,>=3.1.4; python_version >= \"3.6\" in /usr/local/lib/python3.7/dist-packages (from google-auth<2,>=1.6.3->tensorboard~=2.4->tensorflow) (4.7.2)\n",
            "Requirement already satisfied: cachetools<5.0,>=2.0.0 in /usr/local/lib/python3.7/dist-packages (from google-auth<2,>=1.6.3->tensorboard~=2.4->tensorflow) (4.2.1)\n",
            "Requirement already satisfied: pyasn1-modules>=0.2.1 in /usr/local/lib/python3.7/dist-packages (from google-auth<2,>=1.6.3->tensorboard~=2.4->tensorflow) (0.2.8)\n",
            "Requirement already satisfied: idna<3,>=2.5 in /usr/local/lib/python3.7/dist-packages (from requests<3,>=2.21.0->tensorboard~=2.4->tensorflow) (2.10)\n",
            "Requirement already satisfied: chardet<4,>=3.0.2 in /usr/local/lib/python3.7/dist-packages (from requests<3,>=2.21.0->tensorboard~=2.4->tensorflow) (3.0.4)\n",
            "Requirement already satisfied: certifi>=2017.4.17 in /usr/local/lib/python3.7/dist-packages (from requests<3,>=2.21.0->tensorboard~=2.4->tensorflow) (2020.12.5)\n",
            "Requirement already satisfied: urllib3!=1.25.0,!=1.25.1,<1.26,>=1.21.1 in /usr/local/lib/python3.7/dist-packages (from requests<3,>=2.21.0->tensorboard~=2.4->tensorflow) (1.24.3)\n",
            "Requirement already satisfied: oauthlib>=3.0.0 in /usr/local/lib/python3.7/dist-packages (from requests-oauthlib>=0.7.0->google-auth-oauthlib<0.5,>=0.4.1->tensorboard~=2.4->tensorflow) (3.1.0)\n",
            "Requirement already satisfied: zipp>=0.5 in /usr/local/lib/python3.7/dist-packages (from importlib-metadata; python_version < \"3.8\"->markdown>=2.6.8->tensorboard~=2.4->tensorflow) (3.4.1)\n",
            "Requirement already satisfied: pyasn1>=0.1.3 in /usr/local/lib/python3.7/dist-packages (from rsa<5,>=3.1.4; python_version >= \"3.6\"->google-auth<2,>=1.6.3->tensorboard~=2.4->tensorflow) (0.4.8)\n",
            "Requirement already satisfied: keras in /usr/local/lib/python3.7/dist-packages (2.4.3)\n",
            "Requirement already satisfied: pyyaml in /usr/local/lib/python3.7/dist-packages (from keras) (3.13)\n",
            "Requirement already satisfied: h5py in /usr/local/lib/python3.7/dist-packages (from keras) (2.10.0)\n",
            "Requirement already satisfied: scipy>=0.14 in /usr/local/lib/python3.7/dist-packages (from keras) (1.4.1)\n",
            "Requirement already satisfied: numpy>=1.9.1 in /usr/local/lib/python3.7/dist-packages (from keras) (1.19.5)\n",
            "Requirement already satisfied: six in /usr/local/lib/python3.7/dist-packages (from h5py->keras) (1.15.0)\n"
          ],
          "name": "stdout"
        }
      ]
    },
    {
      "cell_type": "markdown",
      "metadata": {
        "id": "IjPTg70-YXjM"
      },
      "source": [
        "# Question 1"
      ]
    },
    {
      "cell_type": "code",
      "metadata": {
        "id": "ESi2E1-zC6GV"
      },
      "source": [
        "def load_fashion_mnist(return_images=False):\n",
        "\n",
        "  (x_train, y_train), (x_test, y_test) = fashion_mnist.load_data()\n",
        "\n",
        "  train_shuffler = np.random.shuffle(np.arange(50000))\n",
        "  x_train, y_train = x_train[train_shuffler][0], y_train[train_shuffler][0]\n",
        "\n",
        "  test_shuffler = np.random.shuffle(np.arange(10000))\n",
        "  x_test, y_test = x_test[test_shuffler][0], y_test[test_shuffler][0]\n",
        "\n",
        "  x_train = np.array(x_train/255).astype('float32')\n",
        "  x_test = np.array(x_test/255).astype('float32')\n",
        "\n",
        "  x_train, x_val = x_train[:50000], x_train[50000:]\n",
        "  y_train, y_val = y_train[:50000], y_train[50000:]\n",
        "\n",
        "\n",
        "  if (return_images==False):\n",
        "    return {\n",
        "        'train': {\n",
        "            'X': x_train.reshape([50000, 784]),\n",
        "            'Y': y_train.reshape([50000])\n",
        "        },\n",
        "        'val': {\n",
        "            'X': x_val.reshape([10000, 784]),\n",
        "            'Y': y_val.reshape([10000])\n",
        "        },\n",
        "        'test': {\n",
        "            'X': x_test.reshape([10000, 784]),\n",
        "            'Y': y_test.reshape([10000])\n",
        "        }\n",
        "  }\n",
        "\n",
        "  else :\n",
        "    return {\n",
        "      'train': {\n",
        "          \t'X': x_train,\n",
        "          \t'Y': y_train\n",
        "      },\n",
        "      'val': {\n",
        "            'X': x_val,\n",
        "            'Y': y_val\n",
        "      },\n",
        "      'test': {\n",
        "            'X': x_test,\n",
        "            'Y': y_test\n",
        "      }\n",
        "    }\n",
        "\n",
        "\n",
        "data = load_fashion_mnist()"
      ],
      "execution_count": 2,
      "outputs": []
    },
    {
      "cell_type": "markdown",
      "metadata": {
        "id": "Yr-EXaU4oiZ_"
      },
      "source": [
        "# Question 2"
      ]
    },
    {
      "cell_type": "code",
      "metadata": {
        "id": "23nXB0VBojt0"
      },
      "source": [
        "class neural_network:\n",
        "\n",
        "  # constructor function - initializes weights\n",
        "  def __init__(self, dict_layers, initializer):\n",
        "\n",
        "    self.weights_list = []\n",
        "    self.biases_list = []\n",
        "    self.dict_layers= dict_layers\n",
        "\n",
        "    self.weights_list, self.biases_list = wandb_initializer(dict_layers, self.weights_list, self.biases_list, initializer)\n",
        "\n",
        "  # function to compute forward propogation\n",
        "  def forward_prop(self, W, b, X, Y, activation_func):\n",
        "\n",
        "    A = []\n",
        "    H = []\n",
        "    \n",
        "    H_pre = X\n",
        "    \n",
        "    L = self.dict_layers['num_hidden_layers']\n",
        "\n",
        "    for i in range(L) :\n",
        "      A.append(W[i] @ H_pre + b[i])\n",
        "      H_pre = getattr(activation, activation_func)(A[i])\n",
        "      H.append(H_pre)\n",
        "    \n",
        "    A.append(W[L] @ H_pre + b[L])\n",
        "    \n",
        "    Y_hat = activation.softmax(A[L])\n",
        "    \n",
        "    return {\n",
        "        'A' : A,\n",
        "        'H' : H,\n",
        "        'Y_hat' : Y_hat\n",
        "    }\n",
        "\n",
        "  # helper function to perform forward propogation \n",
        "  def self_forward_prop(self, X, Y, activation_func) :\n",
        "\n",
        "    temp = self.forward_prop(self.weights_list,self.biases_list, X, Y, activation_func)\n",
        "    return temp\n",
        "\n",
        "  # function to perform backward propogration\n",
        "  def back_prop(self, W, b, A, H, Y_hat, X, Y,activation_func):\n",
        "\n",
        "    batch_size = len(Y)\n",
        "    \n",
        "    del_w = []\n",
        "    del_b = []\n",
        "    L = self.dict_layers['num_hidden_layers']\n",
        "    \n",
        "    E = np.zeros(Y_hat.shape)\n",
        "    E[Y,np.arange(batch_size)] = 1\n",
        "    \n",
        "    grad_A = -(E - Y_hat)\n",
        "\n",
        "    for i in range(L,-1,-1) :\n",
        "\n",
        "      temp1 = grad_A.reshape(-1,batch_size)\n",
        "      \n",
        "      if i==0 :\n",
        "        temp2 = X.T\n",
        "      else :\n",
        "        temp2 = H[i-1].reshape((batch_size ,-1))\n",
        "\n",
        "      del_w.append(temp1 @ temp2)\n",
        "      del_b.append(grad_A)\n",
        "\n",
        "      if(i!=0) :\n",
        "        grad_H = W[i].T @ grad_A      \n",
        "        grad_A = grad_H * getattr(activation,activation_func+'_der')(H[i-1])\n",
        "\n",
        "    for j in range(len(del_b)) :\n",
        "       del_b[j] = np.sum(del_b[j],axis=1)\n",
        "\n",
        "    return {\n",
        "        'dw' : del_w,\n",
        "        'db' : del_b\n",
        "    }\n",
        "\n",
        "  # helper function to perform backward propogation\n",
        "  def self_back_prop(self, A, H, Y_hat, X, Y,activation_func) :\n",
        "    temp = self.back_prop(self.weights_list,self.biases_list, A, H, Y_hat, X, Y, activation_func)\n",
        "    return temp\n",
        "\n",
        "  #  function to compute gradient\n",
        "  def grad_wandb(self, W, b, X, Y,activation_func):\n",
        "\n",
        "    X = X.T.reshape((784,-1))\n",
        "    \n",
        "    temp = self.forward_prop(W, b, X, Y, activation_func)\n",
        "    temp2 = self.back_prop(W, b, temp['A'], temp['H'], temp['Y_hat'], X, Y, activation_func)\n",
        "\n",
        "    return {\n",
        "        'dw' : temp2['dw'],\n",
        "        'db' : temp2['db']\n",
        "    }\n",
        "\n",
        "  # helper function to compute gradient\n",
        "  def self_grad_wandb(self, X, Y, activation_func) :\n",
        "    temp = self.grad_wandb(self.weights_list, self.biases_list, X, Y,activation_func)\n",
        "    return temp\n",
        "\n",
        "  # function to compute predictions\n",
        "  def predict(self, X, activation_func):\n",
        "    X = X.T.reshape((784,-1))\n",
        "    temp = self.forward_prop(self.weights_list,self.biases_list, X, 0, activation_func)\n",
        "    return {\n",
        "      'Y' : np.argmax(temp['Y_hat'],axis=0),\n",
        "      'Y_hat' : temp['Y_hat']\n",
        "    }\n",
        "\n",
        "  # function to update weights and biases\n",
        "  def update_vals(self, dw, db, wd) :\n",
        "    L = len(self.weights_list)\n",
        "    for i in range(L) :\n",
        "      # print('dw['+str(L-i-1)+']',dw[L-i-1])\n",
        "      self.weights_list[i] =self.weights_list[i] - dw[L-i-1].reshape(self.weights_list[i].shape) - wd * self.weights_list[i]\n",
        "\n",
        "    for i in range(len(self.biases_list)) :\n",
        "      # print('db['+str(L-i-1)+']',db[L-i-1])\n",
        "      self.biases_list[i] =self.biases_list[i] - db[L-i-1].reshape(self.biases_list[i].shape)  \n",
        "##################################################################################\n",
        "class activation:\n",
        "  \n",
        "  @staticmethod\n",
        "  def sigmoid(z):\n",
        "    return 1 / (1 + np.exp(-z))\n",
        "  \n",
        "  @staticmethod\n",
        "  def relu(z):\n",
        "    return (z>0) * z\n",
        "\n",
        "  @staticmethod\n",
        "  def tanh(z):\n",
        "    return np.tanh(z)\n",
        "\n",
        "  @staticmethod\n",
        "  def sigmoid_der(z) :\n",
        "    return z * (1-z)\n",
        "  \n",
        "  @staticmethod\n",
        "  def relu_der(z) :\n",
        "    return (z>0)\n",
        "\n",
        "  @staticmethod\n",
        "  def tanh_der(z):\n",
        "    return 1 - z*z\n",
        "\n",
        "  @staticmethod\n",
        "  def softmax(x):\n",
        "    e_x = np.exp(x - np.max(x))\n",
        "    return e_x / np.sum(e_x,axis=0)\n",
        "    #return np.array(tf.nn.softmax(np.array(x)))\n",
        "##################################################################################\n",
        "def set_nn_shape(verbose=True, num_hidden_layers=-1, hidden_layer_size=-1):\n",
        "\n",
        "  input_layer_size = 784\n",
        "  hidden_layer_size = hidden_layer_size\n",
        "  num_hidden_layers = num_hidden_layers\n",
        "  output_layer_size = 10\n",
        "  \n",
        "  # input_layer_size = 3\n",
        "  # hidden_layer_size = hidden_layer_size\n",
        "  # num_hidden_layers = num_hidden_layers\n",
        "  # output_layer_size = 2\n",
        "  if (verbose):\n",
        "    print(\"\\nNumber Of Hidden Layers:\")\n",
        "    num_hidden_layers = int(input())\n",
        "\n",
        "    print(\"\\nSize Of Each Hidden Layer:\")\n",
        "    hidden_layer_size = int(input())\n",
        "\n",
        "    print(f\"\\nThe Neural Network Has {num_hidden_layers+2} Layers In Total!\")\n",
        "  \n",
        "  return {\"input_layer_size\": input_layer_size, \"hidden_layer_size\": hidden_layer_size, \"output_layer_size\": output_layer_size, \"num_hidden_layers\": num_hidden_layers}\n"
      ],
      "execution_count": 3,
      "outputs": []
    },
    {
      "cell_type": "code",
      "metadata": {
        "id": "JIFMpZQNItG3"
      },
      "source": [
        "def wandb_initializer(nn_shape, weights_list, biases_list, type='random', mu = 0, sigma = 1):\n",
        "  \n",
        "  # random initialization\n",
        "  if (type=='random'):\n",
        "    print('Random')\n",
        "    initializer = tf.keras.initializers.TruncatedNormal(mean=mu, stddev=sigma)\n",
        "  # xavier initialization\n",
        "  elif (type=='xavier'):\n",
        "    print('Xavier')\n",
        "    initializer = tf.keras.initializers.GlorotNormal()\n",
        "\n",
        "  weights_list.append(initializer(shape=(nn_shape['hidden_layer_size'], nn_shape['input_layer_size'])).numpy())\n",
        "  biases_list.append(initializer(shape=(nn_shape['hidden_layer_size'], 1)).numpy())\n",
        "  for i in range(nn_shape['num_hidden_layers'] - 1):\n",
        "    weights_list.append(initializer(shape=(nn_shape['hidden_layer_size'], nn_shape['hidden_layer_size'])).numpy())\n",
        "    biases_list.append(initializer(shape=(nn_shape['hidden_layer_size'], 1)).numpy())\n",
        "\n",
        "  weights_list.append(initializer(shape=(nn_shape['output_layer_size'], nn_shape['hidden_layer_size'])).numpy())\n",
        "  biases_list.append(initializer(shape=(nn_shape['output_layer_size'], 1)).numpy())\n",
        "\n",
        "  return weights_list, biases_list"
      ],
      "execution_count": 4,
      "outputs": []
    },
    {
      "cell_type": "code",
      "metadata": {
        "id": "AVpF16BtXqB_"
      },
      "source": [
        "class optimizer:\n",
        "\n",
        "  @staticmethod\n",
        "  def sgd(network, data, config):\n",
        "\n",
        "    # num_hidden_layers, hidden_layers_size = config['num_hidden_layers'], config['hidden_layer_size']\n",
        "    num_epochs, batch_size = config['num_epochs'], config['batch_size']\n",
        "    eta, lambda_ = config['lr'], config['weight_decay']\n",
        "    initializer, activation_func = config['weights_initializer'], config['activation']\n",
        " \n",
        "    ### google the getattr function - eg: getattr(activation, 'relu')(junk) is same as activation.relu(junk)\n",
        "    X_train, Y_train = data['train']['X'], data['train']['Y']\n",
        "    num_examples = len(X_train)\n",
        "\n",
        "    for i in range(num_epochs):\n",
        "      for k in tqdm(range(0, len(X_train), batch_size)) :\n",
        "        X = X_train[k: k+batch_size]\n",
        "        Y = Y_train[k: k+batch_size]\n",
        "        temp = network.self_grad_wandb(X, Y, activation_func)         \n",
        "        dw = temp['dw']\n",
        "        db = temp['db']\n",
        "        for dd in dw :\n",
        "          dd*= eta\n",
        "        for dd in db :\n",
        "          dd*=eta\n",
        "\n",
        "        network.update_vals(dw, db, lambda_)\n",
        "    \n",
        "      report = run_callback(network, data, config) \n",
        "        \n",
        "      wandb.log({\n",
        "            'batch_size': config.batch_size, \n",
        "            'val_loss' : report['loss']['val'], \n",
        "            'train_loss': report['loss']['train'],\n",
        "            'train_acc': report['accuracy']['train'],\n",
        "            'val_acc': report['accuracy']['val']  \n",
        "      }) \n",
        "\n",
        "\n",
        "  @staticmethod\n",
        "  def momentum(network, data, config,gamma = 0.9) :\n",
        "    num_epochs, batch_size = config['num_epochs'], config['batch_size']\n",
        "    eta, lambda_ = config['lr'], config['weight_decay']\n",
        "    initializer, activation_func = config['weights_initializer'], config['activation']\n",
        "    \n",
        "    ### google the getattr function - eg: getattr(activation, 'relu')(junk) is same as activation.relu(junk)\n",
        "    X_train, Y_train = data['train']['X'], data['train']['Y']\n",
        "    num_examples = len(X_train)\n",
        "\n",
        "    nn_shape = set_nn_shape(False, config['num_hidden_layers'], config['hidden_layer_size'])\n",
        "    dw, db = wandb_initializer(nn_shape, [], [], 'random', 0, 0)\n",
        "\n",
        "    dw.reverse()\n",
        "    db.reverse()\n",
        "\n",
        "    for j in range(len(db)) :\n",
        "      db[j] = db[j].flatten()\n",
        "\n",
        "    for i in range(num_epochs) :\n",
        "      for k in tqdm(range(0, len(X_train), batch_size)) :\n",
        "        X = X_train[k:k+batch_size]\n",
        "        Y = Y_train[k:k+batch_size]\n",
        "        temp = network.self_grad_wandb(X,Y,activation_func)       \n",
        "        for j in range(len(dw)) :\n",
        "          dw[j] += eta*temp['dw'][j]\n",
        "          db[j] += eta*temp['db'][j]\n",
        "\n",
        "        network.update_vals(dw,db, lambda_)\n",
        "        for dd in db :\n",
        "          dd*=gamma\n",
        "        for dd in dw :\n",
        "          dd*=gamma\n",
        "\n",
        "      report = run_callback(network, data, config) \n",
        "        \n",
        "      wandb.log({\n",
        "            'batch_size': config.batch_size, \n",
        "            'val_loss' : report['loss']['val'], \n",
        "            'train_loss': report['loss']['train'],\n",
        "            'train_acc': report['accuracy']['train'],\n",
        "            'val_acc': report['accuracy']['val']  \n",
        "      }) \n",
        "        \n",
        "  @staticmethod\n",
        "  def NAG(network, data, config,gamma = 0.9) :\n",
        "    num_epochs, batch_size = config['num_epochs'], config['batch_size']\n",
        "    eta, lambda_ = config['lr'], config['weight_decay']\n",
        "    initializer, activation_func = config['weights_initializer'], config['activation']\n",
        "    ### google the getattr function - eg: getattr(activation, 'relu')(junk) is same as activation.relu(junk)\n",
        "    X_train, Y_train = data['train']['X'], data['train']['Y']\n",
        "    \n",
        "    nn_shape = set_nn_shape(False, config['num_hidden_layers'], config['hidden_layer_size'])\n",
        "    v_dw, v_db = wandb_initializer(nn_shape, [], [], 'random', 0, 0)\n",
        "\n",
        "    v_dw.reverse()\n",
        "    v_db.reverse()\n",
        "\n",
        "    for j in range(len(v_db)) :\n",
        "      v_db[j] = v_db[j].flatten()\n",
        "\n",
        "    for i in range(num_epochs) :\n",
        "      for k in tqdm(range(0, len(X_train), batch_size)) :\n",
        "        for j in range(len(v_dw)) :\n",
        "          v_dw[j] = gamma*v_dw[j]\n",
        "          v_db[j] = gamma*v_db[j]\n",
        "\n",
        "        X = X_train[k:k+batch_size]\n",
        "        Y = Y_train[k:k+batch_size]\n",
        "        \n",
        "        W = network.weights_list.copy()\n",
        "        B = network.biases_list.copy()\n",
        "\n",
        "        L = len(W)\n",
        "        for j in range(L) :\n",
        "          W[j] -= v_dw[L-j-1]\n",
        "          B[j] -= v_db[L-j-1].reshape(B[j].shape)\n",
        "\n",
        "        temp = network.grad_wandb(W,B,X,Y,activation_func)  \n",
        "\n",
        "        for j in range(len(v_dw)) :\n",
        "          v_dw[j] += eta*temp['dw'][j]\n",
        "          v_db[j] += eta*temp['db'][j]\n",
        "\n",
        "\n",
        "        network.update_vals(v_dw,v_db,lambda_)\n",
        "\n",
        "      report = run_callback(network, data, config) \n",
        "        \n",
        "      wandb.log({\n",
        "            'batch_size': config.batch_size, \n",
        "            'val_loss' : report['loss']['val'], \n",
        "            'train_loss': report['loss']['train'],\n",
        "            'train_acc': report['accuracy']['train'],\n",
        "            'val_acc': report['accuracy']['val']  \n",
        "      }) \n",
        "\n",
        "\n",
        "  @staticmethod\n",
        "  def RMSprop(network, data, config,beta = 0.9,epsilon = 1e-4) :\n",
        "    \n",
        "    num_epochs, batch_size = config['num_epochs'], config['batch_size']\n",
        "    eta, lambda_ = config['lr'], config['weight_decay']\n",
        "    initializer, activation_func = config['weights_initializer'], config['activation']\n",
        "    \n",
        "    ### google the getattr function - eg: getattr(activation, 'relu')(junk) is same as activation.relu(junk)\n",
        "    X_train, Y_train = data['train']['X'], data['train']['Y']\n",
        "    num_examples = len(X_train)\n",
        "\n",
        "    nn_shape = set_nn_shape(False, config['num_hidden_layers'], config['hidden_layer_size'])\n",
        "    v_dw, v_db = wandb_initializer(nn_shape, [], [], 'random', 0, 0)\n",
        "\n",
        "    v_dw.reverse()\n",
        "    v_db.reverse()\n",
        "\n",
        "    for j in range(len(v_db)) :\n",
        "      v_db[j] = v_db[j].flatten()\n",
        "\n",
        "    for i in range(num_epochs) :\n",
        "      dw = []\n",
        "      db = []\n",
        "      for k in tqdm(range(0, len(X_train), batch_size)) :\n",
        "        X = X_train[k:k+batch_size]\n",
        "        Y = Y_train[k:k+batch_size]\n",
        "        temp = network.self_grad_wandb(X,Y,activation_func)  \n",
        "\n",
        "        dw = temp['dw']\n",
        "        db = temp['db']\n",
        "\n",
        "        for j in range(len(dw)) :\n",
        "          v_dw[j] *= beta\n",
        "          v_dw[j] += (1-beta)*(dw[j]**2) \n",
        "          dw[j] *= eta/np.sqrt(v_dw[j]+epsilon)\n",
        "          v_db[j] *= beta\n",
        "          v_db[j] += (1-beta)*(db[j]**2) \n",
        "          db[j] *= eta/np.sqrt(v_db[j]+epsilon)\n",
        "\n",
        "        network.update_vals(dw,db, lambda_)\n",
        "\n",
        "      report = run_callback(network, data, config) \n",
        "        \n",
        "      wandb.log({\n",
        "            'batch_size': config.batch_size, \n",
        "            'val_loss' : report['loss']['val'], \n",
        "            'train_loss': report['loss']['train'],\n",
        "            'train_acc': report['accuracy']['train'],\n",
        "            'val_acc': report['accuracy']['val']  \n",
        "      }) \n",
        "\n",
        "\n",
        "  @staticmethod\n",
        "  def adam(network, data, config, beta1=0.9, beta2=0.999, epsilon=1e-4):\n",
        "\n",
        "    # num_hidden_layers, hidden_layers_size = config['num_hidden_layers'], config['hidden_layer_size']\n",
        "    num_epochs, batch_size = config['num_epochs'], config['batch_size']\n",
        "    eta, lambda_ = config['lr'], config['weight_decay']\n",
        "    initializer, activation_func = config['weights_initializer'], config['activation']\n",
        " \n",
        "    ### google the getattr function - eg: getattr(activation, 'relu')(junk) is same as activation.relu(junk)\n",
        "    X_train, Y_train = data['train']['X'], data['train']['Y']\n",
        "    num_examples = len(X_train)\n",
        "    nn_shape = set_nn_shape(False, config['num_hidden_layers'], config['hidden_layer_size'])\n",
        "\n",
        "    m_w, m_b = wandb_initializer(nn_shape, [], [], 'random', 0, 0)\n",
        "    v_w, v_b = wandb_initializer(nn_shape, [], [], 'random', 0, 0)\n",
        "\n",
        "    m_w.reverse()\n",
        "    m_b.reverse()\n",
        "    v_w.reverse()\n",
        "    v_b.reverse()\n",
        "    for j in range(len(m_b)):\n",
        "      m_b[j], v_b[j] = m_b[j].flatten(), v_b[j].flatten() \n",
        "    # print('Checkpoint 1')\n",
        "    t = 0\n",
        "    for i in range(num_epochs):\n",
        "      for k in tqdm(range(0, len(X_train), batch_size)) :\n",
        "        \n",
        "        t += 1\n",
        "        \n",
        "        X = X_train[k: k+batch_size]\n",
        "        Y = Y_train[k: k+batch_size]\n",
        "        \n",
        "        temp = network.self_grad_wandb(X, Y, activation_func)\n",
        "        # print('Checkpoint 2')  \n",
        "        dw = temp['dw']\n",
        "        db = temp['db']\n",
        "        \n",
        "        for j in range(len(dw)):\n",
        "          # print(db[j].shape, m_b[j].shape, v_b[j].shape)\n",
        "          m_w[j] = beta1 * m_w[j] + (1 - beta1) * dw[j]\n",
        "          # print('Checkpoint 2.5')\n",
        "          \n",
        "          m_b[j] = beta1 * m_b[j] + (1 - beta1) * db[j]\n",
        "          # print('Checkpoint 3')\n",
        "          v_w[j] = beta2 * v_w[j] + (1 - beta2) * dw[j] * dw[j]\n",
        "          v_b[j] = beta2 * v_b[j] + (1 - beta2) * db[j] * db[j]\n",
        "          # print('Checkpoint 4')\n",
        "                 \n",
        "          m_w[j] = m_w[j] *((1-beta1**int(t))/ (1-beta1**int(t+1)))\n",
        "          m_b[j] = m_b[j] *((1-beta1**int(t))/ (1-beta1**int(t+1)))\n",
        "          # # print('Checkpoint 5')\n",
        "          v_w[j] = v_w[j]*((1-beta2**int(t))/ (1-beta2**int(t+1)))\n",
        "          v_b[j] = v_b[j]*((1-beta2**int(t))/ (1-beta2**int(t+1)))\n",
        "          # print('Checkpoint 6')\n",
        "          \n",
        "          dw[j] = eta * m_w[j] / (epsilon + np.sqrt( v_w[j]))\n",
        "          db[j] = eta * m_b[j] / ( epsilon + np.sqrt(v_b[j]))\n",
        "\n",
        "          # print('Checkpoint 7')\n",
        "        \n",
        "        network.update_vals(dw, db, lambda_)\n",
        "        \n",
        "      report = run_callback(network, data, config) \n",
        "        \n",
        "      wandb.log({\n",
        "            'batch_size': config.batch_size, \n",
        "            'val_loss' : report['loss']['val'], \n",
        "            'train_loss': report['loss']['train'],\n",
        "            'train_acc': report['accuracy']['train'],\n",
        "            'val_acc': report['accuracy']['val']  \n",
        "      })\n",
        "\n",
        "    \n",
        "  @staticmethod\n",
        "  def nadam(network, data, config, beta1=0.9, beta2=0.999, epsilon=1e-4):\n",
        "\n",
        "    # num_hidden_layers, hidden_layers_size = config['num_hidden_layers'], config['hidden_layer_size']\n",
        "    num_epochs, batch_size = config['num_epochs'], config['batch_size']\n",
        "    eta, lambda_ = config['lr'], config['weight_decay']\n",
        "    initializer, activation_func = config['weights_initializer'], config['activation']\n",
        " \n",
        "    ### google the getattr function - eg: getattr(activation, 'relu')(junk) is same as activation.relu(junk)\n",
        "    X_train, Y_train = data['train']['X'], data['train']['Y']\n",
        "    num_examples = len(X_train)\n",
        "    # print(num_hidden_layers, hidden_layers_size)\n",
        "    nn_shape = set_nn_shape(False, config['num_hidden_layers'], config['hidden_layer_size'])\n",
        "\n",
        "    m_w, m_b = wandb_initializer(nn_shape, [], [], 'random', 0, 0)\n",
        "    v_w, v_b = wandb_initializer(nn_shape, [], [], 'random', 0, 0)\n",
        "\n",
        "    m_w.reverse()\n",
        "    m_b.reverse()\n",
        "    v_w.reverse()\n",
        "    v_b.reverse()\n",
        "    for j in range(len(m_b)):\n",
        "      m_b[j], v_b[j] = m_b[j].flatten(), v_b[j].flatten() \n",
        "    # print('Checkpoint 1')\n",
        "    t = 0\n",
        "    for i in range(num_epochs):\n",
        "      for k in tqdm(range(0, len(X_train), batch_size)) :\n",
        "        \n",
        "        t += 1\n",
        "        \n",
        "        X = X_train[k: k+batch_size]\n",
        "        Y = Y_train[k: k+batch_size]\n",
        "        \n",
        "        temp = network.self_grad_wandb(X, Y, activation_func)\n",
        "        # print('Checkpoint 2')  \n",
        "        dw = temp['dw']\n",
        "        db = temp['db']\n",
        "        \n",
        "        for j in range(len(dw)):\n",
        "          # print(db[j].shape, m_b[j].shape, v_b[j].shape)\n",
        "          m_w[j] = beta1 * m_w[j] + (1 - beta1) * dw[j]\n",
        "          # print('Checkpoint 2.5')\n",
        "          \n",
        "          m_b[j] = beta1 * m_b[j] + (1 - beta1) * db[j]\n",
        "          # print('Checkpoint 3')\n",
        "          v_w[j] = beta2 * v_w[j] + (1 - beta2) * dw[j] * dw[j]\n",
        "          v_b[j] = beta2 * v_b[j] + (1 - beta2) * db[j] * db[j]\n",
        "          # print('Checkpoint 4')\n",
        "                 \n",
        "          m_w[j] = m_w[j] *((1-beta1**int(t))/ (1-beta1**int(t+1)))\n",
        "          m_b[j] = m_b[j] *((1-beta1**int(t))/ (1-beta1**int(t+1)))\n",
        "          # # print('Checkpoint 5')\n",
        "          v_w[j] = v_w[j]*((1-beta2**int(t))/ (1-beta2**int(t+1)))\n",
        "          v_b[j] = v_b[j]*((1-beta2**int(t))/ (1-beta2**int(t+1)))\n",
        "          # print('Checkpoint 6')\n",
        "          \n",
        "          dw[j] = eta * (beta1*m_w[j] + (1 - beta1)*dw[j]) / (epsilon + np.sqrt( v_w[j]))\n",
        "          db[j] = eta * (beta1*m_b[j] + (1 - beta1)*db[j]) / ( epsilon + np.sqrt(v_b[j]))\n",
        "\n",
        "          # print('Checkpoint 7')\n",
        "        \n",
        "        network.update_vals(dw, db, lambda_)\n",
        "        \n",
        "      report = run_callback(network, data, config) \n",
        "        \n",
        "      wandb.log({\n",
        "            'batch_size': config.batch_size, \n",
        "            'val_loss' : report['loss']['val'], \n",
        "            'train_loss': report['loss']['train'],\n",
        "            'train_acc': report['accuracy']['train'],\n",
        "            'val_acc': report['accuracy']['val']  \n",
        "      })"
      ],
      "execution_count": 5,
      "outputs": []
    },
    {
      "cell_type": "code",
      "metadata": {
        "id": "zKDlM0FUKutJ"
      },
      "source": [
        "def run_callback(network,data,config) :\n",
        "    \n",
        "    activation_func = config['activation']\n",
        "    \n",
        "    X_train = data['train']['X']\n",
        "    Y_train = data['train']['Y']\n",
        "\n",
        "    X_val = data['val']['X']\n",
        "    Y_val = data['val']['Y']\n",
        "\n",
        "    train_loss = 0\n",
        "    train_count = 0\n",
        "    train_sq_error = 0\n",
        "    \n",
        "    temp = network.predict(X_train,activation_func)\n",
        "    train_count = np.sum(temp['Y'].reshape(Y_train.shape)==Y_train)\n",
        "    \n",
        "    Y_pred = np.array(temp['Y_hat'].T)\n",
        "    train_loss = np.sum(-np.log(Y_pred[np.arange(len(X_train)),Y_train]))\n",
        "    E = np.zeros(Y_pred.shape)\n",
        "    E[np.arange(len(X_train)),Y_train] = 1\n",
        "    train_sq_error = np.sum((E-Y_pred)**2)\n",
        "\n",
        "    val_loss = 0\n",
        "    val_count = 0\n",
        "    val_sq_error = 0\n",
        "    \n",
        "    temp = network.predict(X_val, activation_func)\n",
        "    val_count = np.sum(temp['Y'].reshape(Y_val.shape)==Y_val)\n",
        "    \n",
        "    Y_pred = np.array(temp['Y_hat'].T)\n",
        "    val_loss = np.sum(-np.log(Y_pred[np.arange(len(X_val)),Y_val]))\n",
        "    E = np.zeros(Y_pred.shape)\n",
        "    E[np.arange(len(X_val)),Y_val] = 1\n",
        "    val_sq_error = np.sum((E-Y_pred)**2)\n",
        "    \n",
        "    return  {\n",
        "        'loss': {\n",
        "            'train' : train_loss / len(X_train),\n",
        "            'val' : val_loss / len(X_val)\n",
        "        },\n",
        "        'accuracy': {\n",
        "            'train': train_count / len(X_train),\n",
        "            'val': val_count / len(X_val)\n",
        "        }\n",
        "    }\n",
        "\n",
        "    \n"
      ],
      "execution_count": 7,
      "outputs": []
    },
    {
      "cell_type": "code",
      "metadata": {
        "colab": {
          "base_uri": "https://localhost:8080/",
          "height": 86
        },
        "id": "Ypd2xySp_dYj",
        "outputId": "bf4e76b3-bf8a-4d32-8473-142f7a9bf12e"
      },
      "source": [
        "'''\n",
        "nn = set_nn_shape()\n",
        "network = neural_network(nn, 'random')\n",
        "#data1 = {'train' : {'X': np.array([[1,1,2],[-1,2,3],[10,-67,43],[-5,45,-67],[5,6,7]]), 'Y' : np.array([1,0,1,0,1]) },'val' : {'X': np.array([[1,1,1],[1,1,1],[1,1,1],[1,1,1],[1,1,1]]), 'Y' : np.array([0,1,3,2,1]) }}\n",
        "# need to change this bit later to accomodate other optimization functions\n",
        "\n",
        "config1 = {'num_epochs' : 5,'lr' : 1e-2,'optimizer': 'sgd', 'batch_size' : 32 , 'weights_initializer' : 'random' , 'weight_decay' : 0.001, 'activation' : 'sigmoid' }\n",
        "optimizer.sgd(network, data,config1 )\n",
        "\n",
        "# generating reports for the run\n",
        "report = run_callback(network, data, config1) \n",
        "\n",
        "print(report)\n",
        "'''"
      ],
      "execution_count": 8,
      "outputs": [
        {
          "output_type": "execute_result",
          "data": {
            "application/vnd.google.colaboratory.intrinsic+json": {
              "type": "string"
            },
            "text/plain": [
              "\"\\nnn = set_nn_shape()\\nnetwork = neural_network(nn, 'random')\\n#data1 = {'train' : {'X': np.array([[1,1,2],[-1,2,3],[10,-67,43],[-5,45,-67],[5,6,7]]), 'Y' : np.array([1,0,1,0,1]) },'val' : {'X': np.array([[1,1,1],[1,1,1],[1,1,1],[1,1,1],[1,1,1]]), 'Y' : np.array([0,1,3,2,1]) }}\\n# need to change this bit later to accomodate other optimization functions\\n\\nconfig1 = {'num_epochs' : 5,'lr' : 1e-2,'optimizer': 'sgd', 'batch_size' : 32 , 'weights_initializer' : 'random' , 'weight_decay' : 0.001, 'activation' : 'sigmoid' }\\noptimizer.sgd(network, data,config1 )\\n\\n# generating reports for the run\\nreport = run_callback(network, data, config1) \\n\\nprint(report)\\n\""
            ]
          },
          "metadata": {
            "tags": []
          },
          "execution_count": 8
        }
      ]
    },
    {
      "cell_type": "code",
      "metadata": {
        "colab": {
          "base_uri": "https://localhost:8080/",
          "height": 35
        },
        "id": "PBdDNBajeN6S",
        "outputId": "13e16b51-5242-48da-94be-291ca1909718"
      },
      "source": [
        "'''\n",
        "# generating reports for the run\n",
        "report = run_callback(network, data, config1) \n",
        "print(report)\n",
        "'''"
      ],
      "execution_count": 9,
      "outputs": [
        {
          "output_type": "execute_result",
          "data": {
            "application/vnd.google.colaboratory.intrinsic+json": {
              "type": "string"
            },
            "text/plain": [
              "'\\n# generating reports for the run\\nreport = run_callback(network, data, config1) \\nprint(report)\\n'"
            ]
          },
          "metadata": {
            "tags": []
          },
          "execution_count": 9
        }
      ]
    },
    {
      "cell_type": "code",
      "metadata": {
        "colab": {
          "base_uri": "https://localhost:8080/"
        },
        "id": "P5bkB6Q6JS3R",
        "outputId": "95497ca5-e5f7-4229-fb6d-62a8de39fc8e"
      },
      "source": [
        "activation.softmax(np.array([[0.7,0.5],[3,7]]))"
      ],
      "execution_count": 10,
      "outputs": [
        {
          "output_type": "execute_result",
          "data": {
            "text/plain": [
              "array([[0.09112296, 0.00150118],\n",
              "       [0.90887704, 0.99849882]])"
            ]
          },
          "metadata": {
            "tags": []
          },
          "execution_count": 10
        }
      ]
    },
    {
      "cell_type": "code",
      "metadata": {
        "id": "K9IjksI6O6wE"
      },
      "source": [
        "sweep_config = {\n",
        "    'method': 'random',\n",
        "\n",
        "    'parameters': {\n",
        "        'num_epochs': {\n",
        "            'values': [5, 10]\n",
        "        },\n",
        "        'num_hidden_layers': {\n",
        "            'values': [3, 4, 5]\n",
        "        },\n",
        "        'hidden_layer_size': {\n",
        "            'values': [32, 64, 128]\n",
        "        },\n",
        "        'weight_decay': {\n",
        "            'values': [0, 0.0005, 0.05]\n",
        "        },\n",
        "        'lr': {\n",
        "            'values': [1e-3, 1e-4]\n",
        "        },\n",
        "        'optimizer': {\n",
        "            'values': ['sgd', 'momentum', 'NAG', 'RMSprop', 'adam', 'nadam']\n",
        "        },\n",
        "        'batch_size': {\n",
        "            'values': [16, 32, 64]\n",
        "        },\n",
        "        'weights_initializer': {\n",
        "            'values': ['random', 'xavier']\n",
        "        },\n",
        "        'activation': {\n",
        "            'values': ['sigmoid', 'tanh', 'relu']\n",
        "        }        \n",
        "    }\n",
        "}"
      ],
      "execution_count": 11,
      "outputs": []
    },
    {
      "cell_type": "code",
      "metadata": {
        "colab": {
          "base_uri": "https://localhost:8080/"
        },
        "id": "s7l-y_6YO6wE",
        "outputId": "7c9c7919-129b-46df-d160-38effc1937d1"
      },
      "source": [
        "sweep_id = wandb.sweep(sweep_config, project='test5')"
      ],
      "execution_count": 50,
      "outputs": [
        {
          "output_type": "stream",
          "text": [
            "Create sweep with ID: ip0f2ewc\n",
            "Sweep URL: https://wandb.ai/ramkamal/test5/sweeps/ip0f2ewc\n"
          ],
          "name": "stdout"
        }
      ]
    },
    {
      "cell_type": "code",
      "metadata": {
        "id": "Agtl8qZKuMtZ"
      },
      "source": [
        "# sweep_id = '8f6t9uc6'"
      ],
      "execution_count": 51,
      "outputs": []
    },
    {
      "cell_type": "code",
      "metadata": {
        "colab": {
          "base_uri": "https://localhost:8080/"
        },
        "id": "Fhn-A6mcO6wF",
        "outputId": "10c829c9-ef4d-483c-8b92-a6b6489a6175"
      },
      "source": [
        "pprint.pprint(sweep_config)"
      ],
      "execution_count": 52,
      "outputs": [
        {
          "output_type": "stream",
          "text": [
            "{'method': 'random',\n",
            " 'parameters': {'activation': {'values': ['relu']},\n",
            "                'batch_size': {'values': [32]},\n",
            "                'hidden_layer_size': {'values': [64]},\n",
            "                'lr': {'values': [0.001]},\n",
            "                'num_epochs': {'values': [10]},\n",
            "                'num_hidden_layers': {'values': [3]},\n",
            "                'optimizer': {'values': ['sgd']},\n",
            "                'weight_decay': {'values': [0.0005]},\n",
            "                'weights_initializer': {'values': ['xavier']}}}\n"
          ],
          "name": "stdout"
        }
      ]
    },
    {
      "cell_type": "code",
      "metadata": {
        "id": "Qml5BFsMO6wF"
      },
      "source": [
        "class sweep_module:\n",
        "  @staticmethod\n",
        "  def train(config=None):\n",
        "\n",
        "    with wandb.init(config):\n",
        "      # print('Checkpoint 1')\n",
        "      config = wandb.config\n",
        "      # print('Checkpoint 2')\n",
        "      \n",
        "      nn_shape = set_nn_shape(False, config['num_hidden_layers'] , config['hidden_layer_size'])\n",
        "      \n",
        "      # print('Checkpoint 3')\n",
        "      \n",
        "      # print(nn_shape)\n",
        "      network = neural_network(nn_shape, config['weights_initializer'])\n",
        "      # print('Checkpoint 4')\n",
        "      \n",
        "      # need to change this bit later to accomodate other optimization functions\n",
        "      optimizer.nadam(network, data, config)"
      ],
      "execution_count": 53,
      "outputs": []
    },
    {
      "cell_type": "code",
      "metadata": {
        "colab": {
          "base_uri": "https://localhost:8080/",
          "height": 35
        },
        "id": "8sPRi_YktYY6",
        "outputId": "e4f01519-0f24-4339-8bb8-99ff056c5f36"
      },
      "source": [
        "sweep_id"
      ],
      "execution_count": 54,
      "outputs": [
        {
          "output_type": "execute_result",
          "data": {
            "application/vnd.google.colaboratory.intrinsic+json": {
              "type": "string"
            },
            "text/plain": [
              "'ip0f2ewc'"
            ]
          },
          "metadata": {
            "tags": []
          },
          "execution_count": 54
        }
      ]
    },
    {
      "cell_type": "code",
      "metadata": {
        "colab": {
          "base_uri": "https://localhost:8080/",
          "height": 1000,
          "referenced_widgets": [
            "a7caf3a9ba7a40b6a4a13bb32c63c93f",
            "5c54510107c042148e6d05a649a52d8d",
            "f4356eb5428b4fd993e3f419ef515427",
            "4bbe8a71a10d429b8040b7103909b85c",
            "3adae30dd5a9495cb71dad54690ae5a1",
            "2ea5983b279c450396faf4c4f4c8605a",
            "408508fa3cb84282bf33d7abb936c580",
            "cb903d7c9b804231ae3ead11efb9aedc",
            "c3b6ca76752649368376873db24a2604",
            "b352415c28c74e7483a87d397ed69cc0",
            "1c5d40524f304a7688b7f224e97ece6e",
            "496c872f158b4f46ae1a4c3733a654b3",
            "ddacff65debf4c039c5eb1372735bd79",
            "4a3993bb75014ca9b336fd22d9796e38",
            "faf5358d633a404bbc40934c25bebde2",
            "37733e2e8d7a40a093bd0532ca2752c7",
            "0d727454329b4dccab8c61a823142373",
            "62bce86d53394daf9da1ada9e711a1eb",
            "1dd7088b1f024ef0b755cd99bd2e6e71",
            "5f7d6877581145beb69193ffbbfa7229",
            "266c1c62c10540f584f805f69047cdbc",
            "6115bd32f9204699b4d7f1f23857916c",
            "7e899e3692d848df85dba3dcef8e3e1b",
            "6b762a8804204db4a854eab74f724369",
            "5b3df4a5bf6441849dbd2743cb9a7de2",
            "fb77424fdfcb460fb56d2801c05b99d4",
            "a047f3ce7311476995d9f4107aaeeb5b",
            "85f0dbce2e434b30a955f6af5dc0d5eb",
            "9f0f40dbbe784591830a318d51ee1879",
            "b78573aa1b06499fadb9600f9e29b3bf",
            "7999204bccd4498fb6fa88ab1bb633ac",
            "e8679424a1984c449d3691a81db99fe9",
            "289221ed3f2041adab4a83b6db8ce3b3",
            "b770b55e198f42869e60b2b668883575",
            "c85fdc5480304dfda36a0e97231f47e4",
            "ae1be0f5abcc43b3bca51f38f4b6bc38",
            "c572652e1bbb456d9a14f16906057241",
            "47173cb1a0e34b71bdd4e5fba54fd002",
            "7cca37a717a0439ea6eb6c9f8f23a7c5",
            "b48f193fec4c49e9a53f54464f3b8569",
            "44f0be09efd943039a28a8e3853b33db",
            "85a04632446d4664a09bda133b28a2aa",
            "7bb053f7a7324554bb5cf1af8f4a08c8",
            "2d453431b5624756a8a20c9e5057993d",
            "c440867b33dc4593bdd905379175b474",
            "c8dcfd426e8b47c3b5d677a81daff15f",
            "db33ce6eb8804ca8b8b28ee467a88708",
            "20f62e26421d45a5ab1711bc54c46390",
            "35bf6ffd1ae34fdbb3200b68e943b23f",
            "cc95670c367d40cc8a25065218dbc2e4",
            "4b7bdce9be4f4ffb949654b8c3b01cec",
            "6be7077a1a1240199bc33958e4b58851",
            "3b5d5c33c96e463aa4565d68c4f7ec12",
            "761c51f9a0ad4c528fda7f7cc3a1dd41",
            "2094e078e1b445ef99183267f2f0753a",
            "479b78424bee43089f5154d2db3dfd66",
            "134c46772ba84a918409aa9ff4b837da",
            "f7fa8e23429243ddb9de0e28c1a915d1",
            "31fe26404cb54b7db798e27feb0e998c",
            "547723f3c8b949128f0699e7c18b3efe",
            "02261dbe2d30458281c0f7942d704d0a",
            "307eb079d2234435ba1e72b60d0d6f05",
            "428355181dec465ba8eb373370e0fae8",
            "e36862a964344b22b786b44a0789e044",
            "5fc97f5e15d34ee8ba10638e891a5dd1",
            "24eb0539715b4aaba12285abe81b24cd",
            "3fa6f7247925473c802a1f36f53704bd",
            "04900723270741249a0de361ef278d88",
            "a537a88d76e84097b223ea7051d3bc02",
            "05fe84439c6c4a2e852da2ad67cd95ba",
            "0aa6849cc7c140ef837323eee1bfef17",
            "cff3717e782e4b95b2db5b57b00cad35",
            "b0c1e00aa3c84fe89bfc4652f4f68efb",
            "ac8b17650bc143f8a59ac6c0e848752f",
            "f8069e805e804671942455dd4f181605",
            "0f69c40d80c9442d879a30f62745b6dd",
            "641e5606d8144c0daa8c91831e1fefed",
            "5a3f9104c9b14fc490ac9235b1bb6fe2",
            "b8113d4a414e4d78aea0fc65e4820783",
            "79b4340d5fa043fe8251a60869e96533",
            "499e91fd656049e78cee0dd3e4781a79",
            "5d2df0a4c999497abc744fd9138794d7",
            "a0c65af7b87e4ea1aa159c87b90fd1f6",
            "47faa302bc754320ac4c224cf92d36ba",
            "f1a37ef1caf04a9eaf573768644c6a98",
            "03b8ee65585a40549a81173b02e05c54",
            "57e75312150846f1b9e651a91771ed8b",
            "eb43a8051824440c8cc27ab287c60e38",
            "6a1c054d65b84498a49df70f6054b516",
            "ba9f70da9e964ee7ac0cc882a7acb98c",
            "e8aaabecff1e420c8feb5f47050daaca",
            "e1cdf02ee4204392b4415f22337880ab",
            "05d51c1877424b268e8fe96b71f677e8",
            "35371e82118d466384ceb8ed177bf1f2",
            "f7dce1fa1710458f8308a40f66a993a0",
            "af49046a63144c87b00c1d6454db9304",
            "005dc8395aac4016b7dde94d2e1b6172",
            "fb00991041ee4d64a16c815c38560b20",
            "41c94900ade4479ebcdeecf8a1e0679b",
            "eb86062c8a674957aec9ff5c89f8aa3d",
            "b9bfb53ff5df47f399ea8c6b9c4f54b7",
            "e95e04468908410a8ff5453f53e97e16",
            "0537c6001ea34588b98642ddc124a092",
            "a378013c94824347a501f3f45b820bf8",
            "fb5cd8c7ed9e4f43958c5762d7409805",
            "e901a13916db40a9be9ca7f228f03b05",
            "7aeecf18ffb74650ab9810d1d80bafe8",
            "6b20bb733da5407c966529489f84e4f9",
            "b92596af78a341c3882ce164175674b9",
            "eeee8933246b4bc080e9623cc8ca4294",
            "10a8bfc9a7414b078fd39f28dffe3359",
            "9f49e8fe32c242db808fc7bd2fb0e909"
          ]
        },
        "id": "lCYYRxwNO6wF",
        "outputId": "344a52d4-91e8-4ddd-ec6b-977ee118ee86"
      },
      "source": [
        "# for logging the best model\n",
        "network_best = None\n",
        "val_acc_best = -1\n",
        "\n",
        "# performing the sweep\n",
        "wandb.agent(sweep_id, sweep_module.train)"
      ],
      "execution_count": 55,
      "outputs": [
        {
          "output_type": "stream",
          "text": [
            "\u001b[34m\u001b[1mwandb\u001b[0m: Agent Starting Run: r6krkqlm with config:\n",
            "\u001b[34m\u001b[1mwandb\u001b[0m: \tactivation: relu\n",
            "\u001b[34m\u001b[1mwandb\u001b[0m: \tbatch_size: 32\n",
            "\u001b[34m\u001b[1mwandb\u001b[0m: \thidden_layer_size: 64\n",
            "\u001b[34m\u001b[1mwandb\u001b[0m: \tlr: 0.001\n",
            "\u001b[34m\u001b[1mwandb\u001b[0m: \tnum_epochs: 10\n",
            "\u001b[34m\u001b[1mwandb\u001b[0m: \tnum_hidden_layers: 3\n",
            "\u001b[34m\u001b[1mwandb\u001b[0m: \toptimizer: sgd\n",
            "\u001b[34m\u001b[1mwandb\u001b[0m: \tweight_decay: 0.0005\n",
            "\u001b[34m\u001b[1mwandb\u001b[0m: \tweights_initializer: xavier\n"
          ],
          "name": "stderr"
        },
        {
          "output_type": "display_data",
          "data": {
            "text/html": [
              "\n",
              "                Tracking run with wandb version 0.10.22<br/>\n",
              "                Syncing run <strong style=\"color:#cdcd00\">hopeful-sweep-1</strong> to <a href=\"https://wandb.ai\" target=\"_blank\">Weights & Biases</a> <a href=\"https://docs.wandb.com/integrations/jupyter.html\" target=\"_blank\">(Documentation)</a>.<br/>\n",
              "                Project page: <a href=\"https://wandb.ai/ramkamal/test5\" target=\"_blank\">https://wandb.ai/ramkamal/test5</a><br/>\n",
              "                Sweep page: <a href=\"https://wandb.ai/ramkamal/test5/sweeps/ip0f2ewc\" target=\"_blank\">https://wandb.ai/ramkamal/test5/sweeps/ip0f2ewc</a><br/>\n",
              "Run page: <a href=\"https://wandb.ai/ramkamal/test5/runs/r6krkqlm\" target=\"_blank\">https://wandb.ai/ramkamal/test5/runs/r6krkqlm</a><br/>\n",
              "                Run data is saved locally in <code>/content/wandb/run-20210314_090620-r6krkqlm</code><br/><br/>\n",
              "            "
            ],
            "text/plain": [
              "<IPython.core.display.HTML object>"
            ]
          },
          "metadata": {
            "tags": []
          }
        },
        {
          "output_type": "stream",
          "text": [
            "Xavier\n",
            "Random\n",
            "Random\n"
          ],
          "name": "stdout"
        },
        {
          "output_type": "display_data",
          "data": {
            "application/vnd.jupyter.widget-view+json": {
              "model_id": "a7caf3a9ba7a40b6a4a13bb32c63c93f",
              "version_minor": 0,
              "version_major": 2
            },
            "text/plain": [
              "HBox(children=(FloatProgress(value=0.0, max=1563.0), HTML(value='')))"
            ]
          },
          "metadata": {
            "tags": []
          }
        },
        {
          "output_type": "stream",
          "text": [
            "\n"
          ],
          "name": "stdout"
        },
        {
          "output_type": "display_data",
          "data": {
            "application/vnd.jupyter.widget-view+json": {
              "model_id": "c3b6ca76752649368376873db24a2604",
              "version_minor": 0,
              "version_major": 2
            },
            "text/plain": [
              "HBox(children=(FloatProgress(value=0.0, max=1563.0), HTML(value='')))"
            ]
          },
          "metadata": {
            "tags": []
          }
        },
        {
          "output_type": "stream",
          "text": [
            "\n"
          ],
          "name": "stdout"
        },
        {
          "output_type": "display_data",
          "data": {
            "application/vnd.jupyter.widget-view+json": {
              "model_id": "0d727454329b4dccab8c61a823142373",
              "version_minor": 0,
              "version_major": 2
            },
            "text/plain": [
              "HBox(children=(FloatProgress(value=0.0, max=1563.0), HTML(value='')))"
            ]
          },
          "metadata": {
            "tags": []
          }
        },
        {
          "output_type": "stream",
          "text": [
            "\n"
          ],
          "name": "stdout"
        },
        {
          "output_type": "display_data",
          "data": {
            "application/vnd.jupyter.widget-view+json": {
              "model_id": "5b3df4a5bf6441849dbd2743cb9a7de2",
              "version_minor": 0,
              "version_major": 2
            },
            "text/plain": [
              "HBox(children=(FloatProgress(value=0.0, max=1563.0), HTML(value='')))"
            ]
          },
          "metadata": {
            "tags": []
          }
        },
        {
          "output_type": "stream",
          "text": [
            "\n"
          ],
          "name": "stdout"
        },
        {
          "output_type": "display_data",
          "data": {
            "application/vnd.jupyter.widget-view+json": {
              "model_id": "289221ed3f2041adab4a83b6db8ce3b3",
              "version_minor": 0,
              "version_major": 2
            },
            "text/plain": [
              "HBox(children=(FloatProgress(value=0.0, max=1563.0), HTML(value='')))"
            ]
          },
          "metadata": {
            "tags": []
          }
        },
        {
          "output_type": "stream",
          "text": [
            "\n"
          ],
          "name": "stdout"
        },
        {
          "output_type": "display_data",
          "data": {
            "application/vnd.jupyter.widget-view+json": {
              "model_id": "44f0be09efd943039a28a8e3853b33db",
              "version_minor": 0,
              "version_major": 2
            },
            "text/plain": [
              "HBox(children=(FloatProgress(value=0.0, max=1563.0), HTML(value='')))"
            ]
          },
          "metadata": {
            "tags": []
          }
        },
        {
          "output_type": "stream",
          "text": [
            "\n"
          ],
          "name": "stdout"
        },
        {
          "output_type": "display_data",
          "data": {
            "application/vnd.jupyter.widget-view+json": {
              "model_id": "35bf6ffd1ae34fdbb3200b68e943b23f",
              "version_minor": 0,
              "version_major": 2
            },
            "text/plain": [
              "HBox(children=(FloatProgress(value=0.0, max=1563.0), HTML(value='')))"
            ]
          },
          "metadata": {
            "tags": []
          }
        },
        {
          "output_type": "stream",
          "text": [
            "\n"
          ],
          "name": "stdout"
        },
        {
          "output_type": "display_data",
          "data": {
            "application/vnd.jupyter.widget-view+json": {
              "model_id": "134c46772ba84a918409aa9ff4b837da",
              "version_minor": 0,
              "version_major": 2
            },
            "text/plain": [
              "HBox(children=(FloatProgress(value=0.0, max=1563.0), HTML(value='')))"
            ]
          },
          "metadata": {
            "tags": []
          }
        },
        {
          "output_type": "stream",
          "text": [
            "\n"
          ],
          "name": "stdout"
        },
        {
          "output_type": "display_data",
          "data": {
            "application/vnd.jupyter.widget-view+json": {
              "model_id": "5fc97f5e15d34ee8ba10638e891a5dd1",
              "version_minor": 0,
              "version_major": 2
            },
            "text/plain": [
              "HBox(children=(FloatProgress(value=0.0, max=1563.0), HTML(value='')))"
            ]
          },
          "metadata": {
            "tags": []
          }
        },
        {
          "output_type": "stream",
          "text": [
            "\n"
          ],
          "name": "stdout"
        },
        {
          "output_type": "display_data",
          "data": {
            "application/vnd.jupyter.widget-view+json": {
              "model_id": "b0c1e00aa3c84fe89bfc4652f4f68efb",
              "version_minor": 0,
              "version_major": 2
            },
            "text/plain": [
              "HBox(children=(FloatProgress(value=0.0, max=1563.0), HTML(value='')))"
            ]
          },
          "metadata": {
            "tags": []
          }
        },
        {
          "output_type": "stream",
          "text": [
            "\n"
          ],
          "name": "stdout"
        },
        {
          "output_type": "display_data",
          "data": {
            "text/html": [
              "<br/>Waiting for W&B process to finish, PID 3346<br/>Program ended successfully."
            ],
            "text/plain": [
              "<IPython.core.display.HTML object>"
            ]
          },
          "metadata": {
            "tags": []
          }
        },
        {
          "output_type": "display_data",
          "data": {
            "application/vnd.jupyter.widget-view+json": {
              "model_id": "499e91fd656049e78cee0dd3e4781a79",
              "version_minor": 0,
              "version_major": 2
            },
            "text/plain": [
              "VBox(children=(Label(value=' 0.00MB of 0.00MB uploaded (0.00MB deduped)\\r'), FloatProgress(value=1.0, max=1.0)…"
            ]
          },
          "metadata": {
            "tags": []
          }
        },
        {
          "output_type": "display_data",
          "data": {
            "text/html": [
              "Find user logs for this run at: <code>/content/wandb/run-20210314_090620-r6krkqlm/logs/debug.log</code>"
            ],
            "text/plain": [
              "<IPython.core.display.HTML object>"
            ]
          },
          "metadata": {
            "tags": []
          }
        },
        {
          "output_type": "display_data",
          "data": {
            "text/html": [
              "Find internal logs for this run at: <code>/content/wandb/run-20210314_090620-r6krkqlm/logs/debug-internal.log</code>"
            ],
            "text/plain": [
              "<IPython.core.display.HTML object>"
            ]
          },
          "metadata": {
            "tags": []
          }
        },
        {
          "output_type": "display_data",
          "data": {
            "text/html": [
              "<h3>Run summary:</h3><br/><style>\n",
              "    table.wandb td:nth-child(1) { padding: 0 10px; text-align: right }\n",
              "    </style><table class=\"wandb\">\n",
              "<tr><td>batch_size</td><td>32</td></tr><tr><td>val_loss</td><td>1.15712</td></tr><tr><td>train_loss</td><td>1.15816</td></tr><tr><td>train_acc</td><td>0.6323</td></tr><tr><td>val_acc</td><td>0.6258</td></tr><tr><td>_runtime</td><td>108</td></tr><tr><td>_timestamp</td><td>1615712888</td></tr><tr><td>_step</td><td>9</td></tr></table>"
            ],
            "text/plain": [
              "<IPython.core.display.HTML object>"
            ]
          },
          "metadata": {
            "tags": []
          }
        },
        {
          "output_type": "display_data",
          "data": {
            "text/html": [
              "<h3>Run history:</h3><br/><style>\n",
              "    table.wandb td:nth-child(1) { padding: 0 10px; text-align: right }\n",
              "    </style><table class=\"wandb\">\n",
              "<tr><td>batch_size</td><td>▁▁▁▁▁▁▁▁▁▁</td></tr><tr><td>val_loss</td><td>▁██▆▅▄▃▄▅▅</td></tr><tr><td>train_loss</td><td>▁▇█▆▅▄▃▄▅▅</td></tr><tr><td>train_acc</td><td>█▃▃▂▃▅▂▃▂▁</td></tr><tr><td>val_acc</td><td>█▃▃▃▄▅▂▃▂▁</td></tr><tr><td>_runtime</td><td>▁▂▂▃▃▄▅▆▇█</td></tr><tr><td>_timestamp</td><td>▁▂▂▃▃▄▅▆▇█</td></tr><tr><td>_step</td><td>▁▂▃▃▄▅▆▆▇█</td></tr></table><br/>"
            ],
            "text/plain": [
              "<IPython.core.display.HTML object>"
            ]
          },
          "metadata": {
            "tags": []
          }
        },
        {
          "output_type": "display_data",
          "data": {
            "text/html": [
              "Synced 5 W&B file(s), 0 media file(s), 0 artifact file(s) and 0 other file(s)"
            ],
            "text/plain": [
              "<IPython.core.display.HTML object>"
            ]
          },
          "metadata": {
            "tags": []
          }
        },
        {
          "output_type": "display_data",
          "data": {
            "text/html": [
              "\n",
              "                    <br/>Synced <strong style=\"color:#cdcd00\">hopeful-sweep-1</strong>: <a href=\"https://wandb.ai/ramkamal/test5/runs/r6krkqlm\" target=\"_blank\">https://wandb.ai/ramkamal/test5/runs/r6krkqlm</a><br/>\n",
              "                "
            ],
            "text/plain": [
              "<IPython.core.display.HTML object>"
            ]
          },
          "metadata": {
            "tags": []
          }
        },
        {
          "output_type": "stream",
          "text": [
            "\u001b[34m\u001b[1mwandb\u001b[0m: Agent Starting Run: 1bdbfinj with config:\n",
            "\u001b[34m\u001b[1mwandb\u001b[0m: \tactivation: relu\n",
            "\u001b[34m\u001b[1mwandb\u001b[0m: \tbatch_size: 32\n",
            "\u001b[34m\u001b[1mwandb\u001b[0m: \thidden_layer_size: 64\n",
            "\u001b[34m\u001b[1mwandb\u001b[0m: \tlr: 0.001\n",
            "\u001b[34m\u001b[1mwandb\u001b[0m: \tnum_epochs: 10\n",
            "\u001b[34m\u001b[1mwandb\u001b[0m: \tnum_hidden_layers: 3\n",
            "\u001b[34m\u001b[1mwandb\u001b[0m: \toptimizer: sgd\n",
            "\u001b[34m\u001b[1mwandb\u001b[0m: \tweight_decay: 0.0005\n",
            "\u001b[34m\u001b[1mwandb\u001b[0m: \tweights_initializer: xavier\n"
          ],
          "name": "stderr"
        },
        {
          "output_type": "display_data",
          "data": {
            "text/html": [
              "\n",
              "                Tracking run with wandb version 0.10.22<br/>\n",
              "                Syncing run <strong style=\"color:#cdcd00\">astral-sweep-2</strong> to <a href=\"https://wandb.ai\" target=\"_blank\">Weights & Biases</a> <a href=\"https://docs.wandb.com/integrations/jupyter.html\" target=\"_blank\">(Documentation)</a>.<br/>\n",
              "                Project page: <a href=\"https://wandb.ai/ramkamal/test5\" target=\"_blank\">https://wandb.ai/ramkamal/test5</a><br/>\n",
              "                Sweep page: <a href=\"https://wandb.ai/ramkamal/test5/sweeps/ip0f2ewc\" target=\"_blank\">https://wandb.ai/ramkamal/test5/sweeps/ip0f2ewc</a><br/>\n",
              "Run page: <a href=\"https://wandb.ai/ramkamal/test5/runs/1bdbfinj\" target=\"_blank\">https://wandb.ai/ramkamal/test5/runs/1bdbfinj</a><br/>\n",
              "                Run data is saved locally in <code>/content/wandb/run-20210314_090813-1bdbfinj</code><br/><br/>\n",
              "            "
            ],
            "text/plain": [
              "<IPython.core.display.HTML object>"
            ]
          },
          "metadata": {
            "tags": []
          }
        },
        {
          "output_type": "stream",
          "text": [
            "Xavier\n",
            "Random\n",
            "Random\n"
          ],
          "name": "stdout"
        },
        {
          "output_type": "display_data",
          "data": {
            "application/vnd.jupyter.widget-view+json": {
              "model_id": "6a1c054d65b84498a49df70f6054b516",
              "version_minor": 0,
              "version_major": 2
            },
            "text/plain": [
              "HBox(children=(FloatProgress(value=0.0, max=1563.0), HTML(value='')))"
            ]
          },
          "metadata": {
            "tags": []
          }
        },
        {
          "output_type": "stream",
          "text": [
            "\n"
          ],
          "name": "stdout"
        },
        {
          "output_type": "display_data",
          "data": {
            "application/vnd.jupyter.widget-view+json": {
              "model_id": "005dc8395aac4016b7dde94d2e1b6172",
              "version_minor": 0,
              "version_major": 2
            },
            "text/plain": [
              "HBox(children=(FloatProgress(value=0.0, max=1563.0), HTML(value='')))"
            ]
          },
          "metadata": {
            "tags": []
          }
        },
        {
          "output_type": "stream",
          "text": [
            "\n"
          ],
          "name": "stdout"
        },
        {
          "output_type": "display_data",
          "data": {
            "application/vnd.jupyter.widget-view+json": {
              "model_id": "fb5cd8c7ed9e4f43958c5762d7409805",
              "version_minor": 0,
              "version_major": 2
            },
            "text/plain": [
              "HBox(children=(FloatProgress(value=0.0, max=1563.0), HTML(value='')))"
            ]
          },
          "metadata": {
            "tags": []
          }
        },
        {
          "output_type": "stream",
          "text": [
            "\u001b[34m\u001b[1mwandb\u001b[0m: Ctrl + C detected. Stopping sweep.\n"
          ],
          "name": "stderr"
        },
        {
          "output_type": "display_data",
          "data": {
            "text/html": [
              "<br/>Waiting for W&B process to finish, PID 3397<br/>Program failed with code 1.  Press ctrl-c to abort syncing."
            ],
            "text/plain": [
              "<IPython.core.display.HTML object>"
            ]
          },
          "metadata": {
            "tags": []
          }
        }
      ]
    },
    {
      "cell_type": "code",
      "metadata": {
        "id": "J4KTU83FO6wG"
      },
      "source": [
        "nn_shape = {'input_layer_size': 784, 'hidden_layer_size': 64, 'output_layer_size': 10, 'num_hidden_layers': 5}"
      ],
      "execution_count": 18,
      "outputs": []
    },
    {
      "cell_type": "code",
      "metadata": {
        "id": "QUns-LmFO6wG"
      },
      "source": [
        "init = 'random'"
      ],
      "execution_count": 19,
      "outputs": []
    },
    {
      "cell_type": "code",
      "metadata": {
        "id": "AY4ab_ELO6wH",
        "colab": {
          "base_uri": "https://localhost:8080/",
          "height": 102
        },
        "outputId": "a6233e7f-30f3-4a50-d74e-7e5a38520c41"
      },
      "source": [
        "neural_network(nn_shape, init)"
      ],
      "execution_count": 20,
      "outputs": [
        {
          "output_type": "display_data",
          "data": {
            "text/html": [
              "<br/>Waiting for W&B process to finish, PID 2685<br/>Program failed with code 1.  Press ctrl-c to abort syncing."
            ],
            "text/plain": [
              "<IPython.core.display.HTML object>"
            ]
          },
          "metadata": {
            "tags": []
          }
        },
        {
          "output_type": "stream",
          "text": [
            "Random\n"
          ],
          "name": "stdout"
        },
        {
          "output_type": "execute_result",
          "data": {
            "text/plain": [
              "<__main__.neural_network at 0x7f6de3453c10>"
            ]
          },
          "metadata": {
            "tags": []
          },
          "execution_count": 20
        }
      ]
    },
    {
      "cell_type": "code",
      "metadata": {
        "id": "cAVEzbsyO6wH"
      },
      "source": [
        "nn_shape = {'input_layer_size': 784, 'hidden_layer_size': 64, 'output_layer_size': 10, 'num_hidden_layers': 3}"
      ],
      "execution_count": 21,
      "outputs": []
    },
    {
      "cell_type": "code",
      "metadata": {
        "id": "vLIAvg5EodzD",
        "colab": {
          "base_uri": "https://localhost:8080/"
        },
        "outputId": "bdbe0b58-1d73-4b01-a178-e2d9ac9b8ace"
      },
      "source": [
        "a, b = wandb_initializer(nn_shape,\n",
        "                  [],\n",
        "                  [],\n",
        "                  'random',\n",
        "                  0,\n",
        "                  0)"
      ],
      "execution_count": 22,
      "outputs": [
        {
          "output_type": "stream",
          "text": [
            "Random\n"
          ],
          "name": "stdout"
        }
      ]
    },
    {
      "cell_type": "code",
      "metadata": {
        "id": "DKpkfVErolKn"
      },
      "source": [
        "a.reverse()"
      ],
      "execution_count": 23,
      "outputs": []
    },
    {
      "cell_type": "code",
      "metadata": {
        "id": "S2AR3FRbo3hJ",
        "colab": {
          "base_uri": "https://localhost:8080/"
        },
        "outputId": "c0a5ef9a-3c67-4b2e-ea19-bbec8d164f34"
      },
      "source": [
        "help(wandb.agent)"
      ],
      "execution_count": 24,
      "outputs": [
        {
          "output_type": "stream",
          "text": [
            "Help on function agent in module wandb.wandb_agent:\n",
            "\n",
            "agent(sweep_id, function=None, entity=None, project=None, count=None)\n",
            "    Generic agent entrypoint, used for CLI or jupyter.\n",
            "    \n",
            "    Will run a function or program with configuration parameters specified\n",
            "    by server.\n",
            "    \n",
            "    Arguments:\n",
            "        sweep_id: (dict) Sweep ID generated by CLI or sweep API\n",
            "        function: (func, optional) A function to call instead of the \"program\"\n",
            "            specifed in the config.\n",
            "        entity: (str, optional) W&B Entity\n",
            "        project: (str, optional) W&B Project\n",
            "        count: (int, optional) the number of trials to run.\n",
            "    \n",
            "    Examples:\n",
            "        Run a sample sweep over a function:\n",
            "        ```\n",
            "        def train():\n",
            "            with wandb.init() as run:\n",
            "                print(\"config:\", dict(run.config))\n",
            "                for epoch in range(35):\n",
            "                    print(\"running\", epoch)\n",
            "                    wandb.log({\"metric\": run.config.param1, \"epoch\": epoch})\n",
            "                    time.sleep(1)\n",
            "    \n",
            "        wandb.agent(sweep_id, function=train)\n",
            "        ```\n",
            "\n"
          ],
          "name": "stdout"
        }
      ]
    },
    {
      "cell_type": "code",
      "metadata": {
        "id": "kX3FouHNtQNO"
      },
      "source": [
        ""
      ],
      "execution_count": 24,
      "outputs": []
    }
  ]
}